{
 "cells": [
  {
   "cell_type": "markdown",
   "metadata": {},
   "source": [
    "ATTENTION: \n",
    "\n",
    "This notebook requires chartify to run. You can install chartify with 'pip install chartify' from you terminal.\n",
    "In addition, please ensure that 'num_of_games.csv' is in your working directory\n",
    "     "
   ]
  },
  {
   "cell_type": "code",
   "execution_count": 52,
   "metadata": {},
   "outputs": [],
   "source": [
    "def plotGenreCount1(fname):\n",
    "    '''\n",
    "    Makes a plot of the number of games that belong to each genre in\n",
    "    Our Dataset\n",
    "    \n",
    "    :fname (str): The name of the file that contains the dataframe [must be a .csv file]\n",
    "    '''\n",
    "    assert isinstance(fname, str) and '.csv' in fname, \"Input is not string name of a .csv file!\"\n",
    "        \n",
    "    data = pd.read_csv(fname)\n",
    "    \n",
    "    chart = ch.Chart(blank_labels=True, x_axis_type='categorical')\n",
    "    \n",
    "    chart.set_title('Top 10 Most Frequent Game Genres on Steam')\n",
    "    chart.axes.set_xaxis_label('Genre')\n",
    "    chart.axes.set_yaxis_label('Number of Games with Genre')\n",
    "    chart.set_source_label('Steam Website')\n",
    "    chart.plot.bar(data_frame=data, \n",
    "                   categorical_columns='word', \n",
    "                   numeric_column='count', \n",
    "                   color_column='count')\n",
    "    \n",
    "    chart.style.color_palette.reset_palette_order()\n",
    "    \n",
    "    chart.plot.text(data_frame=data,\n",
    "        categorical_columns='word',\n",
    "        numeric_column='count',\n",
    "        text_column='count')\n",
    "    \n",
    "    # Adjust the axis range to prevent clipping of the text labels.\n",
    "    chart.axes.set_yaxis_range(0, 11000)\n",
    "    \n",
    "    chart.show()"
   ]
  },
  {
   "cell_type": "code",
   "execution_count": 53,
   "metadata": {},
   "outputs": [],
   "source": [
    "def plotGenreCount2(fname):\n",
    "    '''\n",
    "    Makes a plot of the number of games that belong to each genre in\n",
    "    Our Dataset\n",
    "    \n",
    "    :fname (str): The name of the file that contains the dataframe [must be a .csv file]\n",
    "    '''\n",
    "    assert isinstance(fname, str) and '.csv' in fname, \"Input is not string name of a .csv file!\"\n",
    "        \n",
    "    data = pd.read_csv(fname)\n",
    "    \n",
    "    chart = ch.Chart(blank_labels=True, x_axis_type='categorical')\n",
    "    \n",
    "    chart.set_title('Top 10 Game Genres on Steam')\n",
    "    chart.axes.set_xaxis_label('Genre')\n",
    "    chart.axes.set_yaxis_label('Number of Games with Genre')\n",
    "    chart.set_source_label('Steam Website')\n",
    "    chart.plot.bar(data_frame=data, \n",
    "                   categorical_columns='word', \n",
    "                   numeric_column='count')\n",
    "    \n",
    "    chart.style.color_palette.reset_palette_order()\n",
    "    \n",
    "    chart.plot.text(data_frame=data,\n",
    "        categorical_columns='word',\n",
    "        numeric_column='count',\n",
    "        text_column='count')\n",
    "    \n",
    "    # Adjust the axis range to prevent clipping of the text labels.\n",
    "    chart.axes.set_yaxis_range(0, 30)\n",
    "    \n",
    "    chart.show()"
   ]
  },
  {
   "cell_type": "code",
   "execution_count": 54,
   "metadata": {},
   "outputs": [],
   "source": [
    "import pandas as pd\n",
    "import chartify as ch\n",
    "\n",
    "def main():\n",
    "    \n",
    "    plotGenreCount1('df_wordcount_all.csv')\n",
    "    plotGenreCount2('df_wordcount_100_most.csv')"
   ]
  },
  {
   "cell_type": "code",
   "execution_count": 55,
   "metadata": {},
   "outputs": [
    {
     "ename": "ValueError",
     "evalue": "`color_column` must be present\n                         in the `categorical_columns`",
     "output_type": "error",
     "traceback": [
      "\u001b[0;31m---------------------------------------------------------------------------\u001b[0m",
      "\u001b[0;31mValueError\u001b[0m                                Traceback (most recent call last)",
      "\u001b[0;32m~/miniconda3/lib/python3.7/site-packages/chartify/_core/plot.py\u001b[0m in \u001b[0;36m_get_color_and_order\u001b[0;34m(self, data_frame, color_column, color_order, categorical_columns)\u001b[0m\n\u001b[1;32m     92\u001b[0m                 \u001b[0;32mtry\u001b[0m\u001b[0;34m:\u001b[0m\u001b[0;34m\u001b[0m\u001b[0m\n\u001b[0;32m---> 93\u001b[0;31m                     \u001b[0mcolor_index\u001b[0m \u001b[0;34m=\u001b[0m \u001b[0mcategorical_columns\u001b[0m\u001b[0;34m.\u001b[0m\u001b[0mindex\u001b[0m\u001b[0;34m(\u001b[0m\u001b[0mcolor_column\u001b[0m\u001b[0;34m)\u001b[0m\u001b[0;34m\u001b[0m\u001b[0m\n\u001b[0m\u001b[1;32m     94\u001b[0m                 \u001b[0;32mexcept\u001b[0m \u001b[0mValueError\u001b[0m\u001b[0;34m:\u001b[0m\u001b[0;34m\u001b[0m\u001b[0m\n",
      "\u001b[0;31mValueError\u001b[0m: substring not found",
      "\nDuring handling of the above exception, another exception occurred:\n",
      "\u001b[0;31mValueError\u001b[0m                                Traceback (most recent call last)",
      "\u001b[0;32m<ipython-input-55-972361fa1b80>\u001b[0m in \u001b[0;36m<module>\u001b[0;34m\u001b[0m\n\u001b[1;32m      1\u001b[0m \u001b[0;32mif\u001b[0m \u001b[0m__name__\u001b[0m \u001b[0;34m==\u001b[0m \u001b[0;34m\"__main__\"\u001b[0m\u001b[0;34m:\u001b[0m\u001b[0;34m\u001b[0m\u001b[0m\n\u001b[0;32m----> 2\u001b[0;31m     \u001b[0mmain\u001b[0m\u001b[0;34m(\u001b[0m\u001b[0;34m)\u001b[0m\u001b[0;34m\u001b[0m\u001b[0m\n\u001b[0m",
      "\u001b[0;32m<ipython-input-54-0671fbb374bf>\u001b[0m in \u001b[0;36mmain\u001b[0;34m()\u001b[0m\n\u001b[1;32m      4\u001b[0m \u001b[0;32mdef\u001b[0m \u001b[0mmain\u001b[0m\u001b[0;34m(\u001b[0m\u001b[0;34m)\u001b[0m\u001b[0;34m:\u001b[0m\u001b[0;34m\u001b[0m\u001b[0m\n\u001b[1;32m      5\u001b[0m \u001b[0;34m\u001b[0m\u001b[0m\n\u001b[0;32m----> 6\u001b[0;31m     \u001b[0mplotGenreCount1\u001b[0m\u001b[0;34m(\u001b[0m\u001b[0;34m'df_wordcount_all.csv'\u001b[0m\u001b[0;34m)\u001b[0m\u001b[0;34m\u001b[0m\u001b[0m\n\u001b[0m\u001b[1;32m      7\u001b[0m     \u001b[0mplotGenreCount2\u001b[0m\u001b[0;34m(\u001b[0m\u001b[0;34m'df_wordcount_100_most.csv'\u001b[0m\u001b[0;34m)\u001b[0m\u001b[0;34m\u001b[0m\u001b[0m\n",
      "\u001b[0;32m<ipython-input-52-0ac1ac637bda>\u001b[0m in \u001b[0;36mplotGenreCount1\u001b[0;34m(fname)\u001b[0m\n\u001b[1;32m     18\u001b[0m     chart.plot.bar(data_frame=data, \n\u001b[1;32m     19\u001b[0m                    \u001b[0mcategorical_columns\u001b[0m\u001b[0;34m=\u001b[0m\u001b[0;34m'word'\u001b[0m\u001b[0;34m,\u001b[0m\u001b[0;34m\u001b[0m\u001b[0m\n\u001b[0;32m---> 20\u001b[0;31m                    numeric_column='count', color_column='count')\n\u001b[0m\u001b[1;32m     21\u001b[0m \u001b[0;34m\u001b[0m\u001b[0m\n\u001b[1;32m     22\u001b[0m     \u001b[0mchart\u001b[0m\u001b[0;34m.\u001b[0m\u001b[0mstyle\u001b[0m\u001b[0;34m.\u001b[0m\u001b[0mcolor_palette\u001b[0m\u001b[0;34m.\u001b[0m\u001b[0mreset_palette_order\u001b[0m\u001b[0;34m(\u001b[0m\u001b[0;34m)\u001b[0m\u001b[0;34m\u001b[0m\u001b[0m\n",
      "\u001b[0;32m~/miniconda3/lib/python3.7/site-packages/chartify/_core/plot.py\u001b[0m in \u001b[0;36mbar\u001b[0;34m(self, data_frame, categorical_columns, numeric_column, color_column, color_order, categorical_order_by, categorical_order_ascending)\u001b[0m\n\u001b[1;32m   1358\u001b[0m \u001b[0;34m\u001b[0m\u001b[0m\n\u001b[1;32m   1359\u001b[0m         colors, _ = self._get_color_and_order(data_frame, color_column,\n\u001b[0;32m-> 1360\u001b[0;31m                                               color_order, categorical_columns)\n\u001b[0m\u001b[1;32m   1361\u001b[0m         \u001b[0;32mif\u001b[0m \u001b[0mcolor_column\u001b[0m \u001b[0;32mis\u001b[0m \u001b[0;32mNone\u001b[0m\u001b[0;34m:\u001b[0m\u001b[0;34m\u001b[0m\u001b[0m\n\u001b[1;32m   1362\u001b[0m             \u001b[0mcolors\u001b[0m \u001b[0;34m=\u001b[0m \u001b[0mcolors\u001b[0m\u001b[0;34m[\u001b[0m\u001b[0;36m0\u001b[0m\u001b[0;34m]\u001b[0m\u001b[0;34m\u001b[0m\u001b[0m\n",
      "\u001b[0;32m~/miniconda3/lib/python3.7/site-packages/chartify/_core/plot.py\u001b[0m in \u001b[0;36m_get_color_and_order\u001b[0;34m(self, data_frame, color_column, color_order, categorical_columns)\u001b[0m\n\u001b[1;32m     95\u001b[0m                     raise ValueError(\n\u001b[1;32m     96\u001b[0m                         '''`color_column` must be present\n\u001b[0;32m---> 97\u001b[0;31m                          in the `categorical_columns`'''\n\u001b[0m\u001b[1;32m     98\u001b[0m                     )\n\u001b[1;32m     99\u001b[0m                 \u001b[0mcolor_order\u001b[0m \u001b[0;34m=\u001b[0m \u001b[0;34m[\u001b[0m\u001b[0mstr\u001b[0m\u001b[0;34m(\u001b[0m\u001b[0mfactor\u001b[0m\u001b[0;34m)\u001b[0m \u001b[0;32mfor\u001b[0m \u001b[0mfactor\u001b[0m \u001b[0;32min\u001b[0m \u001b[0mcolor_order\u001b[0m\u001b[0;34m]\u001b[0m\u001b[0;34m\u001b[0m\u001b[0m\n",
      "\u001b[0;31mValueError\u001b[0m: `color_column` must be present\n                         in the `categorical_columns`"
     ]
    }
   ],
   "source": [
    "if __name__ == \"__main__\":\n",
    "    main()"
   ]
  },
  {
   "cell_type": "code",
   "execution_count": null,
   "metadata": {},
   "outputs": [],
   "source": []
  }
 ],
 "metadata": {
  "kernelspec": {
   "display_name": "Python 3",
   "language": "python",
   "name": "python3"
  },
  "language_info": {
   "codemirror_mode": {
    "name": "ipython",
    "version": 3
   },
   "file_extension": ".py",
   "mimetype": "text/x-python",
   "name": "python",
   "nbconvert_exporter": "python",
   "pygments_lexer": "ipython3",
   "version": "3.7.0"
  }
 },
 "nbformat": 4,
 "nbformat_minor": 2
}
