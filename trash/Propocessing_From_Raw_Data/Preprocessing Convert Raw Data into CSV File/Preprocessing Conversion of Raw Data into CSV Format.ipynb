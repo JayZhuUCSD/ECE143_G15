{
 "cells": [
  {
   "cell_type": "markdown",
   "metadata": {},
   "source": [
    "This notebook is to convert our raw data file which is in a .jl format into standard CSV format so as to facilitate further analysis and visualization"
   ]
  },
  {
   "cell_type": "code",
   "execution_count": 1,
   "metadata": {},
   "outputs": [
    {
     "ename": "FileNotFoundError",
     "evalue": "[Errno 2] No such file or directory: 'products_all.jl'",
     "output_type": "error",
     "traceback": [
      "\u001b[0;31m---------------------------------------------------------------------------\u001b[0m",
      "\u001b[0;31mFileNotFoundError\u001b[0m                         Traceback (most recent call last)",
      "\u001b[0;32m<ipython-input-1-1dd575347c09>\u001b[0m in \u001b[0;36m<module>\u001b[0;34m\u001b[0m\n\u001b[1;32m     52\u001b[0m     \u001b[0;32mreturn\u001b[0m \u001b[0mdf_used\u001b[0m\u001b[0;34m\u001b[0m\u001b[0m\n\u001b[1;32m     53\u001b[0m \u001b[0;34m\u001b[0m\u001b[0m\n\u001b[0;32m---> 54\u001b[0;31m \u001b[0mdf_used\u001b[0m\u001b[0;34m=\u001b[0m\u001b[0mconvertJLtoDataFrame\u001b[0m\u001b[0;34m(\u001b[0m\u001b[0;34m)\u001b[0m\u001b[0;34m\u001b[0m\u001b[0m\n\u001b[0m\u001b[1;32m     55\u001b[0m \u001b[0mdf_used\u001b[0m\u001b[0;34m.\u001b[0m\u001b[0mto_csv\u001b[0m\u001b[0;34m(\u001b[0m\u001b[0;34m'Steam_Gaming_Apps_Dataset.csv'\u001b[0m\u001b[0;34m)\u001b[0m\u001b[0;34m\u001b[0m\u001b[0m\n",
      "\u001b[0;32m<ipython-input-1-1dd575347c09>\u001b[0m in \u001b[0;36mconvertJLtoDataFrame\u001b[0;34m(fname, key_list_used)\u001b[0m\n\u001b[1;32m     15\u001b[0m \u001b[0;34m\u001b[0m\u001b[0m\n\u001b[1;32m     16\u001b[0m     \u001b[0;31m# Make the data into a list of all strings\u001b[0m\u001b[0;34m\u001b[0m\u001b[0;34m\u001b[0m\u001b[0m\n\u001b[0;32m---> 17\u001b[0;31m     \u001b[0;32mwith\u001b[0m \u001b[0mopen\u001b[0m\u001b[0;34m(\u001b[0m\u001b[0mfname\u001b[0m\u001b[0;34m,\u001b[0m\u001b[0;34m'r'\u001b[0m\u001b[0;34m,\u001b[0m\u001b[0mencoding\u001b[0m\u001b[0;34m=\u001b[0m\u001b[0;34m'utf8'\u001b[0m\u001b[0;34m)\u001b[0m \u001b[0;32mas\u001b[0m \u001b[0mf\u001b[0m\u001b[0;34m:\u001b[0m\u001b[0;34m\u001b[0m\u001b[0m\n\u001b[0m\u001b[1;32m     18\u001b[0m         \u001b[0mmylist\u001b[0m \u001b[0;34m=\u001b[0m \u001b[0;34m[\u001b[0m\u001b[0mline\u001b[0m\u001b[0;34m.\u001b[0m\u001b[0mrstrip\u001b[0m\u001b[0;34m(\u001b[0m\u001b[0;34m'\\n'\u001b[0m\u001b[0;34m)\u001b[0m \u001b[0;32mfor\u001b[0m \u001b[0mline\u001b[0m \u001b[0;32min\u001b[0m \u001b[0mf\u001b[0m\u001b[0;34m]\u001b[0m\u001b[0;34m\u001b[0m\u001b[0m\n\u001b[1;32m     19\u001b[0m \u001b[0;34m\u001b[0m\u001b[0m\n",
      "\u001b[0;31mFileNotFoundError\u001b[0m: [Errno 2] No such file or directory: 'products_all.jl'"
     ]
    }
   ],
   "source": [
    "def convertJLtoDataFrame(fname='products_all.jl', key_list_used=['id','title','specs','tags','app_name','all_ratio','recent_ratio','metascore','developer','publisher','genres','sentiment','price','platform','release_date']):\n",
    "    '''\n",
    "    Convert the raw data in .jl format to a DataFrame\n",
    "    \n",
    "    :fname: str name of a .jl file with data (defaults to 'products_all.jl' which is our data)\n",
    "    \n",
    "    :key_list_used: a list of strings that are the name of features in the data \n",
    "    (Defaults to just three features 'all_ratio, platform, genres' as a demo for our analysis)\n",
    "    '''\n",
    "    assert isinstance(fname, str) and '.jl' in fname, \"fname is not a valid str name of a .jl file containing data!\"\n",
    "        \n",
    "    assert isinstance(key_list_used, list), \"key_list_used is not a valid list of genres\"\n",
    "        \n",
    "    import pandas as pd\n",
    "        \n",
    "    # Make the data into a list of all strings\n",
    "    with open(fname,'r',encoding='utf8') as f:\n",
    "        mylist = [line.rstrip('\\n') for line in f]\n",
    "\n",
    "    data_length = len(mylist)\n",
    "    data_list = []\n",
    "\n",
    "    # Convert the strings to dictionaries\n",
    "    import json\n",
    "    for i in mylist:\n",
    "        d=json.loads(i)\n",
    "        data_list.append(d)\n",
    "        \n",
    "    list_keys = list(data_list[0].keys())\n",
    "\n",
    "    value_list_used = []\n",
    "    key_list = []\n",
    "    \n",
    "    for i in key_list_used:\n",
    "        key_list.append(i)\n",
    "        value_list_used.append([])\n",
    "\n",
    "    for i in data_list:\n",
    "        # features w/o any values return None\n",
    "        index = 0\n",
    "        for key in key_list:\n",
    "            value_list_used[index].append(i.get(key))\n",
    "            index += 1\n",
    "\n",
    "    # value_list_used = [value_list1,value_list2,value_list3]\n",
    "    dic_used = dict(zip(key_list_used,value_list_used))\n",
    "\n",
    "    # Convert to DataFrame\n",
    "    df_used = pd.DataFrame(dic_used)\n",
    "    \n",
    "    # Return dataframe of the data from the .jl file\n",
    "    return df_used\n",
    "\n",
    "df_used=convertJLtoDataFrame()\n",
    "df_used.to_csv('Steam_Gaming_Apps_Dataset.csv')"
   ]
  },
  {
   "cell_type": "code",
   "execution_count": null,
   "metadata": {},
   "outputs": [],
   "source": [
    "df_used"
   ]
  },
  {
   "cell_type": "code",
   "execution_count": null,
   "metadata": {},
   "outputs": [],
   "source": []
  }
 ],
 "metadata": {
  "kernelspec": {
   "display_name": "Python 3",
   "language": "python",
   "name": "python3"
  },
  "language_info": {
   "codemirror_mode": {
    "name": "ipython",
    "version": 3
   },
   "file_extension": ".py",
   "mimetype": "text/x-python",
   "name": "python",
   "nbconvert_exporter": "python",
   "pygments_lexer": "ipython3",
   "version": "3.7.0"
  }
 },
 "nbformat": 4,
 "nbformat_minor": 2
}
