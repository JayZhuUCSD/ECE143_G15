{
 "cells": [
  {
   "cell_type": "code",
   "execution_count": 1,
   "metadata": {},
   "outputs": [],
   "source": [
    "# this file is to generate the positive_review_rank feature on the basis of which the new dataframe is created\n",
    "import pandas as pd\n",
    "import random\n",
    "import numpy as np\n",
    "data2 = pd.read_csv('data1.csv', index_col = 0)\n",
    "\n",
    "# generate the positive_review feauture\n",
    "positive_review = []\n",
    "for index, row in data2.iterrows():\n",
    "    if 'positive' in row['all_ratio']:\n",
    "        for i in row['all_ratio'].split():\n",
    "            if i.isdigit():\n",
    "                all_review = int(i)\n",
    "            if '%' in i:\n",
    "                for j in i.split('%'):\n",
    "                    if j.isdigit():\n",
    "                        all_ratio = int(j)\n",
    "        positive_review.append(round(all_review*all_ratio/100))\n",
    "    else:\n",
    "        positive_review.append(np.nan)\n",
    "\n",
    "#sort out the dataframe according to positive_review_rank\n",
    "data2['positive_review'] = positive_review\n",
    "\n",
    "data2['positive_review_rank'] = data2['positive_review'].rank(ascending=0,method='min')\n",
    "data2 = data2.sort_values(by = ['positive_review_rank'])\n",
    "\n",
    "data2.to_csv('data2.csv')\n"
   ]
  },
  {
   "cell_type": "code",
   "execution_count": 2,
   "metadata": {},
   "outputs": [],
   "source": [
    "import pandas as pd\n",
    "import numpy as np\n",
    "\n",
    "data4 = pd.read_csv('data2.csv', index_col=0)\n",
    "data4['positive_review_rank'] = data4['positive_review_rank'].fillna(0).astype(int)\n",
    "data4 = data4.loc[data4['positive_review_rank'].isin(range(1,1000))]\n",
    "\n",
    "data4.to_csv('data4.csv')"
   ]
  },
  {
   "cell_type": "code",
   "execution_count": null,
   "metadata": {},
   "outputs": [],
   "source": []
  },
  {
   "cell_type": "code",
   "execution_count": null,
   "metadata": {},
   "outputs": [],
   "source": []
  }
 ],
 "metadata": {
  "kernelspec": {
   "display_name": "Python 3",
   "language": "python",
   "name": "python3"
  },
  "language_info": {
   "codemirror_mode": {
    "name": "ipython",
    "version": 3
   },
   "file_extension": ".py",
   "mimetype": "text/x-python",
   "name": "python",
   "nbconvert_exporter": "python",
   "pygments_lexer": "ipython3",
   "version": "3.7.0"
  }
 },
 "nbformat": 4,
 "nbformat_minor": 2
}
