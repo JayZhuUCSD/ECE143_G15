{
 "cells": [
  {
   "cell_type": "code",
   "execution_count": null,
   "metadata": {},
   "outputs": [],
   "source": [
    "def plotDeveloperCount1(df, x_axis, y_axis):\n",
    "    '''\n",
    "    Makes a plot of the number of games that belong to each genre in\n",
    "    Our Dataset\n",
    "    \n",
    "    :fname (str): The name of the file that contains the dataframe [must be a .csv file]\n",
    "    '''\n",
    "    assert isinstance(fname, str) and '.csv' in fname, \"Input is not str name of a .csv file!\"\n",
    "    assert isinstance(x_axis, str) and isinstance(y_axis, str), \"x_axis and/or y_axis are not string names\"\n",
    "    \n",
    "    data = pd.read_csv(fname)\n",
    "    \n",
    "    # Create a Chartify object for this plot\n",
    "    chart = ch.Chart(blank_labels=True, y_axis_type='categorical')\n",
    "    \n",
    "    chart.set_title('Top 10 Developers with the Most Games on Steam')\n",
    "    chart.axes.set_xaxis_label('Number of Games')\n",
    "    chart.axes.set_yaxis_label('Developers')\n",
    "    chart.set_source_label('Steam Website')\n",
    "    chart.plot.bar(data_frame=data, \n",
    "                   categorical_columns='word', \n",
    "                   numeric_column='count',\n",
    "                  categorical_order_ascending=True)\n",
    "    \n",
    "    chart.style.color_palette.reset_palette_order()\n",
    "    \n",
    "    chart.plot.text(data_frame=data,\n",
    "        categorical_columns='word',\n",
    "        numeric_column='count',\n",
    "        text_column='count',\n",
    "        categorical_order_ascending=True)\n",
    "    \n",
    "    # Adjust the axis range to prevent clipping of the text labels.\n",
    "    chart.axes.set_xaxis_range(0, 200)\n",
    "    \n",
    "    chart.show()"
   ]
  },
  {
   "cell_type": "code",
   "execution_count": null,
   "metadata": {},
   "outputs": [],
   "source": [
    "def condenseDataFrame(df):\n",
    "    '''\n",
    "    Combines the values of duplicate features in a dataframe and returns the new one\n",
    "    \n",
    "    :df: a pandas dataframe\n",
    "    '''\n",
    "    assert isinstance(df, pd.DataFrame)\n",
    "    "
   ]
  },
  {
   "cell_type": "code",
   "execution_count": null,
   "metadata": {},
   "outputs": [],
   "source": [
    "import pandas as pd\n",
    "import chartify as ch\n",
    "\n",
    "def main():\n",
    "    \n",
    "    \n",
    "    plotDeveloperCount1('df_developercount_all.csv')\n",
    "    # plotDeveloperCount2('df_developercount_100_most.csv')"
   ]
  },
  {
   "cell_type": "code",
   "execution_count": null,
   "metadata": {},
   "outputs": [],
   "source": [
    "if __name__ == \"__main__\":\n",
    "    main()"
   ]
  }
 ],
 "metadata": {
  "kernelspec": {
   "display_name": "Python 3",
   "language": "python",
   "name": "python3"
  },
  "language_info": {
   "codemirror_mode": {
    "name": "ipython",
    "version": 3
   },
   "file_extension": ".py",
   "mimetype": "text/x-python",
   "name": "python",
   "nbconvert_exporter": "python",
   "pygments_lexer": "ipython3",
   "version": "3.7.0"
  }
 },
 "nbformat": 4,
 "nbformat_minor": 2
}
