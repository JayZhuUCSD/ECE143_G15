{
 "cells": [
  {
   "cell_type": "markdown",
   "metadata": {},
   "source": [
    "ATTENTION: Please ensure that 'client_secret.json' and 'credentials.json' file are in the same directory before running this notebook!"
   ]
  },
  {
   "cell_type": "code",
   "execution_count": 1,
   "metadata": {},
   "outputs": [],
   "source": [
    "from __future__ import print_function\n",
    "from apiclient.discovery import build\n",
    "from httplib2 import Http\n",
    "from oauth2client import file, client, tools\n",
    "import pandas as pd\n",
    "\n",
    "SPREADSHEET_ID = '1i87UrRoLSHpPUJX_kllun8Ur1or_AmHi0z-2r1LVnFE'\n",
    "RANGE_NAME = 'Sheet1'\n",
    "\n",
    "def get_google_sheet(spreadsheet_id, range_name):\n",
    "    \"\"\" \n",
    "    Retrieve sheet data using OAuth credentials and Google Python API. \n",
    "    \"\"\"\n",
    "    scopes = 'https://www.googleapis.com/auth/spreadsheets.readonly'\n",
    "    \n",
    "    # Setup the Sheets API\n",
    "    store = file.Storage('credentials.json')\n",
    "    creds = store.get()\n",
    "    if not creds or creds.invalid:\n",
    "        flow = client.flow_from_clientsecrets('client_secret.json', scopes)\n",
    "        creds = tools.run_flow(flow, store)\n",
    "    service = build('sheets', 'v4', http=creds.authorize(Http()))\n",
    "\n",
    "    # Call the Sheets API\n",
    "    gsheet = service.spreadsheets().values().get(spreadsheetId=spreadsheet_id, range=range_name).execute()\n",
    "    return gsheet\n"
   ]
  },
  {
   "cell_type": "code",
   "execution_count": 2,
   "metadata": {},
   "outputs": [],
   "source": [
    "def gsheet2df(gsheet):\n",
    "    \"\"\" Converts Google sheet data to a Pandas DataFrame.\n",
    "    Note: This script assumes that your data contains a header file on the first row!\n",
    "    Also note that the Google API returns 'none' from empty cells - in order for the code\n",
    "    below to work, you'll need to make sure your sheet doesn't contain empty cells,\n",
    "    or update the code to account for such instances.\n",
    "    \"\"\"\n",
    "    header = gsheet.get('values', [])[0]   # Assumes first line is header!\n",
    "    values = gsheet.get('values', [])[1:]  # Everything else is data.\n",
    "    if not values:\n",
    "        print('No data found.')\n",
    "    else:\n",
    "        all_data = []\n",
    "        for col_id, col_name in enumerate(header):\n",
    "            column_data = []\n",
    "            for row in values:\n",
    "                column_data.append(row[col_id])\n",
    "            ds = pd.Series(data=column_data, name=col_name)\n",
    "            all_data.append(ds)\n",
    "        df = pd.concat(all_data, axis=1)\n",
    "        return df\n",
    "    "
   ]
  },
  {
   "cell_type": "code",
   "execution_count": 8,
   "metadata": {},
   "outputs": [],
   "source": [
    "def main():\n",
    "    gsheet = get_google_sheet(SPREADSHEET_ID, RANGE_NAME)\n",
    "    df = gsheet2df(gsheet)\n",
    "\n",
    "    # Assert that we got a pandas dataframe back\n",
    "    assert isinstance(df, pd.DataFrame) \n",
    "\n",
    "    # Prints dimensions of dataframe\n",
    "    print('Dataframe size = ', df.shape)\n",
    "\n",
    "    # Print dataframe to console\n",
    "    print(df.head())\n",
    "\n",
    "    # Convert dataframe to csv and place it in working directory\n",
    "    df.to_csv('top_100_file.csv')"
   ]
  },
  {
   "cell_type": "code",
   "execution_count": 9,
   "metadata": {},
   "outputs": [
    {
     "name": "stdout",
     "output_type": "stream",
     "text": [
      "Dataframe size =  (100, 3)\n",
      "  Current Players Peak today                              Game\n",
      "0         712,986    794,832     PLAYERUNKNOWN'S BATTLEGROUNDS\n",
      "1         708,682    754,854                            Dota 2\n",
      "2         392,210    478,849  Counter-Strike: Global Offensive\n",
      "3          84,689     88,184    Tom Clancy's Rainbow Six Siege\n",
      "4          69,455     71,320                          Warframe\n"
     ]
    }
   ],
   "source": [
    "if __name__ == \"__main__\":\n",
    "    main()"
   ]
  },
  {
   "cell_type": "code",
   "execution_count": null,
   "metadata": {},
   "outputs": [],
   "source": []
  }
 ],
 "metadata": {
  "kernelspec": {
   "display_name": "Python 3",
   "language": "python",
   "name": "python3"
  },
  "language_info": {
   "codemirror_mode": {
    "name": "ipython",
    "version": 3
   },
   "file_extension": ".py",
   "mimetype": "text/x-python",
   "name": "python",
   "nbconvert_exporter": "python",
   "pygments_lexer": "ipython3",
   "version": "3.7.0"
  }
 },
 "nbformat": 4,
 "nbformat_minor": 2
}
