{
 "cells": [
  {
   "cell_type": "markdown",
   "metadata": {},
   "source": [
    "Author: Joshua Williams\n",
    "\n",
    "The purpose of this code is to generate plots for the occurence of a select number of each features (< 10). These 10 or less features were chosen because they are the top ranked within our ordered 1000 row csv file on well recieved games. These plots are meant to give a clear visual on the data we have collected and analysed "
   ]
  },
  {
   "cell_type": "code",
   "execution_count": 7,
   "metadata": {},
   "outputs": [],
   "source": [
    "def plotPublisher1000(fname='publishers_count.csv'):\n",
    "    '''\n",
    "    Makes a plot of the number of games that belong to each developer in\n",
    "    the top 1000 ranking of our Dataset\n",
    "    \n",
    "    :fname (str): The name of the file that contains the dataframe [must be a .csv file]\n",
    "    '''\n",
    "    import pandas as pd\n",
    "    import chartify as ch\n",
    "    \n",
    "    assert isinstance(fname, str) and '.csv' in fname, \"Input is not str name of a .csv file!\"\n",
    "    #assert isinstance(fname2, str) and '.csv' in fname2, \"Input is not str name of a .csv file!\"\n",
    "        \n",
    "    data = pd.read_csv(fname)\n",
    "    #data2 = pd.read_csd(fname2)\n",
    "    \n",
    "    data = pd.DataFrame({'publisher': list(data.columns.values[1:11]), \n",
    "                         'count': list(data.values[0][1:11])})\n",
    "   \n",
    "    # Create a Chartify object for this plot\n",
    "    chart = ch.Chart(blank_labels=True, y_axis_type='categorical')\n",
    "    \n",
    "    # Set Variables for plot\n",
    "    chart.set_title('Top 10 Game Publishers with Well Received Games on Steam')\n",
    "    chart.axes.set_xaxis_label('Number of Games Publisher has in Top 1000')\n",
    "    chart.axes.set_yaxis_label('Publishers')\n",
    "    chart.set_source_label('Steam Website')\n",
    "    chart.plot.bar(data_frame=data,\n",
    "                   categorical_columns='publisher', \n",
    "                   numeric_column='count',\n",
    "                   color_column='publisher',\n",
    "                   categorical_order_ascending=True)\n",
    "    \n",
    "    chart.style.color_palette.reset_palette_order()\n",
    "    \n",
    "    chart.plot.text(data_frame=data,\n",
    "                    categorical_columns='publisher',\n",
    "                    numeric_column='count',\n",
    "                    text_column='count',\n",
    "                    color_column='publisher',\n",
    "                    categorical_order_ascending=True)\n",
    "    \n",
    "    # Adjust the axis range to prevent clipping of the text labels.\n",
    "    chart.axes.set_xaxis_range(0, 20)\n",
    "    \n",
    "    # Display Plot\n",
    "    chart.show()"
   ]
  },
  {
   "cell_type": "code",
   "execution_count": 8,
   "metadata": {},
   "outputs": [],
   "source": [
    "def plotGenre1000(fname='genres_count.csv'):\n",
    "    '''\n",
    "    Makes a plot of the number of games that belong to top 10 genres in\n",
    "    our Dataset of top 1000 games\n",
    "    \n",
    "    :fname (str): The name of the file that contains the dataframe [must be a .csv file]\n",
    "    '''\n",
    "    import pandas as pd\n",
    "    import chartify as ch\n",
    "\n",
    "    assert isinstance(fname, str) and '.csv' in fname, \"Input is not str name of a .csv file!\"\n",
    "        \n",
    "    data = pd.read_csv(fname)\n",
    "    genre_list = list(data.columns.values[1:11])\n",
    "    \n",
    "    genre_list[len(genre_list) - 1] = 'Multiplayer'\n",
    "    data = pd.DataFrame({'genres': genre_list, 'count': list(data.values[0][1:11])})\n",
    "    \n",
    "    # Create a Chartify object for this plot\n",
    "    chart = ch.Chart(blank_labels=True, x_axis_type='categorical')\n",
    "    \n",
    "    # Set Variables for plot\n",
    "    chart.set_title('Top 10 Well Recieved Game Genres on Steam')\n",
    "    chart.axes.set_xaxis_label('Genre')\n",
    "    chart.axes.set_yaxis_label('Number of Games')\n",
    "    chart.set_source_label('Steam Website')\n",
    "    chart.plot.bar(data_frame=data, \n",
    "                   categorical_columns='genres', \n",
    "                   numeric_column='count',\n",
    "                   color_column='genres',\n",
    "                   categorical_order_ascending=False)\n",
    "    \n",
    "    chart.style.color_palette.reset_palette_order()\n",
    "    \n",
    "    chart.plot.text(data_frame=data,\n",
    "        categorical_columns='genres',\n",
    "        numeric_column='count',\n",
    "        text_column='count',\n",
    "        color_column='genres',\n",
    "        categorical_order_ascending=False)\n",
    "    \n",
    "    # Adjust the axis range to prevent clipping of the text labels.\n",
    "    chart.axes.set_yaxis_range(0, 750)\n",
    "    \n",
    "    # Display Plot\n",
    "    chart.show()"
   ]
  },
  {
   "cell_type": "code",
   "execution_count": 9,
   "metadata": {},
   "outputs": [],
   "source": [
    "def plotSpecs1000(fname='specs_count.csv'):\n",
    "    '''\n",
    "    Makes a plot of the number of games that belong to top 10 specs in\n",
    "    the top 1000 ranking of our Dataset\n",
    "    \n",
    "    :fname (str): The name of the file that contains the dataframe [must be a .csv file]\n",
    "    '''\n",
    "    import pandas as pd\n",
    "    import chartify as ch\n",
    "\n",
    "    assert isinstance(fname, str) and '.csv' in fname, \"Input is not str name of a .csv file!\"\n",
    "    \n",
    "    data = pd.read_csv(fname)\n",
    "    data = pd.DataFrame({'specs': list(data.columns.values[1:11]), 'count': list(data.values[0][1:11])})\n",
    "    \n",
    "    # Create a Chartify object for this plot\n",
    "    chart = ch.Chart(blank_labels=True, y_axis_type='categorical')\n",
    "    \n",
    "    # Set Variables for plot\n",
    "    chart.set_title('Top 10 Specs Well Received Games Have')\n",
    "    chart.axes.set_xaxis_label('Number of Games with Spec')\n",
    "    chart.axes.set_yaxis_label('Specs')\n",
    "    chart.set_source_label('Steam Website')\n",
    "    chart.plot.bar(data_frame=data, \n",
    "                   categorical_columns='specs', \n",
    "                   numeric_column='count',\n",
    "                   color_column='specs',\n",
    "                   categorical_order_ascending=True)\n",
    "    \n",
    "    chart.style.color_palette.reset_palette_order()\n",
    "    \n",
    "    chart.plot.text(data_frame=data,\n",
    "        categorical_columns='specs',\n",
    "        numeric_column='count',\n",
    "        text_column='count',\n",
    "        color_column='specs',\n",
    "        categorical_order_ascending=True)\n",
    "    \n",
    "    # Adjust the axis range to prevent clipping of the text labels.\n",
    "    chart.axes.set_xaxis_range(0, 1000)\n",
    "    \n",
    "    chart.show()"
   ]
  },
  {
   "cell_type": "code",
   "execution_count": 10,
   "metadata": {},
   "outputs": [],
   "source": [
    "def plotPlatform1000(fname='platform_count.csv'):\n",
    "    '''\n",
    "    Makes a plot of the number of games that belong to each platform in\n",
    "    the top 1000 ranking of our Dataset\n",
    "    \n",
    "    :fname (str): The name of the file that contains the dataframe [must be a .csv file]\n",
    "    '''\n",
    "    import pandas as pd\n",
    "    import chartify as ch\n",
    "    \n",
    "    assert isinstance(fname, str) and '.csv' in fname, \"Input is not str name of a .csv file!\"\n",
    "    \n",
    "    data = pd.read_csv(fname)\n",
    "    data = pd.DataFrame({'platform': list(data.columns.values[1:]), 'count': list(data.values[0][1:])})\n",
    "    \n",
    "    # Create a Chartify object for this plot\n",
    "    chart = ch.Chart(blank_labels=True, x_axis_type='categorical')\n",
    "    \n",
    "    # Set Variables for plot\n",
    "    chart.set_title('Number of Games Represented on Each Platform in Top 1000')\n",
    "    chart.axes.set_xaxis_label('Platform')\n",
    "    chart.axes.set_yaxis_label('Number of Games')\n",
    "    chart.set_source_label('Steam Website')\n",
    "    chart.plot.bar(data_frame=data, \n",
    "                   categorical_columns='platform', \n",
    "                   numeric_column='count',\n",
    "                   color_column='platform')\n",
    "    \n",
    "    chart.style.color_palette.reset_palette_order()\n",
    "    \n",
    "    chart.plot.text(data_frame=data,\n",
    "        categorical_columns='platform',\n",
    "        numeric_column='count',\n",
    "        text_column='count',\n",
    "        color_column='platform')\n",
    "    \n",
    "    # Adjust the axis range to prevent clipping of the text labels.\n",
    "    chart.axes.set_yaxis_range(0, 1100)\n",
    "    \n",
    "    chart.show()"
   ]
  },
  {
   "cell_type": "code",
   "execution_count": 55,
   "metadata": {},
   "outputs": [
    {
     "data": {
      "text/html": [
       "\n",
       "\n",
       "\n",
       "\n",
       "\n",
       "\n",
       "  <div class=\"bk-root\" id=\"628e6a67-3648-478f-ac30-25763b4f27e2\"></div>\n"
      ]
     },
     "metadata": {},
     "output_type": "display_data"
    },
    {
     "data": {
      "application/javascript": [
       "(function(root) {\n",
       "  function embed_document(root) {\n",
       "    \n",
       "  var docs_json = {\"e344b552-44f1-4bb1-90e7-46a2dd54063f\":{\"roots\":{\"references\":[{\"attributes\":{\"above\":[{\"id\":\"7153\",\"type\":\"Title\"}],\"background_fill_color\":{\"value\":\"white\"},\"below\":[{\"id\":\"7137\",\"type\":\"LinearAxis\"},{\"id\":\"7152\",\"type\":\"Label\"}],\"border_fill_color\":{\"value\":\"white\"},\"left\":[{\"id\":\"7142\",\"type\":\"CategoricalAxis\"}],\"min_border_bottom\":60,\"min_border_left\":60,\"min_border_right\":60,\"min_border_top\":40,\"outline_line_color\":{\"value\":\"white\"},\"plot_height\":540,\"plot_width\":960,\"renderers\":[{\"id\":\"7137\",\"type\":\"LinearAxis\"},{\"id\":\"7141\",\"type\":\"Grid\"},{\"id\":\"7142\",\"type\":\"CategoricalAxis\"},{\"id\":\"7145\",\"type\":\"Grid\"},{\"id\":\"7152\",\"type\":\"Label\"},{\"id\":\"7153\",\"type\":\"Title\"},{\"id\":\"7164\",\"type\":\"GlyphRenderer\"}],\"title\":{\"id\":\"7149\",\"type\":\"Title\"},\"toolbar\":{\"id\":\"7147\",\"type\":\"Toolbar\"},\"x_range\":{\"id\":\"7129\",\"type\":\"DataRange1d\"},\"x_scale\":{\"id\":\"7133\",\"type\":\"LinearScale\"},\"y_range\":{\"id\":\"7131\",\"type\":\"FactorRange\"},\"y_scale\":{\"id\":\"7135\",\"type\":\"CategoricalScale\"}},\"id\":\"7128\",\"subtype\":\"Figure\",\"type\":\"Plot\"},{\"attributes\":{\"fill_alpha\":{\"value\":0.1},\"fill_color\":{\"value\":\"#1f77b4\"},\"height\":{\"value\":0.9},\"line_alpha\":{\"value\":0.1},\"line_color\":{\"value\":\"#1f77b4\"},\"right\":{\"field\":\"count\"},\"y\":{\"field\":\"factors\"}},\"id\":\"7163\",\"type\":\"HBar\"},{\"attributes\":{},\"id\":\"7135\",\"type\":\"CategoricalScale\"},{\"attributes\":{\"source\":{\"id\":\"7157\",\"type\":\"ColumnDataSource\"}},\"id\":\"7165\",\"type\":\"CDSView\"},{\"attributes\":{\"axis_label\":\"Number of Games\",\"axis_label_text_color\":{\"value\":\"#666666\"},\"axis_label_text_font_size\":{\"value\":\"11pt\"},\"axis_label_text_font_style\":\"bold\",\"axis_line_color\":{\"value\":\"#C0C0C0\"},\"formatter\":{\"id\":\"7159\",\"type\":\"NumeralTickFormatter\"},\"major_label_text_color\":{\"value\":\"#898989\"},\"major_label_text_font_size\":{\"value\":\"10pt\"},\"major_tick_in\":0,\"major_tick_line_color\":{\"value\":\"#C0C0C0\"},\"major_tick_out\":4,\"minor_tick_line_color\":{\"value\":\"#C0C0C0\"},\"minor_tick_out\":1,\"plot\":{\"id\":\"7128\",\"subtype\":\"Figure\",\"type\":\"Plot\"},\"ticker\":{\"id\":\"7138\",\"type\":\"BasicTicker\"}},\"id\":\"7137\",\"type\":\"LinearAxis\"},{\"attributes\":{},\"id\":\"7448\",\"type\":\"Selection\"},{\"attributes\":{},\"id\":\"7138\",\"type\":\"BasicTicker\"},{\"attributes\":{\"data_source\":{\"id\":\"7157\",\"type\":\"ColumnDataSource\"},\"glyph\":{\"id\":\"7162\",\"type\":\"HBar\"},\"hover_glyph\":null,\"muted_glyph\":null,\"nonselection_glyph\":{\"id\":\"7163\",\"type\":\"HBar\"},\"selection_glyph\":null,\"view\":{\"id\":\"7165\",\"type\":\"CDSView\"}},\"id\":\"7164\",\"type\":\"GlyphRenderer\"},{\"attributes\":{\"grid_line_color\":{\"value\":null},\"plot\":{\"id\":\"7128\",\"subtype\":\"Figure\",\"type\":\"Plot\"},\"ticker\":{\"id\":\"7138\",\"type\":\"BasicTicker\"}},\"id\":\"7141\",\"type\":\"Grid\"},{\"attributes\":{\"axis_label\":\"Publisher\",\"axis_label_text_color\":{\"value\":\"#666666\"},\"axis_label_text_font_size\":{\"value\":\"11pt\"},\"axis_label_text_font_style\":\"bold\",\"axis_line_color\":{\"value\":\"#C0C0C0\"},\"formatter\":{\"id\":\"7445\",\"type\":\"CategoricalTickFormatter\"},\"group_text_font_size\":{\"value\":\"11pt\"},\"major_label_text_color\":{\"value\":\"#898989\"},\"major_label_text_font_size\":{\"value\":\"10pt\"},\"major_tick_in\":0,\"major_tick_line_color\":{\"value\":\"#C0C0C0\"},\"major_tick_out\":4,\"minor_tick_line_color\":{\"value\":\"#C0C0C0\"},\"minor_tick_out\":1,\"plot\":{\"id\":\"7128\",\"subtype\":\"Figure\",\"type\":\"Plot\"},\"separator_line_alpha\":{\"value\":0},\"subgroup_text_font_size\":{\"value\":\"11pt\"},\"ticker\":{\"id\":\"7143\",\"type\":\"CategoricalTicker\"}},\"id\":\"7142\",\"type\":\"CategoricalAxis\"},{\"attributes\":{\"callback\":null,\"data\":{\"count\":[12,10,8,10,8,5,8,7,5,9,7,3,7,7,7,6,5,4,4,4,3,3,3,3,4,3,1,3,2,2],\"factors\":[[\"SEGA\",\"Indie\"],[\"SEGA\",\"Action\"],[\"SEGA\",\"Adventure\"],[\"Ubi\",\"Action\"],[\"Ubi\",\"Indie\"],[\"Ubi\",\"Adventure\"],[\"Para\",\"Strategy\"],[\"Para\",\"Simulation\"],[\"Para\",\"Action\"],[\"DD\",\"Action\"],[\"DD\",\"Indie\"],[\"DD\",\"Adventure\"],[\"EA\",\"Indie\"],[\"Micro\",\"Action\"],[\"Micro\",\"Indie\"],[\"EA\",\"Action\"],[\"EA\",\"Simulation\"],[\"Micro\",\"Adventure\"],[\"AGM\",\"Action\"],[\"Sekai\",\"Action\"],[\"AGM\",\"Indie\"],[\"AGM\",\"RPG\"],[\"Sekai\",\"Adventure\"],[\"Sekai\",\"Free to Play\"],[\"SCS\",\"Indie\"],[\"SCS\",\"Action\"],[\"SCS\",\"Adventure\"],[\"DE\",\"Strategy\"],[\"DE\",\"Adventure\"],[\"DE\",\"Indie\"]],\"index\":[0,1,2,3,4,5,6,7,8,9,10,11,12,13,14,15,16,17,18,19,20,21,22,23,24,25,26,27,28,29]},\"name\":\"Series:\",\"selected\":{\"id\":\"7448\",\"type\":\"Selection\"},\"selection_policy\":{\"id\":\"7447\",\"type\":\"UnionRenderers\"}},\"id\":\"7157\",\"type\":\"ColumnDataSource\"},{\"attributes\":{},\"id\":\"7143\",\"type\":\"CategoricalTicker\"},{\"attributes\":{},\"id\":\"7447\",\"type\":\"UnionRenderers\"},{\"attributes\":{\"dimension\":1,\"grid_line_color\":{\"value\":null},\"plot\":{\"id\":\"7128\",\"subtype\":\"Figure\",\"type\":\"Plot\"},\"ticker\":{\"id\":\"7143\",\"type\":\"CategoricalTicker\"}},\"id\":\"7145\",\"type\":\"Grid\"},{\"attributes\":{\"active_drag\":null,\"active_inspect\":\"auto\",\"active_multi\":null,\"active_scroll\":\"auto\",\"active_tap\":\"auto\",\"logo\":null,\"tools\":[{\"id\":\"7146\",\"type\":\"SaveTool\"}]},\"id\":\"7147\",\"type\":\"Toolbar\"},{\"attributes\":{},\"id\":\"7146\",\"type\":\"SaveTool\"},{\"attributes\":{},\"id\":\"7133\",\"type\":\"LinearScale\"},{\"attributes\":{\"level\":\"overlay\",\"name\":\"subtitle\",\"plot\":{\"id\":\"7128\",\"subtype\":\"Figure\",\"type\":\"Plot\"},\"text\":\"Steam Website\",\"text_align\":\"right\",\"text_color\":{\"value\":\"#898989\"},\"text_font_size\":{\"value\":\"10px\"},\"x\":864.0,\"x_units\":\"screen\",\"y\":0,\"y_units\":\"screen\"},\"id\":\"7152\",\"type\":\"Label\"},{\"attributes\":{\"plot\":null,\"text\":\"Publishers to Genres\",\"text_color\":{\"value\":\"#333333\"},\"text_font_size\":{\"value\":\"18pt\"}},\"id\":\"7149\",\"type\":\"Title\"},{\"attributes\":{\"plot\":{\"id\":\"7128\",\"subtype\":\"Figure\",\"type\":\"Plot\"},\"text\":\"\",\"text_color\":{\"value\":\"#666666\"},\"text_font_size\":{\"value\":\"12pt\"}},\"id\":\"7153\",\"type\":\"Title\"},{\"attributes\":{},\"id\":\"7445\",\"type\":\"CategoricalTickFormatter\"},{\"attributes\":{\"callback\":null,\"end\":15,\"start\":0},\"id\":\"7129\",\"type\":\"DataRange1d\"},{\"attributes\":{\"format\":\"0,0.[00]\"},\"id\":\"7159\",\"type\":\"NumeralTickFormatter\"},{\"attributes\":{\"callback\":null,\"factor_padding\":0.25,\"factors\":[[\"SEGA\",\"Indie\"],[\"SEGA\",\"Action\"],[\"SEGA\",\"Adventure\"],[\"Ubi\",\"Action\"],[\"Ubi\",\"Indie\"],[\"Ubi\",\"Adventure\"],[\"Para\",\"Strategy\"],[\"Para\",\"Simulation\"],[\"Para\",\"Action\"],[\"DD\",\"Action\"],[\"DD\",\"Indie\"],[\"DD\",\"Adventure\"],[\"EA\",\"Indie\"],[\"Micro\",\"Action\"],[\"Micro\",\"Indie\"],[\"EA\",\"Action\"],[\"EA\",\"Simulation\"],[\"Micro\",\"Adventure\"],[\"AGM\",\"Action\"],[\"Sekai\",\"Action\"],[\"AGM\",\"Indie\"],[\"AGM\",\"RPG\"],[\"Sekai\",\"Adventure\"],[\"Sekai\",\"Free to Play\"],[\"SCS\",\"Indie\"],[\"SCS\",\"Action\"],[\"SCS\",\"Adventure\"],[\"DE\",\"Strategy\"],[\"DE\",\"Adventure\"],[\"DE\",\"Indie\"]]},\"id\":\"7131\",\"type\":\"FactorRange\"},{\"attributes\":{\"end\":2,\"factors\":[\"Action\",\"Adventure\",\"Free to Play\",\"Indie\",\"RPG\",\"Simulation\",\"Strategy\"],\"palette\":[\"#1f77b4\",\"#ff7f0e\",\"#2ca02c\",\"#d62728\",\"#9467bd\",\"#8c564b\",\"#e377c2\"],\"start\":1},\"id\":\"7158\",\"type\":\"CategoricalColorMapper\"},{\"attributes\":{\"fill_color\":{\"field\":\"factors\",\"transform\":{\"id\":\"7158\",\"type\":\"CategoricalColorMapper\"}},\"height\":{\"value\":0.9},\"line_color\":{\"value\":\"white\"},\"right\":{\"field\":\"count\"},\"y\":{\"field\":\"factors\"}},\"id\":\"7162\",\"type\":\"HBar\"}],\"root_ids\":[\"7128\"]},\"title\":\"Bokeh Application\",\"version\":\"1.0.1\"}};\n",
       "  var render_items = [{\"docid\":\"e344b552-44f1-4bb1-90e7-46a2dd54063f\",\"roots\":{\"7128\":\"628e6a67-3648-478f-ac30-25763b4f27e2\"}}];\n",
       "  root.Bokeh.embed.embed_items_notebook(docs_json, render_items);\n",
       "\n",
       "  }\n",
       "  if (root.Bokeh !== undefined) {\n",
       "    embed_document(root);\n",
       "  } else {\n",
       "    var attempts = 0;\n",
       "    var timer = setInterval(function(root) {\n",
       "      if (root.Bokeh !== undefined) {\n",
       "        embed_document(root);\n",
       "        clearInterval(timer);\n",
       "      }\n",
       "      attempts++;\n",
       "      if (attempts > 100) {\n",
       "        console.log(\"Bokeh: ERROR: Unable to run BokehJS code because BokehJS library is missing\");\n",
       "        clearInterval(timer);\n",
       "      }\n",
       "    }, 10, root)\n",
       "  }\n",
       "})(window);"
      ],
      "application/vnd.bokehjs_exec.v0+json": ""
     },
     "metadata": {
      "application/vnd.bokehjs_exec.v0+json": {
       "id": "7128"
      }
     },
     "output_type": "display_data"
    }
   ],
   "source": [
    "def plotGenreToPlatform(fname1='df_genrecount_AGM.csv',\n",
    "                        fname2='df_genrecount_DD.csv', \n",
    "                        fname3='df_genrecount_DE.csv', \n",
    "                        fname4='df_genrecount_EA.csv', \n",
    "                        fname5='df_genrecount_Microsoft.csv', \n",
    "                        fname6='df_genrecount_Paradox.csv', \n",
    "                        fname7='df_genrecount_SCS.csv', \n",
    "                        fname8='df_genrecount_SEGA.csv', \n",
    "                        fname9='df_genrecount_Sekai.csv', \n",
    "                        fname10='df_genrecount_Ubi.csv'):\n",
    "    \n",
    "    '''\n",
    "    Plots Genres goruped by developer\n",
    "    \n",
    "    :fname1 (str): The name of the file that a dataframe [must be a .csv file]\n",
    "    :fname2 (str): The name of the file that a dataframe [must be a .csv file]\n",
    "    :fname3 (str): The name of the file that a dataframe [must be a .csv file]\n",
    "    :fname4 (str): The name of the file that a dataframe [must be a .csv file]\n",
    "    '''\n",
    "    import pandas as pd\n",
    "    import chartify as ch\n",
    "    \n",
    "    assert isinstance(fname1, str) and '.csv' in fname1, \"Input is not str name of a .csv file!\"\n",
    "    assert isinstance(fname2, str) and '.csv' in fname2, \"Input is not str name of a .csv file!\"\n",
    "    assert isinstance(fname3, str) and '.csv' in fname3, \"Input is not str name of a .csv file!\"\n",
    "    assert isinstance(fname4, str) and '.csv' in fname4, \"Input is not str name of a .csv file!\"\n",
    "    assert isinstance(fname5, str) and '.csv' in fname5, \"Input is not str name of a .csv file!\"\n",
    "    assert isinstance(fname6, str) and '.csv' in fname6, \"Input is not str name of a .csv file!\"\n",
    "    assert isinstance(fname7, str) and '.csv' in fname7, \"Input is not str name of a .csv file!\"\n",
    "    assert isinstance(fname8, str) and '.csv' in fname8, \"Input is not str name of a .csv file!\"\n",
    "    assert isinstance(fname9, str) and '.csv' in fname9, \"Input is not str name of a .csv file!\"\n",
    "    assert isinstance(fname10, str) and '.csv' in fname10, \"Input is not str name of a .csv file!\"\n",
    "    \n",
    "    data1 = pd.read_csv(fname1)\n",
    "    data2 = pd.read_csv(fname2)\n",
    "    data3 = pd.read_csv(fname3)\n",
    "    data4 = pd.read_csv(fname4)\n",
    "    data5 = pd.read_csv(fname5)\n",
    "    data6 = pd.read_csv(fname6)\n",
    "    data7 = pd.read_csv(fname7)\n",
    "    data8 = pd.read_csv(fname8)\n",
    "    data9 = pd.read_csv(fname9)\n",
    "    data10 = pd.read_csv(fname10)\n",
    "    \n",
    "    publishers = ['AGM', 'DD', 'DE', 'EA', 'Micro', 'Para', 'SCS', 'SEGA', 'Sekai', 'Ubi']\n",
    "    pub = []\n",
    "    \n",
    "    for i in publishers:\n",
    "        for j in range(0,3):\n",
    "            pub.append(i)\n",
    "    \n",
    "    genres = data1['word'].tolist()[:3] + data2['word'].tolist()[:3] + data3['word'].tolist()[:3] + data4['word'].tolist()[:3] + data5['word'].tolist()[:3] + data6['word'].tolist()[:3] + data7['word'].tolist()[:3] + data8['word'].tolist()[:3] + data9['word'].tolist()[:3] + data10['word'].tolist()[:3]\n",
    "    counts = data1['count'].tolist()[:3] + data2['count'].tolist()[:3] + data3['count'].tolist()[:3] + data4['count'].tolist()[:3] + data5['count'].tolist()[:3] + data6['count'].tolist()[:3] + data7['count'].tolist()[:3] + data8['count'].tolist()[:3] + data9['count'].tolist()[:3] + data10['count'].tolist()[:3]\n",
    "    data = pd.DataFrame({'publishers': pub,'word': genres , 'count': counts})\n",
    "    \n",
    "    # Create a Chartify object for this plot\n",
    "    chart = ch.Chart(blank_labels=True, y_axis_type='categorical')\n",
    "    \n",
    "    # Set Variables for plot\n",
    "    chart.set_title('Publishers to Genres')\n",
    "    chart.axes.set_xaxis_label('Number of Games')\n",
    "    chart.axes.set_yaxis_label('Publisher')\n",
    "    chart.set_source_label('Steam Website')\n",
    "    chart.plot.bar(data_frame=data, \n",
    "                   categorical_columns=['publishers', 'word'], \n",
    "                   numeric_column='count',\n",
    "                   color_column='word')\n",
    "    \n",
    "    # Adjust the axis range to prevent clipping of the text labels.\n",
    "    chart.axes.set_xaxis_range(0, 15)\n",
    "    \n",
    "    chart.show()\n",
    "    \n",
    "    \n",
    "plotGenreToPlatform()"
   ]
  },
  {
   "cell_type": "code",
   "execution_count": 12,
   "metadata": {},
   "outputs": [
    {
     "data": {
      "text/html": [
       "\n",
       "\n",
       "\n",
       "\n",
       "\n",
       "\n",
       "  <div class=\"bk-root\" id=\"aba69d11-9177-454a-a39a-e6344eaa6e30\"></div>\n"
      ]
     },
     "metadata": {},
     "output_type": "display_data"
    },
    {
     "data": {
      "application/javascript": [
       "(function(root) {\n",
       "  function embed_document(root) {\n",
       "    \n",
       "  var docs_json = {\"1f7f8511-118f-48b0-a29d-862316a8ec44\":{\"roots\":{\"references\":[{\"attributes\":{\"above\":[{\"id\":\"2221\",\"type\":\"Title\"}],\"background_fill_color\":{\"value\":\"white\"},\"below\":[{\"id\":\"2205\",\"type\":\"LinearAxis\"},{\"id\":\"2220\",\"type\":\"Label\"}],\"border_fill_color\":{\"value\":\"white\"},\"left\":[{\"id\":\"2210\",\"type\":\"CategoricalAxis\"}],\"min_border_bottom\":60,\"min_border_left\":60,\"min_border_right\":60,\"min_border_top\":40,\"outline_line_color\":{\"value\":\"white\"},\"plot_height\":540,\"plot_width\":960,\"renderers\":[{\"id\":\"2205\",\"type\":\"LinearAxis\"},{\"id\":\"2209\",\"type\":\"Grid\"},{\"id\":\"2210\",\"type\":\"CategoricalAxis\"},{\"id\":\"2213\",\"type\":\"Grid\"},{\"id\":\"2220\",\"type\":\"Label\"},{\"id\":\"2221\",\"type\":\"Title\"},{\"id\":\"2232\",\"type\":\"GlyphRenderer\"},{\"id\":\"2239\",\"type\":\"GlyphRenderer\"},{\"id\":\"2245\",\"type\":\"GlyphRenderer\"},{\"id\":\"2251\",\"type\":\"GlyphRenderer\"},{\"id\":\"2257\",\"type\":\"GlyphRenderer\"},{\"id\":\"2263\",\"type\":\"GlyphRenderer\"},{\"id\":\"2269\",\"type\":\"GlyphRenderer\"},{\"id\":\"2275\",\"type\":\"GlyphRenderer\"},{\"id\":\"2281\",\"type\":\"GlyphRenderer\"},{\"id\":\"2287\",\"type\":\"GlyphRenderer\"},{\"id\":\"2293\",\"type\":\"GlyphRenderer\"}],\"title\":{\"id\":\"2217\",\"type\":\"Title\"},\"toolbar\":{\"id\":\"2215\",\"type\":\"Toolbar\"},\"x_range\":{\"id\":\"2197\",\"type\":\"DataRange1d\"},\"x_scale\":{\"id\":\"2201\",\"type\":\"LinearScale\"},\"y_range\":{\"id\":\"2199\",\"type\":\"FactorRange\"},\"y_scale\":{\"id\":\"2203\",\"type\":\"CategoricalScale\"}},\"id\":\"2196\",\"subtype\":\"Figure\",\"type\":\"Plot\"},{\"attributes\":{\"data_source\":{\"id\":\"2259\",\"type\":\"ColumnDataSource\"},\"glyph\":{\"id\":\"2261\",\"type\":\"Text\"},\"hover_glyph\":null,\"muted_glyph\":null,\"nonselection_glyph\":{\"id\":\"2262\",\"type\":\"Text\"},\"selection_glyph\":null,\"view\":{\"id\":\"2264\",\"type\":\"CDSView\"}},\"id\":\"2263\",\"type\":\"GlyphRenderer\"},{\"attributes\":{\"text\":{\"field\":\"count\"},\"text_alpha\":{\"value\":0.1},\"text_baseline\":\"middle\",\"text_color\":{\"value\":\"black\"},\"text_font_size\":{\"value\":\"1em\"},\"x\":{\"field\":\"count\"},\"x_offset\":{\"value\":10},\"y\":{\"field\":\"factors\"}},\"id\":\"2244\",\"type\":\"Text\"},{\"attributes\":{\"text\":{\"field\":\"count\"},\"text_baseline\":\"middle\",\"text_color\":{\"value\":\"#ff7f0e\"},\"text_font_size\":{\"value\":\"1em\"},\"x\":{\"field\":\"count\"},\"x_offset\":{\"value\":10},\"y\":{\"field\":\"factors\"}},\"id\":\"2243\",\"type\":\"Text\"},{\"attributes\":{\"source\":{\"id\":\"2235\",\"type\":\"ColumnDataSource\"}},\"id\":\"2240\",\"type\":\"CDSView\"},{\"attributes\":{},\"id\":\"2405\",\"type\":\"Selection\"},{\"attributes\":{\"data_source\":{\"id\":\"2241\",\"type\":\"ColumnDataSource\"},\"glyph\":{\"id\":\"2243\",\"type\":\"Text\"},\"hover_glyph\":null,\"muted_glyph\":null,\"nonselection_glyph\":{\"id\":\"2244\",\"type\":\"Text\"},\"selection_glyph\":null,\"view\":{\"id\":\"2246\",\"type\":\"CDSView\"}},\"id\":\"2245\",\"type\":\"GlyphRenderer\"},{\"attributes\":{\"source\":{\"id\":\"2259\",\"type\":\"ColumnDataSource\"}},\"id\":\"2264\",\"type\":\"CDSView\"},{\"attributes\":{},\"id\":\"2407\",\"type\":\"Selection\"},{\"attributes\":{},\"id\":\"2408\",\"type\":\"UnionRenderers\"},{\"attributes\":{\"callback\":null,\"data\":{\"count\":[13],\"factors\":[\"Paradox Interactive\"],\"index\":[0]},\"name\":\"Series:\",\"selected\":{\"id\":\"2411\",\"type\":\"Selection\"},\"selection_policy\":{\"id\":\"2410\",\"type\":\"UnionRenderers\"}},\"id\":\"2271\",\"type\":\"ColumnDataSource\"},{\"attributes\":{\"callback\":null,\"data\":{\"count\":[10],\"factors\":[\"Devolver Digital\"],\"index\":[0]},\"name\":\"Series:\",\"selected\":{\"id\":\"2401\",\"type\":\"Selection\"},\"selection_policy\":{\"id\":\"2400\",\"type\":\"UnionRenderers\"}},\"id\":\"2241\",\"type\":\"ColumnDataSource\"},{\"attributes\":{\"text\":{\"field\":\"count\"},\"text_baseline\":\"middle\",\"text_color\":{\"value\":\"#e377c2\"},\"text_font_size\":{\"value\":\"1em\"},\"x\":{\"field\":\"count\"},\"x_offset\":{\"value\":10},\"y\":{\"field\":\"factors\"}},\"id\":\"2273\",\"type\":\"Text\"},{\"attributes\":{},\"id\":\"2214\",\"type\":\"SaveTool\"},{\"attributes\":{\"text\":{\"field\":\"count\"},\"text_alpha\":{\"value\":0.1},\"text_baseline\":\"middle\",\"text_color\":{\"value\":\"black\"},\"text_font_size\":{\"value\":\"1em\"},\"x\":{\"field\":\"count\"},\"x_offset\":{\"value\":10},\"y\":{\"field\":\"factors\"}},\"id\":\"2280\",\"type\":\"Text\"},{\"attributes\":{\"source\":{\"id\":\"2271\",\"type\":\"ColumnDataSource\"}},\"id\":\"2276\",\"type\":\"CDSView\"},{\"attributes\":{\"text\":{\"field\":\"count\"},\"text_alpha\":{\"value\":0.1},\"text_baseline\":\"middle\",\"text_color\":{\"value\":\"black\"},\"text_font_size\":{\"value\":\"1em\"},\"x\":{\"field\":\"count\"},\"x_offset\":{\"value\":10},\"y\":{\"field\":\"factors\"}},\"id\":\"2274\",\"type\":\"Text\"},{\"attributes\":{\"text\":{\"field\":\"count\"},\"text_baseline\":\"middle\",\"text_color\":{\"value\":\"#7f7f7f\"},\"text_font_size\":{\"value\":\"1em\"},\"x\":{\"field\":\"count\"},\"x_offset\":{\"value\":10},\"y\":{\"field\":\"factors\"}},\"id\":\"2279\",\"type\":\"Text\"},{\"attributes\":{\"text\":{\"field\":\"count\"},\"text_baseline\":\"middle\",\"text_color\":{\"value\":\"#2ca02c\"},\"text_font_size\":{\"value\":\"1em\"},\"x\":{\"field\":\"count\"},\"x_offset\":{\"value\":10},\"y\":{\"field\":\"factors\"}},\"id\":\"2249\",\"type\":\"Text\"},{\"attributes\":{\"format\":\"0,0.[00]\"},\"id\":\"2227\",\"type\":\"NumeralTickFormatter\"},{\"attributes\":{},\"id\":\"2399\",\"type\":\"Selection\"},{\"attributes\":{},\"id\":\"2406\",\"type\":\"UnionRenderers\"},{\"attributes\":{\"active_drag\":null,\"active_inspect\":\"auto\",\"active_multi\":null,\"active_scroll\":\"auto\",\"active_tap\":\"auto\",\"logo\":null,\"tools\":[{\"id\":\"2214\",\"type\":\"SaveTool\"}]},\"id\":\"2215\",\"type\":\"Toolbar\"},{\"attributes\":{},\"id\":\"2404\",\"type\":\"UnionRenderers\"},{\"attributes\":{},\"id\":\"2400\",\"type\":\"UnionRenderers\"},{\"attributes\":{\"data_source\":{\"id\":\"2277\",\"type\":\"ColumnDataSource\"},\"glyph\":{\"id\":\"2279\",\"type\":\"Text\"},\"hover_glyph\":null,\"muted_glyph\":null,\"nonselection_glyph\":{\"id\":\"2280\",\"type\":\"Text\"},\"selection_glyph\":null,\"view\":{\"id\":\"2282\",\"type\":\"CDSView\"}},\"id\":\"2281\",\"type\":\"GlyphRenderer\"},{\"attributes\":{\"source\":{\"id\":\"2241\",\"type\":\"ColumnDataSource\"}},\"id\":\"2246\",\"type\":\"CDSView\"},{\"attributes\":{},\"id\":\"2403\",\"type\":\"Selection\"},{\"attributes\":{\"callback\":null,\"data\":{\"count\":[14],\"factors\":[\"SEGA\"],\"index\":[0]},\"name\":\"Series:\",\"selected\":{\"id\":\"2413\",\"type\":\"Selection\"},\"selection_policy\":{\"id\":\"2412\",\"type\":\"UnionRenderers\"}},\"id\":\"2277\",\"type\":\"ColumnDataSource\"},{\"attributes\":{\"callback\":null,\"data\":{\"count\":[15],\"factors\":[\"BANDAI NAMCO Entertainment\"],\"index\":[0]},\"name\":\"Series:\",\"selected\":{\"id\":\"2399\",\"type\":\"Selection\"},\"selection_policy\":{\"id\":\"2398\",\"type\":\"UnionRenderers\"}},\"id\":\"2235\",\"type\":\"ColumnDataSource\"},{\"attributes\":{},\"id\":\"2401\",\"type\":\"Selection\"},{\"attributes\":{\"plot\":null,\"text\":\"Top 10 Game Publishers with Well Received Games on Steam\",\"text_color\":{\"value\":\"#333333\"},\"text_font_size\":{\"value\":\"18pt\"}},\"id\":\"2217\",\"type\":\"Title\"},{\"attributes\":{},\"id\":\"2402\",\"type\":\"UnionRenderers\"},{\"attributes\":{},\"id\":\"2398\",\"type\":\"UnionRenderers\"},{\"attributes\":{},\"id\":\"2397\",\"type\":\"Selection\"},{\"attributes\":{\"callback\":null,\"data\":{\"count\":[11],\"factors\":[\"Electronic Arts\"],\"index\":[0]},\"name\":\"Series:\",\"selected\":{\"id\":\"2403\",\"type\":\"Selection\"},\"selection_policy\":{\"id\":\"2402\",\"type\":\"UnionRenderers\"}},\"id\":\"2247\",\"type\":\"ColumnDataSource\"},{\"attributes\":{\"source\":{\"id\":\"2265\",\"type\":\"ColumnDataSource\"}},\"id\":\"2270\",\"type\":\"CDSView\"},{\"attributes\":{\"text\":{\"field\":\"count\"},\"text_baseline\":\"middle\",\"text_color\":{\"value\":\"#bcbd22\"},\"text_font_size\":{\"value\":\"1em\"},\"x\":{\"field\":\"count\"},\"x_offset\":{\"value\":10},\"y\":{\"field\":\"factors\"}},\"id\":\"2285\",\"type\":\"Text\"},{\"attributes\":{\"text\":{\"field\":\"count\"},\"text_alpha\":{\"value\":0.1},\"text_baseline\":\"middle\",\"text_color\":{\"value\":\"black\"},\"text_font_size\":{\"value\":\"1em\"},\"x\":{\"field\":\"count\"},\"x_offset\":{\"value\":10},\"y\":{\"field\":\"factors\"}},\"id\":\"2268\",\"type\":\"Text\"},{\"attributes\":{\"text\":{\"field\":\"count\"},\"text_alpha\":{\"value\":0.1},\"text_baseline\":\"middle\",\"text_color\":{\"value\":\"black\"},\"text_font_size\":{\"value\":\"1em\"},\"x\":{\"field\":\"count\"},\"x_offset\":{\"value\":10},\"y\":{\"field\":\"factors\"}},\"id\":\"2250\",\"type\":\"Text\"},{\"attributes\":{\"source\":{\"id\":\"2277\",\"type\":\"ColumnDataSource\"}},\"id\":\"2282\",\"type\":\"CDSView\"},{\"attributes\":{\"data_source\":{\"id\":\"2265\",\"type\":\"ColumnDataSource\"},\"glyph\":{\"id\":\"2267\",\"type\":\"Text\"},\"hover_glyph\":null,\"muted_glyph\":null,\"nonselection_glyph\":{\"id\":\"2268\",\"type\":\"Text\"},\"selection_glyph\":null,\"view\":{\"id\":\"2270\",\"type\":\"CDSView\"}},\"id\":\"2269\",\"type\":\"GlyphRenderer\"},{\"attributes\":{},\"id\":\"2413\",\"type\":\"Selection\"},{\"attributes\":{\"data_source\":{\"id\":\"2235\",\"type\":\"ColumnDataSource\"},\"glyph\":{\"id\":\"2237\",\"type\":\"Text\"},\"hover_glyph\":null,\"muted_glyph\":null,\"nonselection_glyph\":{\"id\":\"2238\",\"type\":\"Text\"},\"selection_glyph\":null,\"view\":{\"id\":\"2240\",\"type\":\"CDSView\"}},\"id\":\"2239\",\"type\":\"GlyphRenderer\"},{\"attributes\":{\"text\":{\"field\":\"count\"},\"text_alpha\":{\"value\":0.1},\"text_baseline\":\"middle\",\"text_color\":{\"value\":\"black\"},\"text_font_size\":{\"value\":\"1em\"},\"x\":{\"field\":\"count\"},\"x_offset\":{\"value\":10},\"y\":{\"field\":\"factors\"}},\"id\":\"2286\",\"type\":\"Text\"},{\"attributes\":{\"text\":{\"field\":\"count\"},\"text_baseline\":\"middle\",\"text_color\":{\"value\":\"#d62728\"},\"text_font_size\":{\"value\":\"1em\"},\"x\":{\"field\":\"count\"},\"x_offset\":{\"value\":10},\"y\":{\"field\":\"factors\"}},\"id\":\"2255\",\"type\":\"Text\"},{\"attributes\":{\"data_source\":{\"id\":\"2247\",\"type\":\"ColumnDataSource\"},\"glyph\":{\"id\":\"2249\",\"type\":\"Text\"},\"hover_glyph\":null,\"muted_glyph\":null,\"nonselection_glyph\":{\"id\":\"2250\",\"type\":\"Text\"},\"selection_glyph\":null,\"view\":{\"id\":\"2252\",\"type\":\"CDSView\"}},\"id\":\"2251\",\"type\":\"GlyphRenderer\"},{\"attributes\":{\"callback\":null,\"factor_padding\":0.25,\"factors\":[\"Focus Home Interactive\",\"Paradise Project\",\"Devolver Digital\",\"Electronic Arts\",\"Microsoft Studios\",\"Ubisoft\",\"Valve\",\"Paradox Interactive\",\"SEGA\",\"BANDAI NAMCO Entertainment\"]},\"id\":\"2199\",\"type\":\"FactorRange\"},{\"attributes\":{\"source\":{\"id\":\"2289\",\"type\":\"ColumnDataSource\"}},\"id\":\"2294\",\"type\":\"CDSView\"},{\"attributes\":{\"fill_color\":{\"field\":\"factors\",\"transform\":{\"id\":\"2226\",\"type\":\"CategoricalColorMapper\"}},\"height\":{\"value\":0.9},\"line_color\":{\"value\":\"white\"},\"right\":{\"field\":\"count\"},\"y\":{\"field\":\"factors\"}},\"id\":\"2230\",\"type\":\"HBar\"},{\"attributes\":{\"end\":1,\"factors\":[\"BANDAI NAMCO Entertainment\",\"Devolver Digital\",\"Electronic Arts\",\"Focus Home Interactive\",\"Microsoft Studios\",\"Paradise Project\",\"Paradox Interactive\",\"SEGA\",\"Ubisoft\",\"Valve\"],\"palette\":[\"#1f77b4\",\"#ff7f0e\",\"#2ca02c\",\"#d62728\",\"#9467bd\",\"#8c564b\",\"#e377c2\",\"#7f7f7f\",\"#bcbd22\",\"#17becf\"]},\"id\":\"2226\",\"type\":\"CategoricalColorMapper\"},{\"attributes\":{\"data_source\":{\"id\":\"2283\",\"type\":\"ColumnDataSource\"},\"glyph\":{\"id\":\"2285\",\"type\":\"Text\"},\"hover_glyph\":null,\"muted_glyph\":null,\"nonselection_glyph\":{\"id\":\"2286\",\"type\":\"Text\"},\"selection_glyph\":null,\"view\":{\"id\":\"2288\",\"type\":\"CDSView\"}},\"id\":\"2287\",\"type\":\"GlyphRenderer\"},{\"attributes\":{\"source\":{\"id\":\"2247\",\"type\":\"ColumnDataSource\"}},\"id\":\"2252\",\"type\":\"CDSView\"},{\"attributes\":{\"callback\":null,\"data\":{\"count\":[12],\"factors\":[\"Ubisoft\"],\"index\":[0]},\"name\":\"Series:\",\"selected\":{\"id\":\"2415\",\"type\":\"Selection\"},\"selection_policy\":{\"id\":\"2414\",\"type\":\"UnionRenderers\"}},\"id\":\"2283\",\"type\":\"ColumnDataSource\"},{\"attributes\":{\"callback\":null,\"end\":20,\"start\":0},\"id\":\"2197\",\"type\":\"DataRange1d\"},{\"attributes\":{\"fill_alpha\":{\"value\":0.1},\"fill_color\":{\"value\":\"#1f77b4\"},\"height\":{\"value\":0.9},\"line_alpha\":{\"value\":0.1},\"line_color\":{\"value\":\"#1f77b4\"},\"right\":{\"field\":\"count\"},\"y\":{\"field\":\"factors\"}},\"id\":\"2231\",\"type\":\"HBar\"},{\"attributes\":{},\"id\":\"2417\",\"type\":\"Selection\"},{\"attributes\":{\"data_source\":{\"id\":\"2225\",\"type\":\"ColumnDataSource\"},\"glyph\":{\"id\":\"2230\",\"type\":\"HBar\"},\"hover_glyph\":null,\"muted_glyph\":null,\"nonselection_glyph\":{\"id\":\"2231\",\"type\":\"HBar\"},\"selection_glyph\":null,\"view\":{\"id\":\"2233\",\"type\":\"CDSView\"}},\"id\":\"2232\",\"type\":\"GlyphRenderer\"},{\"attributes\":{\"source\":{\"id\":\"2225\",\"type\":\"ColumnDataSource\"}},\"id\":\"2233\",\"type\":\"CDSView\"},{\"attributes\":{\"dimension\":1,\"grid_line_color\":{\"value\":null},\"plot\":{\"id\":\"2196\",\"subtype\":\"Figure\",\"type\":\"Plot\"},\"ticker\":{\"id\":\"2211\",\"type\":\"CategoricalTicker\"}},\"id\":\"2213\",\"type\":\"Grid\"},{\"attributes\":{\"text\":{\"field\":\"count\"},\"text_baseline\":\"middle\",\"text_color\":{\"value\":\"#8c564b\"},\"text_font_size\":{\"value\":\"1em\"},\"x\":{\"field\":\"count\"},\"x_offset\":{\"value\":10},\"y\":{\"field\":\"factors\"}},\"id\":\"2267\",\"type\":\"Text\"},{\"attributes\":{\"data_source\":{\"id\":\"2253\",\"type\":\"ColumnDataSource\"},\"glyph\":{\"id\":\"2255\",\"type\":\"Text\"},\"hover_glyph\":null,\"muted_glyph\":null,\"nonselection_glyph\":{\"id\":\"2256\",\"type\":\"Text\"},\"selection_glyph\":null,\"view\":{\"id\":\"2258\",\"type\":\"CDSView\"}},\"id\":\"2257\",\"type\":\"GlyphRenderer\"},{\"attributes\":{\"text\":{\"field\":\"count\"},\"text_baseline\":\"middle\",\"text_color\":{\"value\":\"#17becf\"},\"text_font_size\":{\"value\":\"1em\"},\"x\":{\"field\":\"count\"},\"x_offset\":{\"value\":10},\"y\":{\"field\":\"factors\"}},\"id\":\"2291\",\"type\":\"Text\"},{\"attributes\":{},\"id\":\"2415\",\"type\":\"Selection\"},{\"attributes\":{\"text\":{\"field\":\"count\"},\"text_baseline\":\"middle\",\"text_color\":{\"value\":\"#1f77b4\"},\"text_font_size\":{\"value\":\"1em\"},\"x\":{\"field\":\"count\"},\"x_offset\":{\"value\":10},\"y\":{\"field\":\"factors\"}},\"id\":\"2237\",\"type\":\"Text\"},{\"attributes\":{\"callback\":null,\"data\":{\"count\":[8],\"factors\":[\"Focus Home Interactive\"],\"index\":[0]},\"name\":\"Series:\",\"selected\":{\"id\":\"2405\",\"type\":\"Selection\"},\"selection_policy\":{\"id\":\"2404\",\"type\":\"UnionRenderers\"}},\"id\":\"2253\",\"type\":\"ColumnDataSource\"},{\"attributes\":{\"text\":{\"field\":\"count\"},\"text_alpha\":{\"value\":0.1},\"text_baseline\":\"middle\",\"text_color\":{\"value\":\"black\"},\"text_font_size\":{\"value\":\"1em\"},\"x\":{\"field\":\"count\"},\"x_offset\":{\"value\":10},\"y\":{\"field\":\"factors\"}},\"id\":\"2256\",\"type\":\"Text\"},{\"attributes\":{},\"id\":\"2396\",\"type\":\"UnionRenderers\"},{\"attributes\":{\"source\":{\"id\":\"2283\",\"type\":\"ColumnDataSource\"}},\"id\":\"2288\",\"type\":\"CDSView\"},{\"attributes\":{},\"id\":\"2414\",\"type\":\"UnionRenderers\"},{\"attributes\":{},\"id\":\"2416\",\"type\":\"UnionRenderers\"},{\"attributes\":{\"data_source\":{\"id\":\"2271\",\"type\":\"ColumnDataSource\"},\"glyph\":{\"id\":\"2273\",\"type\":\"Text\"},\"hover_glyph\":null,\"muted_glyph\":null,\"nonselection_glyph\":{\"id\":\"2274\",\"type\":\"Text\"},\"selection_glyph\":null,\"view\":{\"id\":\"2276\",\"type\":\"CDSView\"}},\"id\":\"2275\",\"type\":\"GlyphRenderer\"},{\"attributes\":{\"text\":{\"field\":\"count\"},\"text_baseline\":\"middle\",\"text_color\":{\"value\":\"#9467bd\"},\"text_font_size\":{\"value\":\"1em\"},\"x\":{\"field\":\"count\"},\"x_offset\":{\"value\":10},\"y\":{\"field\":\"factors\"}},\"id\":\"2261\",\"type\":\"Text\"},{\"attributes\":{\"axis_label\":\"Number of Games Publisher has in Top 1000\",\"axis_label_text_color\":{\"value\":\"#666666\"},\"axis_label_text_font_size\":{\"value\":\"11pt\"},\"axis_label_text_font_style\":\"bold\",\"axis_line_color\":{\"value\":\"#C0C0C0\"},\"formatter\":{\"id\":\"2227\",\"type\":\"NumeralTickFormatter\"},\"major_label_text_color\":{\"value\":\"#898989\"},\"major_label_text_font_size\":{\"value\":\"10pt\"},\"major_tick_in\":0,\"major_tick_line_color\":{\"value\":\"#C0C0C0\"},\"major_tick_out\":4,\"minor_tick_line_color\":{\"value\":\"#C0C0C0\"},\"minor_tick_out\":1,\"plot\":{\"id\":\"2196\",\"subtype\":\"Figure\",\"type\":\"Plot\"},\"ticker\":{\"id\":\"2206\",\"type\":\"BasicTicker\"}},\"id\":\"2205\",\"type\":\"LinearAxis\"},{\"attributes\":{},\"id\":\"2201\",\"type\":\"LinearScale\"},{\"attributes\":{\"text\":{\"field\":\"count\"},\"text_alpha\":{\"value\":0.1},\"text_baseline\":\"middle\",\"text_color\":{\"value\":\"black\"},\"text_font_size\":{\"value\":\"1em\"},\"x\":{\"field\":\"count\"},\"x_offset\":{\"value\":10},\"y\":{\"field\":\"factors\"}},\"id\":\"2238\",\"type\":\"Text\"},{\"attributes\":{\"axis_label\":\"Publishers\",\"axis_label_text_color\":{\"value\":\"#666666\"},\"axis_label_text_font_size\":{\"value\":\"11pt\"},\"axis_label_text_font_style\":\"bold\",\"axis_line_color\":{\"value\":\"#C0C0C0\"},\"formatter\":{\"id\":\"2394\",\"type\":\"CategoricalTickFormatter\"},\"group_text_font_size\":{\"value\":\"11pt\"},\"major_label_text_color\":{\"value\":\"#898989\"},\"major_label_text_font_size\":{\"value\":\"10pt\"},\"major_tick_in\":0,\"major_tick_line_color\":{\"value\":\"#C0C0C0\"},\"major_tick_out\":4,\"minor_tick_line_color\":{\"value\":\"#C0C0C0\"},\"minor_tick_out\":1,\"plot\":{\"id\":\"2196\",\"subtype\":\"Figure\",\"type\":\"Plot\"},\"separator_line_alpha\":{\"value\":0},\"subgroup_text_font_size\":{\"value\":\"11pt\"},\"ticker\":{\"id\":\"2211\",\"type\":\"CategoricalTicker\"}},\"id\":\"2210\",\"type\":\"CategoricalAxis\"},{\"attributes\":{\"callback\":null,\"data\":{\"count\":[12],\"factors\":[\"Valve\"],\"index\":[0]},\"name\":\"Series:\",\"selected\":{\"id\":\"2417\",\"type\":\"Selection\"},\"selection_policy\":{\"id\":\"2416\",\"type\":\"UnionRenderers\"}},\"id\":\"2289\",\"type\":\"ColumnDataSource\"},{\"attributes\":{\"plot\":{\"id\":\"2196\",\"subtype\":\"Figure\",\"type\":\"Plot\"},\"text\":\"\",\"text_color\":{\"value\":\"#666666\"},\"text_font_size\":{\"value\":\"12pt\"}},\"id\":\"2221\",\"type\":\"Title\"},{\"attributes\":{\"grid_line_color\":{\"value\":null},\"plot\":{\"id\":\"2196\",\"subtype\":\"Figure\",\"type\":\"Plot\"},\"ticker\":{\"id\":\"2206\",\"type\":\"BasicTicker\"}},\"id\":\"2209\",\"type\":\"Grid\"},{\"attributes\":{\"source\":{\"id\":\"2253\",\"type\":\"ColumnDataSource\"}},\"id\":\"2258\",\"type\":\"CDSView\"},{\"attributes\":{\"data_source\":{\"id\":\"2289\",\"type\":\"ColumnDataSource\"},\"glyph\":{\"id\":\"2291\",\"type\":\"Text\"},\"hover_glyph\":null,\"muted_glyph\":null,\"nonselection_glyph\":{\"id\":\"2292\",\"type\":\"Text\"},\"selection_glyph\":null,\"view\":{\"id\":\"2294\",\"type\":\"CDSView\"}},\"id\":\"2293\",\"type\":\"GlyphRenderer\"},{\"attributes\":{},\"id\":\"2206\",\"type\":\"BasicTicker\"},{\"attributes\":{},\"id\":\"2410\",\"type\":\"UnionRenderers\"},{\"attributes\":{},\"id\":\"2409\",\"type\":\"Selection\"},{\"attributes\":{\"callback\":null,\"data\":{\"count\":[8,9,10,11,11,12,12,13,14,15],\"factors\":[\"Focus Home Interactive\",\"Paradise Project\",\"Devolver Digital\",\"Electronic Arts\",\"Microsoft Studios\",\"Ubisoft\",\"Valve\",\"Paradox Interactive\",\"SEGA\",\"BANDAI NAMCO Entertainment\"],\"index\":[0,1,2,3,4,5,6,7,8,9]},\"name\":\"Series:\",\"selected\":{\"id\":\"2397\",\"type\":\"Selection\"},\"selection_policy\":{\"id\":\"2396\",\"type\":\"UnionRenderers\"}},\"id\":\"2225\",\"type\":\"ColumnDataSource\"},{\"attributes\":{\"text\":{\"field\":\"count\"},\"text_alpha\":{\"value\":0.1},\"text_baseline\":\"middle\",\"text_color\":{\"value\":\"black\"},\"text_font_size\":{\"value\":\"1em\"},\"x\":{\"field\":\"count\"},\"x_offset\":{\"value\":10},\"y\":{\"field\":\"factors\"}},\"id\":\"2292\",\"type\":\"Text\"},{\"attributes\":{},\"id\":\"2394\",\"type\":\"CategoricalTickFormatter\"},{\"attributes\":{\"callback\":null,\"data\":{\"count\":[9],\"factors\":[\"Paradise Project\"],\"index\":[0]},\"name\":\"Series:\",\"selected\":{\"id\":\"2409\",\"type\":\"Selection\"},\"selection_policy\":{\"id\":\"2408\",\"type\":\"UnionRenderers\"}},\"id\":\"2265\",\"type\":\"ColumnDataSource\"},{\"attributes\":{\"text\":{\"field\":\"count\"},\"text_alpha\":{\"value\":0.1},\"text_baseline\":\"middle\",\"text_color\":{\"value\":\"black\"},\"text_font_size\":{\"value\":\"1em\"},\"x\":{\"field\":\"count\"},\"x_offset\":{\"value\":10},\"y\":{\"field\":\"factors\"}},\"id\":\"2262\",\"type\":\"Text\"},{\"attributes\":{},\"id\":\"2211\",\"type\":\"CategoricalTicker\"},{\"attributes\":{\"level\":\"overlay\",\"name\":\"subtitle\",\"plot\":{\"id\":\"2196\",\"subtype\":\"Figure\",\"type\":\"Plot\"},\"text\":\"Steam Website\",\"text_align\":\"right\",\"text_color\":{\"value\":\"#898989\"},\"text_font_size\":{\"value\":\"10px\"},\"x\":864.0,\"x_units\":\"screen\",\"y\":0,\"y_units\":\"screen\"},\"id\":\"2220\",\"type\":\"Label\"},{\"attributes\":{},\"id\":\"2412\",\"type\":\"UnionRenderers\"},{\"attributes\":{\"callback\":null,\"data\":{\"count\":[11],\"factors\":[\"Microsoft Studios\"],\"index\":[0]},\"name\":\"Series:\",\"selected\":{\"id\":\"2407\",\"type\":\"Selection\"},\"selection_policy\":{\"id\":\"2406\",\"type\":\"UnionRenderers\"}},\"id\":\"2259\",\"type\":\"ColumnDataSource\"},{\"attributes\":{},\"id\":\"2203\",\"type\":\"CategoricalScale\"},{\"attributes\":{},\"id\":\"2411\",\"type\":\"Selection\"}],\"root_ids\":[\"2196\"]},\"title\":\"Bokeh Application\",\"version\":\"1.0.1\"}};\n",
       "  var render_items = [{\"docid\":\"1f7f8511-118f-48b0-a29d-862316a8ec44\",\"roots\":{\"2196\":\"aba69d11-9177-454a-a39a-e6344eaa6e30\"}}];\n",
       "  root.Bokeh.embed.embed_items_notebook(docs_json, render_items);\n",
       "\n",
       "  }\n",
       "  if (root.Bokeh !== undefined) {\n",
       "    embed_document(root);\n",
       "  } else {\n",
       "    var attempts = 0;\n",
       "    var timer = setInterval(function(root) {\n",
       "      if (root.Bokeh !== undefined) {\n",
       "        embed_document(root);\n",
       "        clearInterval(timer);\n",
       "      }\n",
       "      attempts++;\n",
       "      if (attempts > 100) {\n",
       "        console.log(\"Bokeh: ERROR: Unable to run BokehJS code because BokehJS library is missing\");\n",
       "        clearInterval(timer);\n",
       "      }\n",
       "    }, 10, root)\n",
       "  }\n",
       "})(window);"
      ],
      "application/vnd.bokehjs_exec.v0+json": ""
     },
     "metadata": {
      "application/vnd.bokehjs_exec.v0+json": {
       "id": "2196"
      }
     },
     "output_type": "display_data"
    },
    {
     "data": {
      "text/html": [
       "\n",
       "\n",
       "\n",
       "\n",
       "\n",
       "\n",
       "  <div class=\"bk-root\" id=\"4c7ecc14-e890-4de0-a1ab-bcb2415ac259\"></div>\n"
      ]
     },
     "metadata": {},
     "output_type": "display_data"
    },
    {
     "data": {
      "application/javascript": [
       "(function(root) {\n",
       "  function embed_document(root) {\n",
       "    \n",
       "  var docs_json = {\"74d84f85-8653-4947-b364-39497a369e0f\":{\"roots\":{\"references\":[{\"attributes\":{\"above\":[{\"id\":\"2605\",\"type\":\"Title\"}],\"background_fill_color\":{\"value\":\"white\"},\"below\":[{\"id\":\"2589\",\"type\":\"CategoricalAxis\"},{\"id\":\"2604\",\"type\":\"Label\"}],\"border_fill_color\":{\"value\":\"white\"},\"left\":[{\"id\":\"2593\",\"type\":\"LinearAxis\"}],\"min_border_bottom\":60,\"min_border_left\":60,\"min_border_right\":60,\"min_border_top\":40,\"outline_line_color\":{\"value\":\"white\"},\"plot_height\":540,\"plot_width\":960,\"renderers\":[{\"id\":\"2589\",\"type\":\"CategoricalAxis\"},{\"id\":\"2592\",\"type\":\"Grid\"},{\"id\":\"2593\",\"type\":\"LinearAxis\"},{\"id\":\"2597\",\"type\":\"Grid\"},{\"id\":\"2604\",\"type\":\"Label\"},{\"id\":\"2605\",\"type\":\"Title\"},{\"id\":\"2616\",\"type\":\"GlyphRenderer\"},{\"id\":\"2623\",\"type\":\"GlyphRenderer\"},{\"id\":\"2629\",\"type\":\"GlyphRenderer\"},{\"id\":\"2635\",\"type\":\"GlyphRenderer\"},{\"id\":\"2641\",\"type\":\"GlyphRenderer\"},{\"id\":\"2647\",\"type\":\"GlyphRenderer\"},{\"id\":\"2653\",\"type\":\"GlyphRenderer\"},{\"id\":\"2659\",\"type\":\"GlyphRenderer\"},{\"id\":\"2665\",\"type\":\"GlyphRenderer\"},{\"id\":\"2671\",\"type\":\"GlyphRenderer\"},{\"id\":\"2677\",\"type\":\"GlyphRenderer\"}],\"title\":{\"id\":\"2601\",\"type\":\"Title\"},\"toolbar\":{\"id\":\"2599\",\"type\":\"Toolbar\"},\"x_range\":{\"id\":\"2581\",\"type\":\"FactorRange\"},\"x_scale\":{\"id\":\"2585\",\"type\":\"CategoricalScale\"},\"y_range\":{\"id\":\"2583\",\"type\":\"DataRange1d\"},\"y_scale\":{\"id\":\"2587\",\"type\":\"LinearScale\"}},\"id\":\"2580\",\"subtype\":\"Figure\",\"type\":\"Plot\"},{\"attributes\":{\"text\":{\"field\":\"count\"},\"text_align\":\"center\",\"text_alpha\":{\"value\":0.1},\"text_color\":{\"value\":\"black\"},\"text_font_size\":{\"value\":\"1em\"},\"x\":{\"field\":\"factors\"},\"y\":{\"field\":\"count\"},\"y_offset\":{\"value\":-4}},\"id\":\"2640\",\"type\":\"Text\"},{\"attributes\":{\"data_source\":{\"id\":\"2625\",\"type\":\"ColumnDataSource\"},\"glyph\":{\"id\":\"2627\",\"type\":\"Text\"},\"hover_glyph\":null,\"muted_glyph\":null,\"nonselection_glyph\":{\"id\":\"2628\",\"type\":\"Text\"},\"selection_glyph\":null,\"view\":{\"id\":\"2630\",\"type\":\"CDSView\"}},\"id\":\"2629\",\"type\":\"GlyphRenderer\"},{\"attributes\":{},\"id\":\"2824\",\"type\":\"Selection\"},{\"attributes\":{\"source\":{\"id\":\"2643\",\"type\":\"ColumnDataSource\"}},\"id\":\"2648\",\"type\":\"CDSView\"},{\"attributes\":{\"source\":{\"id\":\"2655\",\"type\":\"ColumnDataSource\"}},\"id\":\"2660\",\"type\":\"CDSView\"},{\"attributes\":{\"data_source\":{\"id\":\"2637\",\"type\":\"ColumnDataSource\"},\"glyph\":{\"id\":\"2639\",\"type\":\"Text\"},\"hover_glyph\":null,\"muted_glyph\":null,\"nonselection_glyph\":{\"id\":\"2640\",\"type\":\"Text\"},\"selection_glyph\":null,\"view\":{\"id\":\"2642\",\"type\":\"CDSView\"}},\"id\":\"2641\",\"type\":\"GlyphRenderer\"},{\"attributes\":{\"data_source\":{\"id\":\"2649\",\"type\":\"ColumnDataSource\"},\"glyph\":{\"id\":\"2651\",\"type\":\"Text\"},\"hover_glyph\":null,\"muted_glyph\":null,\"nonselection_glyph\":{\"id\":\"2652\",\"type\":\"Text\"},\"selection_glyph\":null,\"view\":{\"id\":\"2654\",\"type\":\"CDSView\"}},\"id\":\"2653\",\"type\":\"GlyphRenderer\"},{\"attributes\":{\"text\":{\"field\":\"count\"},\"text_align\":\"center\",\"text_color\":{\"value\":\"#7f7f7f\"},\"text_font_size\":{\"value\":\"1em\"},\"x\":{\"field\":\"factors\"},\"y\":{\"field\":\"count\"},\"y_offset\":{\"value\":-4}},\"id\":\"2663\",\"type\":\"Text\"},{\"attributes\":{\"text\":{\"field\":\"count\"},\"text_align\":\"center\",\"text_alpha\":{\"value\":0.1},\"text_color\":{\"value\":\"black\"},\"text_font_size\":{\"value\":\"1em\"},\"x\":{\"field\":\"factors\"},\"y\":{\"field\":\"count\"},\"y_offset\":{\"value\":-4}},\"id\":\"2652\",\"type\":\"Text\"},{\"attributes\":{\"text\":{\"field\":\"count\"},\"text_align\":\"center\",\"text_alpha\":{\"value\":0.1},\"text_color\":{\"value\":\"black\"},\"text_font_size\":{\"value\":\"1em\"},\"x\":{\"field\":\"factors\"},\"y\":{\"field\":\"count\"},\"y_offset\":{\"value\":-4}},\"id\":\"2664\",\"type\":\"Text\"},{\"attributes\":{\"text\":{\"field\":\"count\"},\"text_align\":\"center\",\"text_color\":{\"value\":\"#2ca02c\"},\"text_font_size\":{\"value\":\"1em\"},\"x\":{\"field\":\"factors\"},\"y\":{\"field\":\"count\"},\"y_offset\":{\"value\":-4}},\"id\":\"2633\",\"type\":\"Text\"},{\"attributes\":{\"callback\":null,\"data\":{\"count\":[207],\"factors\":[\"Free to Play\"],\"index\":[0]},\"name\":\"Series:\",\"selected\":{\"id\":\"2816\",\"type\":\"Selection\"},\"selection_policy\":{\"id\":\"2815\",\"type\":\"UnionRenderers\"}},\"id\":\"2637\",\"type\":\"ColumnDataSource\"},{\"attributes\":{},\"id\":\"2823\",\"type\":\"UnionRenderers\"},{\"attributes\":{\"callback\":null,\"data\":{\"count\":[102],\"factors\":[\"Massively Multiplayer\"],\"index\":[0]},\"name\":\"Series:\",\"selected\":{\"id\":\"2820\",\"type\":\"Selection\"},\"selection_policy\":{\"id\":\"2819\",\"type\":\"UnionRenderers\"}},\"id\":\"2649\",\"type\":\"ColumnDataSource\"},{\"attributes\":{},\"id\":\"2814\",\"type\":\"Selection\"},{\"attributes\":{},\"id\":\"2819\",\"type\":\"UnionRenderers\"},{\"attributes\":{\"text\":{\"field\":\"count\"},\"text_align\":\"center\",\"text_color\":{\"value\":\"#8c564b\"},\"text_font_size\":{\"value\":\"1em\"},\"x\":{\"field\":\"factors\"},\"y\":{\"field\":\"count\"},\"y_offset\":{\"value\":-4}},\"id\":\"2651\",\"type\":\"Text\"},{\"attributes\":{\"source\":{\"id\":\"2625\",\"type\":\"ColumnDataSource\"}},\"id\":\"2630\",\"type\":\"CDSView\"},{\"attributes\":{\"text\":{\"field\":\"count\"},\"text_align\":\"center\",\"text_color\":{\"value\":\"#9467bd\"},\"text_font_size\":{\"value\":\"1em\"},\"x\":{\"field\":\"factors\"},\"y\":{\"field\":\"count\"},\"y_offset\":{\"value\":-4}},\"id\":\"2645\",\"type\":\"Text\"},{\"attributes\":{},\"id\":\"2818\",\"type\":\"Selection\"},{\"attributes\":{\"callback\":null,\"data\":{\"count\":[256],\"factors\":[\"RPG\"],\"index\":[0]},\"name\":\"Series:\",\"selected\":{\"id\":\"2824\",\"type\":\"Selection\"},\"selection_policy\":{\"id\":\"2823\",\"type\":\"UnionRenderers\"}},\"id\":\"2661\",\"type\":\"ColumnDataSource\"},{\"attributes\":{\"data_source\":{\"id\":\"2661\",\"type\":\"ColumnDataSource\"},\"glyph\":{\"id\":\"2663\",\"type\":\"Text\"},\"hover_glyph\":null,\"muted_glyph\":null,\"nonselection_glyph\":{\"id\":\"2664\",\"type\":\"Text\"},\"selection_glyph\":null,\"view\":{\"id\":\"2666\",\"type\":\"CDSView\"}},\"id\":\"2665\",\"type\":\"GlyphRenderer\"},{\"attributes\":{},\"id\":\"2817\",\"type\":\"UnionRenderers\"},{\"attributes\":{\"source\":{\"id\":\"2637\",\"type\":\"ColumnDataSource\"}},\"id\":\"2642\",\"type\":\"CDSView\"},{\"attributes\":{},\"id\":\"2811\",\"type\":\"UnionRenderers\"},{\"attributes\":{},\"id\":\"2816\",\"type\":\"Selection\"},{\"attributes\":{},\"id\":\"2821\",\"type\":\"UnionRenderers\"},{\"attributes\":{\"text\":{\"field\":\"count\"},\"text_align\":\"center\",\"text_alpha\":{\"value\":0.1},\"text_color\":{\"value\":\"black\"},\"text_font_size\":{\"value\":\"1em\"},\"x\":{\"field\":\"factors\"},\"y\":{\"field\":\"count\"},\"y_offset\":{\"value\":-4}},\"id\":\"2658\",\"type\":\"Text\"},{\"attributes\":{\"text\":{\"field\":\"count\"},\"text_align\":\"center\",\"text_color\":{\"value\":\"#bcbd22\"},\"text_font_size\":{\"value\":\"1em\"},\"x\":{\"field\":\"factors\"},\"y\":{\"field\":\"count\"},\"y_offset\":{\"value\":-4}},\"id\":\"2669\",\"type\":\"Text\"},{\"attributes\":{},\"id\":\"2815\",\"type\":\"UnionRenderers\"},{\"attributes\":{\"callback\":null,\"data\":{\"count\":[89],\"factors\":[\"Multiplayer\"],\"index\":[0]},\"name\":\"Series:\",\"selected\":{\"id\":\"2822\",\"type\":\"Selection\"},\"selection_policy\":{\"id\":\"2821\",\"type\":\"UnionRenderers\"}},\"id\":\"2655\",\"type\":\"ColumnDataSource\"},{\"attributes\":{\"callback\":null,\"data\":{\"count\":[157],\"factors\":[\"Casual\"],\"index\":[0]},\"name\":\"Series:\",\"selected\":{\"id\":\"2814\",\"type\":\"Selection\"},\"selection_policy\":{\"id\":\"2813\",\"type\":\"UnionRenderers\"}},\"id\":\"2631\",\"type\":\"ColumnDataSource\"},{\"attributes\":{\"data_source\":{\"id\":\"2631\",\"type\":\"ColumnDataSource\"},\"glyph\":{\"id\":\"2633\",\"type\":\"Text\"},\"hover_glyph\":null,\"muted_glyph\":null,\"nonselection_glyph\":{\"id\":\"2634\",\"type\":\"Text\"},\"selection_glyph\":null,\"view\":{\"id\":\"2636\",\"type\":\"CDSView\"}},\"id\":\"2635\",\"type\":\"GlyphRenderer\"},{\"attributes\":{\"text\":{\"field\":\"count\"},\"text_align\":\"center\",\"text_alpha\":{\"value\":0.1},\"text_color\":{\"value\":\"black\"},\"text_font_size\":{\"value\":\"1em\"},\"x\":{\"field\":\"factors\"},\"y\":{\"field\":\"count\"},\"y_offset\":{\"value\":-4}},\"id\":\"2634\",\"type\":\"Text\"},{\"attributes\":{\"plot\":{\"id\":\"2580\",\"subtype\":\"Figure\",\"type\":\"Plot\"},\"text\":\"\",\"text_color\":{\"value\":\"#666666\"},\"text_font_size\":{\"value\":\"12pt\"}},\"id\":\"2605\",\"type\":\"Title\"},{\"attributes\":{},\"id\":\"2822\",\"type\":\"Selection\"},{\"attributes\":{\"callback\":null,\"data\":{\"count\":[540],\"factors\":[\"Indie\"],\"index\":[0]},\"name\":\"Series:\",\"selected\":{\"id\":\"2818\",\"type\":\"Selection\"},\"selection_policy\":{\"id\":\"2817\",\"type\":\"UnionRenderers\"}},\"id\":\"2643\",\"type\":\"ColumnDataSource\"},{\"attributes\":{\"source\":{\"id\":\"2661\",\"type\":\"ColumnDataSource\"}},\"id\":\"2666\",\"type\":\"CDSView\"},{\"attributes\":{\"text\":{\"field\":\"count\"},\"text_align\":\"center\",\"text_color\":{\"value\":\"#e377c2\"},\"text_font_size\":{\"value\":\"1em\"},\"x\":{\"field\":\"factors\"},\"y\":{\"field\":\"count\"},\"y_offset\":{\"value\":-4}},\"id\":\"2657\",\"type\":\"Text\"},{\"attributes\":{\"source\":{\"id\":\"2649\",\"type\":\"ColumnDataSource\"}},\"id\":\"2654\",\"type\":\"CDSView\"},{\"attributes\":{},\"id\":\"2808\",\"type\":\"Selection\"},{\"attributes\":{},\"id\":\"2809\",\"type\":\"UnionRenderers\"},{\"attributes\":{\"data_source\":{\"id\":\"2643\",\"type\":\"ColumnDataSource\"},\"glyph\":{\"id\":\"2645\",\"type\":\"Text\"},\"hover_glyph\":null,\"muted_glyph\":null,\"nonselection_glyph\":{\"id\":\"2646\",\"type\":\"Text\"},\"selection_glyph\":null,\"view\":{\"id\":\"2648\",\"type\":\"CDSView\"}},\"id\":\"2647\",\"type\":\"GlyphRenderer\"},{\"attributes\":{},\"id\":\"2807\",\"type\":\"UnionRenderers\"},{\"attributes\":{\"text\":{\"field\":\"count\"},\"text_align\":\"center\",\"text_alpha\":{\"value\":0.1},\"text_color\":{\"value\":\"black\"},\"text_font_size\":{\"value\":\"1em\"},\"x\":{\"field\":\"factors\"},\"y\":{\"field\":\"count\"},\"y_offset\":{\"value\":-4}},\"id\":\"2670\",\"type\":\"Text\"},{\"attributes\":{\"text\":{\"field\":\"count\"},\"text_align\":\"center\",\"text_color\":{\"value\":\"#d62728\"},\"text_font_size\":{\"value\":\"1em\"},\"x\":{\"field\":\"factors\"},\"y\":{\"field\":\"count\"},\"y_offset\":{\"value\":-4}},\"id\":\"2639\",\"type\":\"Text\"},{\"attributes\":{\"text\":{\"field\":\"count\"},\"text_align\":\"center\",\"text_alpha\":{\"value\":0.1},\"text_color\":{\"value\":\"black\"},\"text_font_size\":{\"value\":\"1em\"},\"x\":{\"field\":\"factors\"},\"y\":{\"field\":\"count\"},\"y_offset\":{\"value\":-4}},\"id\":\"2646\",\"type\":\"Text\"},{\"attributes\":{},\"id\":\"2810\",\"type\":\"Selection\"},{\"attributes\":{},\"id\":\"2812\",\"type\":\"Selection\"},{\"attributes\":{\"source\":{\"id\":\"2631\",\"type\":\"ColumnDataSource\"}},\"id\":\"2636\",\"type\":\"CDSView\"},{\"attributes\":{\"callback\":null,\"data\":{\"count\":[206],\"factors\":[\"Simulation\"],\"index\":[0]},\"name\":\"Series:\",\"selected\":{\"id\":\"2826\",\"type\":\"Selection\"},\"selection_policy\":{\"id\":\"2825\",\"type\":\"UnionRenderers\"}},\"id\":\"2667\",\"type\":\"ColumnDataSource\"},{\"attributes\":{},\"id\":\"2813\",\"type\":\"UnionRenderers\"},{\"attributes\":{\"data_source\":{\"id\":\"2667\",\"type\":\"ColumnDataSource\"},\"glyph\":{\"id\":\"2669\",\"type\":\"Text\"},\"hover_glyph\":null,\"muted_glyph\":null,\"nonselection_glyph\":{\"id\":\"2670\",\"type\":\"Text\"},\"selection_glyph\":null,\"view\":{\"id\":\"2672\",\"type\":\"CDSView\"}},\"id\":\"2671\",\"type\":\"GlyphRenderer\"},{\"attributes\":{\"source\":{\"id\":\"2619\",\"type\":\"ColumnDataSource\"}},\"id\":\"2624\",\"type\":\"CDSView\"},{\"attributes\":{\"data_source\":{\"id\":\"2609\",\"type\":\"ColumnDataSource\"},\"glyph\":{\"id\":\"2614\",\"type\":\"VBar\"},\"hover_glyph\":null,\"muted_glyph\":null,\"nonselection_glyph\":{\"id\":\"2615\",\"type\":\"VBar\"},\"selection_glyph\":null,\"view\":{\"id\":\"2617\",\"type\":\"CDSView\"}},\"id\":\"2616\",\"type\":\"GlyphRenderer\"},{\"attributes\":{\"fill_alpha\":{\"value\":0.1},\"fill_color\":{\"value\":\"#1f77b4\"},\"line_alpha\":{\"value\":0.1},\"line_color\":{\"value\":\"#1f77b4\"},\"top\":{\"field\":\"count\"},\"width\":{\"value\":0.9},\"x\":{\"field\":\"factors\"}},\"id\":\"2615\",\"type\":\"VBar\"},{\"attributes\":{\"text\":{\"field\":\"count\"},\"text_align\":\"center\",\"text_color\":{\"value\":\"#1f77b4\"},\"text_font_size\":{\"value\":\"1em\"},\"x\":{\"field\":\"factors\"},\"y\":{\"field\":\"count\"},\"y_offset\":{\"value\":-4}},\"id\":\"2621\",\"type\":\"Text\"},{\"attributes\":{\"text\":{\"field\":\"count\"},\"text_align\":\"center\",\"text_alpha\":{\"value\":0.1},\"text_color\":{\"value\":\"black\"},\"text_font_size\":{\"value\":\"1em\"},\"x\":{\"field\":\"factors\"},\"y\":{\"field\":\"count\"},\"y_offset\":{\"value\":-4}},\"id\":\"2622\",\"type\":\"Text\"},{\"attributes\":{},\"id\":\"2828\",\"type\":\"Selection\"},{\"attributes\":{\"grid_line_color\":{\"value\":null},\"plot\":{\"id\":\"2580\",\"subtype\":\"Figure\",\"type\":\"Plot\"},\"ticker\":{\"id\":\"2590\",\"type\":\"CategoricalTicker\"}},\"id\":\"2592\",\"type\":\"Grid\"},{\"attributes\":{\"text\":{\"field\":\"count\"},\"text_align\":\"center\",\"text_color\":{\"value\":\"#17becf\"},\"text_font_size\":{\"value\":\"1em\"},\"x\":{\"field\":\"factors\"},\"y\":{\"field\":\"count\"},\"y_offset\":{\"value\":-4}},\"id\":\"2675\",\"type\":\"Text\"},{\"attributes\":{},\"id\":\"2590\",\"type\":\"CategoricalTicker\"},{\"attributes\":{\"axis_label\":\"Genre\",\"axis_label_text_color\":{\"value\":\"#666666\"},\"axis_label_text_font_size\":{\"value\":\"11pt\"},\"axis_label_text_font_style\":\"bold\",\"axis_line_color\":{\"value\":\"#C0C0C0\"},\"formatter\":{\"id\":\"2804\",\"type\":\"CategoricalTickFormatter\"},\"group_text_font_size\":{\"value\":\"11pt\"},\"major_label_text_color\":{\"value\":\"#898989\"},\"major_label_text_font_size\":{\"value\":\"10pt\"},\"major_tick_in\":0,\"major_tick_line_color\":{\"value\":\"#C0C0C0\"},\"major_tick_out\":4,\"minor_tick_line_color\":{\"value\":\"#C0C0C0\"},\"minor_tick_out\":1,\"plot\":{\"id\":\"2580\",\"subtype\":\"Figure\",\"type\":\"Plot\"},\"separator_line_alpha\":{\"value\":0},\"subgroup_text_font_size\":{\"value\":\"11pt\"},\"ticker\":{\"id\":\"2590\",\"type\":\"CategoricalTicker\"}},\"id\":\"2589\",\"type\":\"CategoricalAxis\"},{\"attributes\":{},\"id\":\"2587\",\"type\":\"LinearScale\"},{\"attributes\":{\"data_source\":{\"id\":\"2655\",\"type\":\"ColumnDataSource\"},\"glyph\":{\"id\":\"2657\",\"type\":\"Text\"},\"hover_glyph\":null,\"muted_glyph\":null,\"nonselection_glyph\":{\"id\":\"2658\",\"type\":\"Text\"},\"selection_glyph\":null,\"view\":{\"id\":\"2660\",\"type\":\"CDSView\"}},\"id\":\"2659\",\"type\":\"GlyphRenderer\"},{\"attributes\":{\"source\":{\"id\":\"2667\",\"type\":\"ColumnDataSource\"}},\"id\":\"2672\",\"type\":\"CDSView\"},{\"attributes\":{\"source\":{\"id\":\"2609\",\"type\":\"ColumnDataSource\"}},\"id\":\"2617\",\"type\":\"CDSView\"},{\"attributes\":{\"plot\":null,\"text\":\"Top 10 Well Recieved Game Genres on Steam\",\"text_color\":{\"value\":\"#333333\"},\"text_font_size\":{\"value\":\"18pt\"}},\"id\":\"2601\",\"type\":\"Title\"},{\"attributes\":{\"callback\":null,\"end\":750,\"start\":0},\"id\":\"2583\",\"type\":\"DataRange1d\"},{\"attributes\":{},\"id\":\"2826\",\"type\":\"Selection\"},{\"attributes\":{},\"id\":\"2585\",\"type\":\"CategoricalScale\"},{\"attributes\":{\"data_source\":{\"id\":\"2673\",\"type\":\"ColumnDataSource\"},\"glyph\":{\"id\":\"2675\",\"type\":\"Text\"},\"hover_glyph\":null,\"muted_glyph\":null,\"nonselection_glyph\":{\"id\":\"2676\",\"type\":\"Text\"},\"selection_glyph\":null,\"view\":{\"id\":\"2678\",\"type\":\"CDSView\"}},\"id\":\"2677\",\"type\":\"GlyphRenderer\"},{\"attributes\":{\"callback\":null,\"data\":{\"count\":[232],\"factors\":[\"Strategy\"],\"index\":[0]},\"name\":\"Series:\",\"selected\":{\"id\":\"2828\",\"type\":\"Selection\"},\"selection_policy\":{\"id\":\"2827\",\"type\":\"UnionRenderers\"}},\"id\":\"2673\",\"type\":\"ColumnDataSource\"},{\"attributes\":{\"callback\":null,\"data\":{\"count\":[540,493,353,256,232,207,206,157,102,89],\"factors\":[\"Indie\",\"Action\",\"Adventure\",\"RPG\",\"Strategy\",\"Free to Play\",\"Simulation\",\"Casual\",\"Massively Multiplayer\",\"Multiplayer\"],\"index\":[0,1,2,3,4,5,6,7,8,9]},\"name\":\"Series:\",\"selected\":{\"id\":\"2808\",\"type\":\"Selection\"},\"selection_policy\":{\"id\":\"2807\",\"type\":\"UnionRenderers\"}},\"id\":\"2609\",\"type\":\"ColumnDataSource\"},{\"attributes\":{\"text\":{\"field\":\"count\"},\"text_align\":\"center\",\"text_alpha\":{\"value\":0.1},\"text_color\":{\"value\":\"black\"},\"text_font_size\":{\"value\":\"1em\"},\"x\":{\"field\":\"factors\"},\"y\":{\"field\":\"count\"},\"y_offset\":{\"value\":-4}},\"id\":\"2676\",\"type\":\"Text\"},{\"attributes\":{},\"id\":\"2804\",\"type\":\"CategoricalTickFormatter\"},{\"attributes\":{\"text\":{\"field\":\"count\"},\"text_align\":\"center\",\"text_color\":{\"value\":\"#ff7f0e\"},\"text_font_size\":{\"value\":\"1em\"},\"x\":{\"field\":\"factors\"},\"y\":{\"field\":\"count\"},\"y_offset\":{\"value\":-4}},\"id\":\"2627\",\"type\":\"Text\"},{\"attributes\":{\"data_source\":{\"id\":\"2619\",\"type\":\"ColumnDataSource\"},\"glyph\":{\"id\":\"2621\",\"type\":\"Text\"},\"hover_glyph\":null,\"muted_glyph\":null,\"nonselection_glyph\":{\"id\":\"2622\",\"type\":\"Text\"},\"selection_glyph\":null,\"view\":{\"id\":\"2624\",\"type\":\"CDSView\"}},\"id\":\"2623\",\"type\":\"GlyphRenderer\"},{\"attributes\":{\"fill_color\":{\"field\":\"factors\",\"transform\":{\"id\":\"2610\",\"type\":\"CategoricalColorMapper\"}},\"line_color\":{\"value\":\"white\"},\"top\":{\"field\":\"count\"},\"width\":{\"value\":0.9},\"x\":{\"field\":\"factors\"}},\"id\":\"2614\",\"type\":\"VBar\"},{\"attributes\":{\"callback\":null,\"factor_padding\":0.25,\"factors\":[\"Indie\",\"Action\",\"Adventure\",\"RPG\",\"Strategy\",\"Free to Play\",\"Simulation\",\"Casual\",\"Massively Multiplayer\",\"Multiplayer\"]},\"id\":\"2581\",\"type\":\"FactorRange\"},{\"attributes\":{},\"id\":\"2820\",\"type\":\"Selection\"},{\"attributes\":{},\"id\":\"2598\",\"type\":\"SaveTool\"},{\"attributes\":{\"active_drag\":null,\"active_inspect\":\"auto\",\"active_multi\":null,\"active_scroll\":\"auto\",\"active_tap\":\"auto\",\"logo\":null,\"tools\":[{\"id\":\"2598\",\"type\":\"SaveTool\"}]},\"id\":\"2599\",\"type\":\"Toolbar\"},{\"attributes\":{\"text\":{\"field\":\"count\"},\"text_align\":\"center\",\"text_alpha\":{\"value\":0.1},\"text_color\":{\"value\":\"black\"},\"text_font_size\":{\"value\":\"1em\"},\"x\":{\"field\":\"factors\"},\"y\":{\"field\":\"count\"},\"y_offset\":{\"value\":-4}},\"id\":\"2628\",\"type\":\"Text\"},{\"attributes\":{\"dimension\":1,\"grid_line_color\":{\"value\":null},\"plot\":{\"id\":\"2580\",\"subtype\":\"Figure\",\"type\":\"Plot\"},\"ticker\":{\"id\":\"2594\",\"type\":\"BasicTicker\"}},\"id\":\"2597\",\"type\":\"Grid\"},{\"attributes\":{\"callback\":null,\"data\":{\"count\":[493],\"factors\":[\"Action\"],\"index\":[0]},\"name\":\"Series:\",\"selected\":{\"id\":\"2810\",\"type\":\"Selection\"},\"selection_policy\":{\"id\":\"2809\",\"type\":\"UnionRenderers\"}},\"id\":\"2619\",\"type\":\"ColumnDataSource\"},{\"attributes\":{},\"id\":\"2825\",\"type\":\"UnionRenderers\"},{\"attributes\":{\"source\":{\"id\":\"2673\",\"type\":\"ColumnDataSource\"}},\"id\":\"2678\",\"type\":\"CDSView\"},{\"attributes\":{},\"id\":\"2594\",\"type\":\"BasicTicker\"},{\"attributes\":{\"axis_label\":\"Number of Games\",\"axis_label_text_color\":{\"value\":\"#666666\"},\"axis_label_text_font_size\":{\"value\":\"11pt\"},\"axis_label_text_font_style\":\"bold\",\"axis_line_color\":{\"value\":\"#C0C0C0\"},\"formatter\":{\"id\":\"2611\",\"type\":\"NumeralTickFormatter\"},\"major_label_text_color\":{\"value\":\"#898989\"},\"major_label_text_font_size\":{\"value\":\"10pt\"},\"major_tick_in\":0,\"major_tick_line_color\":{\"value\":\"#C0C0C0\"},\"major_tick_out\":4,\"minor_tick_line_color\":{\"value\":\"#C0C0C0\"},\"minor_tick_out\":1,\"plot\":{\"id\":\"2580\",\"subtype\":\"Figure\",\"type\":\"Plot\"},\"ticker\":{\"id\":\"2594\",\"type\":\"BasicTicker\"}},\"id\":\"2593\",\"type\":\"LinearAxis\"},{\"attributes\":{\"format\":\"0,0.[000]\"},\"id\":\"2611\",\"type\":\"NumeralTickFormatter\"},{\"attributes\":{\"end\":1,\"factors\":[\"Action\",\"Adventure\",\"Casual\",\"Free to Play\",\"Indie\",\"Massively Multiplayer\",\"Multiplayer\",\"RPG\",\"Simulation\",\"Strategy\"],\"palette\":[\"#1f77b4\",\"#ff7f0e\",\"#2ca02c\",\"#d62728\",\"#9467bd\",\"#8c564b\",\"#e377c2\",\"#7f7f7f\",\"#bcbd22\",\"#17becf\"]},\"id\":\"2610\",\"type\":\"CategoricalColorMapper\"},{\"attributes\":{},\"id\":\"2827\",\"type\":\"UnionRenderers\"},{\"attributes\":{\"level\":\"overlay\",\"name\":\"subtitle\",\"plot\":{\"id\":\"2580\",\"subtype\":\"Figure\",\"type\":\"Plot\"},\"text\":\"Steam Website\",\"text_align\":\"right\",\"text_color\":{\"value\":\"#898989\"},\"text_font_size\":{\"value\":\"10px\"},\"x\":864.0,\"x_units\":\"screen\",\"y\":0,\"y_units\":\"screen\"},\"id\":\"2604\",\"type\":\"Label\"},{\"attributes\":{\"callback\":null,\"data\":{\"count\":[353],\"factors\":[\"Adventure\"],\"index\":[0]},\"name\":\"Series:\",\"selected\":{\"id\":\"2812\",\"type\":\"Selection\"},\"selection_policy\":{\"id\":\"2811\",\"type\":\"UnionRenderers\"}},\"id\":\"2625\",\"type\":\"ColumnDataSource\"}],\"root_ids\":[\"2580\"]},\"title\":\"Bokeh Application\",\"version\":\"1.0.1\"}};\n",
       "  var render_items = [{\"docid\":\"74d84f85-8653-4947-b364-39497a369e0f\",\"roots\":{\"2580\":\"4c7ecc14-e890-4de0-a1ab-bcb2415ac259\"}}];\n",
       "  root.Bokeh.embed.embed_items_notebook(docs_json, render_items);\n",
       "\n",
       "  }\n",
       "  if (root.Bokeh !== undefined) {\n",
       "    embed_document(root);\n",
       "  } else {\n",
       "    var attempts = 0;\n",
       "    var timer = setInterval(function(root) {\n",
       "      if (root.Bokeh !== undefined) {\n",
       "        embed_document(root);\n",
       "        clearInterval(timer);\n",
       "      }\n",
       "      attempts++;\n",
       "      if (attempts > 100) {\n",
       "        console.log(\"Bokeh: ERROR: Unable to run BokehJS code because BokehJS library is missing\");\n",
       "        clearInterval(timer);\n",
       "      }\n",
       "    }, 10, root)\n",
       "  }\n",
       "})(window);"
      ],
      "application/vnd.bokehjs_exec.v0+json": ""
     },
     "metadata": {
      "application/vnd.bokehjs_exec.v0+json": {
       "id": "2580"
      }
     },
     "output_type": "display_data"
    },
    {
     "data": {
      "text/html": [
       "\n",
       "\n",
       "\n",
       "\n",
       "\n",
       "\n",
       "  <div class=\"bk-root\" id=\"1cc164f1-30dc-49b3-92c4-ccedc61b6ae6\"></div>\n"
      ]
     },
     "metadata": {},
     "output_type": "display_data"
    },
    {
     "data": {
      "application/javascript": [
       "(function(root) {\n",
       "  function embed_document(root) {\n",
       "    \n",
       "  var docs_json = {\"13739d90-5268-4f79-bf95-f1747fd80e26\":{\"roots\":{\"references\":[{\"attributes\":{\"above\":[{\"id\":\"3016\",\"type\":\"Title\"}],\"background_fill_color\":{\"value\":\"white\"},\"below\":[{\"id\":\"3000\",\"type\":\"LinearAxis\"},{\"id\":\"3015\",\"type\":\"Label\"}],\"border_fill_color\":{\"value\":\"white\"},\"left\":[{\"id\":\"3005\",\"type\":\"CategoricalAxis\"}],\"min_border_bottom\":60,\"min_border_left\":60,\"min_border_right\":60,\"min_border_top\":40,\"outline_line_color\":{\"value\":\"white\"},\"plot_height\":540,\"plot_width\":960,\"renderers\":[{\"id\":\"3000\",\"type\":\"LinearAxis\"},{\"id\":\"3004\",\"type\":\"Grid\"},{\"id\":\"3005\",\"type\":\"CategoricalAxis\"},{\"id\":\"3008\",\"type\":\"Grid\"},{\"id\":\"3015\",\"type\":\"Label\"},{\"id\":\"3016\",\"type\":\"Title\"},{\"id\":\"3027\",\"type\":\"GlyphRenderer\"},{\"id\":\"3034\",\"type\":\"GlyphRenderer\"},{\"id\":\"3040\",\"type\":\"GlyphRenderer\"},{\"id\":\"3046\",\"type\":\"GlyphRenderer\"},{\"id\":\"3052\",\"type\":\"GlyphRenderer\"},{\"id\":\"3058\",\"type\":\"GlyphRenderer\"},{\"id\":\"3064\",\"type\":\"GlyphRenderer\"},{\"id\":\"3070\",\"type\":\"GlyphRenderer\"},{\"id\":\"3076\",\"type\":\"GlyphRenderer\"},{\"id\":\"3082\",\"type\":\"GlyphRenderer\"},{\"id\":\"3088\",\"type\":\"GlyphRenderer\"}],\"title\":{\"id\":\"3012\",\"type\":\"Title\"},\"toolbar\":{\"id\":\"3010\",\"type\":\"Toolbar\"},\"x_range\":{\"id\":\"2992\",\"type\":\"DataRange1d\"},\"x_scale\":{\"id\":\"2996\",\"type\":\"LinearScale\"},\"y_range\":{\"id\":\"2994\",\"type\":\"FactorRange\"},\"y_scale\":{\"id\":\"2998\",\"type\":\"CategoricalScale\"}},\"id\":\"2991\",\"subtype\":\"Figure\",\"type\":\"Plot\"},{\"attributes\":{},\"id\":\"3265\",\"type\":\"UnionRenderers\"},{\"attributes\":{},\"id\":\"3264\",\"type\":\"Selection\"},{\"attributes\":{\"source\":{\"id\":\"3078\",\"type\":\"ColumnDataSource\"}},\"id\":\"3083\",\"type\":\"CDSView\"},{\"attributes\":{\"text\":{\"field\":\"count\"},\"text_alpha\":{\"value\":0.1},\"text_baseline\":\"middle\",\"text_color\":{\"value\":\"black\"},\"text_font_size\":{\"value\":\"1em\"},\"x\":{\"field\":\"count\"},\"x_offset\":{\"value\":10},\"y\":{\"field\":\"factors\"}},\"id\":\"3087\",\"type\":\"Text\"},{\"attributes\":{\"text\":{\"field\":\"count\"},\"text_baseline\":\"middle\",\"text_color\":{\"value\":\"#17becf\"},\"text_font_size\":{\"value\":\"1em\"},\"x\":{\"field\":\"count\"},\"x_offset\":{\"value\":10},\"y\":{\"field\":\"factors\"}},\"id\":\"3086\",\"type\":\"Text\"},{\"attributes\":{\"fill_color\":{\"field\":\"factors\",\"transform\":{\"id\":\"3021\",\"type\":\"CategoricalColorMapper\"}},\"height\":{\"value\":0.9},\"line_color\":{\"value\":\"white\"},\"right\":{\"field\":\"count\"},\"y\":{\"field\":\"factors\"}},\"id\":\"3025\",\"type\":\"HBar\"},{\"attributes\":{},\"id\":\"3245\",\"type\":\"UnionRenderers\"},{\"attributes\":{},\"id\":\"3261\",\"type\":\"UnionRenderers\"},{\"attributes\":{\"data_source\":{\"id\":\"3084\",\"type\":\"ColumnDataSource\"},\"glyph\":{\"id\":\"3086\",\"type\":\"Text\"},\"hover_glyph\":null,\"muted_glyph\":null,\"nonselection_glyph\":{\"id\":\"3087\",\"type\":\"Text\"},\"selection_glyph\":null,\"view\":{\"id\":\"3089\",\"type\":\"CDSView\"}},\"id\":\"3088\",\"type\":\"GlyphRenderer\"},{\"attributes\":{},\"id\":\"3266\",\"type\":\"Selection\"},{\"attributes\":{\"callback\":null,\"data\":{\"count\":[592],\"factors\":[\"Steam Trading Cards\"],\"index\":[0]},\"name\":\"Series:\",\"selected\":{\"id\":\"3266\",\"type\":\"Selection\"},\"selection_policy\":{\"id\":\"3265\",\"type\":\"UnionRenderers\"}},\"id\":\"3084\",\"type\":\"ColumnDataSource\"},{\"attributes\":{},\"id\":\"3263\",\"type\":\"UnionRenderers\"},{\"attributes\":{},\"id\":\"3262\",\"type\":\"Selection\"},{\"attributes\":{\"source\":{\"id\":\"3084\",\"type\":\"ColumnDataSource\"}},\"id\":\"3089\",\"type\":\"CDSView\"},{\"attributes\":{},\"id\":\"3246\",\"type\":\"Selection\"},{\"attributes\":{},\"id\":\"3247\",\"type\":\"UnionRenderers\"},{\"attributes\":{\"data_source\":{\"id\":\"3066\",\"type\":\"ColumnDataSource\"},\"glyph\":{\"id\":\"3068\",\"type\":\"Text\"},\"hover_glyph\":null,\"muted_glyph\":null,\"nonselection_glyph\":{\"id\":\"3069\",\"type\":\"Text\"},\"selection_glyph\":null,\"view\":{\"id\":\"3071\",\"type\":\"CDSView\"}},\"id\":\"3070\",\"type\":\"GlyphRenderer\"},{\"attributes\":{\"plot\":null,\"text\":\"Top 10 Specs Well Received Games Have\",\"text_color\":{\"value\":\"#333333\"},\"text_font_size\":{\"value\":\"18pt\"}},\"id\":\"3012\",\"type\":\"Title\"},{\"attributes\":{},\"id\":\"3250\",\"type\":\"Selection\"},{\"attributes\":{\"text\":{\"field\":\"count\"},\"text_baseline\":\"middle\",\"text_color\":{\"value\":\"#1f77b4\"},\"text_font_size\":{\"value\":\"1em\"},\"x\":{\"field\":\"count\"},\"x_offset\":{\"value\":10},\"y\":{\"field\":\"factors\"}},\"id\":\"3032\",\"type\":\"Text\"},{\"attributes\":{\"text\":{\"field\":\"count\"},\"text_alpha\":{\"value\":0.1},\"text_baseline\":\"middle\",\"text_color\":{\"value\":\"black\"},\"text_font_size\":{\"value\":\"1em\"},\"x\":{\"field\":\"count\"},\"x_offset\":{\"value\":10},\"y\":{\"field\":\"factors\"}},\"id\":\"3045\",\"type\":\"Text\"},{\"attributes\":{},\"id\":\"3254\",\"type\":\"Selection\"},{\"attributes\":{\"data_source\":{\"id\":\"3060\",\"type\":\"ColumnDataSource\"},\"glyph\":{\"id\":\"3062\",\"type\":\"Text\"},\"hover_glyph\":null,\"muted_glyph\":null,\"nonselection_glyph\":{\"id\":\"3063\",\"type\":\"Text\"},\"selection_glyph\":null,\"view\":{\"id\":\"3065\",\"type\":\"CDSView\"}},\"id\":\"3064\",\"type\":\"GlyphRenderer\"},{\"attributes\":{},\"id\":\"3251\",\"type\":\"UnionRenderers\"},{\"attributes\":{\"text\":{\"field\":\"count\"},\"text_baseline\":\"middle\",\"text_color\":{\"value\":\"#2ca02c\"},\"text_font_size\":{\"value\":\"1em\"},\"x\":{\"field\":\"count\"},\"x_offset\":{\"value\":10},\"y\":{\"field\":\"factors\"}},\"id\":\"3044\",\"type\":\"Text\"},{\"attributes\":{\"callback\":null,\"data\":{\"count\":[486],\"factors\":[\"Steam Cloud\"],\"index\":[0]},\"name\":\"Series:\",\"selected\":{\"id\":\"3262\",\"type\":\"Selection\"},\"selection_policy\":{\"id\":\"3261\",\"type\":\"UnionRenderers\"}},\"id\":\"3072\",\"type\":\"ColumnDataSource\"},{\"attributes\":{\"source\":{\"id\":\"3048\",\"type\":\"ColumnDataSource\"}},\"id\":\"3053\",\"type\":\"CDSView\"},{\"attributes\":{\"text\":{\"field\":\"count\"},\"text_alpha\":{\"value\":0.1},\"text_baseline\":\"middle\",\"text_color\":{\"value\":\"black\"},\"text_font_size\":{\"value\":\"1em\"},\"x\":{\"field\":\"count\"},\"x_offset\":{\"value\":10},\"y\":{\"field\":\"factors\"}},\"id\":\"3033\",\"type\":\"Text\"},{\"attributes\":{\"text\":{\"field\":\"count\"},\"text_alpha\":{\"value\":0.1},\"text_baseline\":\"middle\",\"text_color\":{\"value\":\"black\"},\"text_font_size\":{\"value\":\"1em\"},\"x\":{\"field\":\"count\"},\"x_offset\":{\"value\":10},\"y\":{\"field\":\"factors\"}},\"id\":\"3057\",\"type\":\"Text\"},{\"attributes\":{\"text\":{\"field\":\"count\"},\"text_baseline\":\"middle\",\"text_color\":{\"value\":\"#9467bd\"},\"text_font_size\":{\"value\":\"1em\"},\"x\":{\"field\":\"count\"},\"x_offset\":{\"value\":10},\"y\":{\"field\":\"factors\"}},\"id\":\"3056\",\"type\":\"Text\"},{\"attributes\":{},\"id\":\"3249\",\"type\":\"UnionRenderers\"},{\"attributes\":{\"data_source\":{\"id\":\"3042\",\"type\":\"ColumnDataSource\"},\"glyph\":{\"id\":\"3044\",\"type\":\"Text\"},\"hover_glyph\":null,\"muted_glyph\":null,\"nonselection_glyph\":{\"id\":\"3045\",\"type\":\"Text\"},\"selection_glyph\":null,\"view\":{\"id\":\"3047\",\"type\":\"CDSView\"}},\"id\":\"3046\",\"type\":\"GlyphRenderer\"},{\"attributes\":{\"callback\":null,\"end\":1000,\"start\":0},\"id\":\"2992\",\"type\":\"DataRange1d\"},{\"attributes\":{},\"id\":\"3252\",\"type\":\"Selection\"},{\"attributes\":{\"source\":{\"id\":\"3072\",\"type\":\"ColumnDataSource\"}},\"id\":\"3077\",\"type\":\"CDSView\"},{\"attributes\":{\"callback\":null,\"data\":{\"count\":[401],\"factors\":[\"Multi-player\"],\"index\":[0]},\"name\":\"Series:\",\"selected\":{\"id\":\"3252\",\"type\":\"Selection\"},\"selection_policy\":{\"id\":\"3251\",\"type\":\"UnionRenderers\"}},\"id\":\"3042\",\"type\":\"ColumnDataSource\"},{\"attributes\":{\"data_source\":{\"id\":\"3030\",\"type\":\"ColumnDataSource\"},\"glyph\":{\"id\":\"3032\",\"type\":\"Text\"},\"hover_glyph\":null,\"muted_glyph\":null,\"nonselection_glyph\":{\"id\":\"3033\",\"type\":\"Text\"},\"selection_glyph\":null,\"view\":{\"id\":\"3035\",\"type\":\"CDSView\"}},\"id\":\"3034\",\"type\":\"GlyphRenderer\"},{\"attributes\":{\"callback\":null,\"data\":{\"count\":[845],\"factors\":[\"Single-player\"],\"index\":[0]},\"name\":\"Series:\",\"selected\":{\"id\":\"3258\",\"type\":\"Selection\"},\"selection_policy\":{\"id\":\"3257\",\"type\":\"UnionRenderers\"}},\"id\":\"3060\",\"type\":\"ColumnDataSource\"},{\"attributes\":{\"text\":{\"field\":\"count\"},\"text_baseline\":\"middle\",\"text_color\":{\"value\":\"#8c564b\"},\"text_font_size\":{\"value\":\"1em\"},\"x\":{\"field\":\"count\"},\"x_offset\":{\"value\":10},\"y\":{\"field\":\"factors\"}},\"id\":\"3062\",\"type\":\"Text\"},{\"attributes\":{\"callback\":null,\"data\":{\"count\":[169],\"factors\":[\"Steam Leaderboards\"],\"index\":[0]},\"name\":\"Series:\",\"selected\":{\"id\":\"3264\",\"type\":\"Selection\"},\"selection_policy\":{\"id\":\"3263\",\"type\":\"UnionRenderers\"}},\"id\":\"3078\",\"type\":\"ColumnDataSource\"},{\"attributes\":{\"text\":{\"field\":\"count\"},\"text_baseline\":\"middle\",\"text_color\":{\"value\":\"#7f7f7f\"},\"text_font_size\":{\"value\":\"1em\"},\"x\":{\"field\":\"count\"},\"x_offset\":{\"value\":10},\"y\":{\"field\":\"factors\"}},\"id\":\"3074\",\"type\":\"Text\"},{\"attributes\":{\"data_source\":{\"id\":\"3054\",\"type\":\"ColumnDataSource\"},\"glyph\":{\"id\":\"3056\",\"type\":\"Text\"},\"hover_glyph\":null,\"muted_glyph\":null,\"nonselection_glyph\":{\"id\":\"3057\",\"type\":\"Text\"},\"selection_glyph\":null,\"view\":{\"id\":\"3059\",\"type\":\"CDSView\"}},\"id\":\"3058\",\"type\":\"GlyphRenderer\"},{\"attributes\":{\"callback\":null,\"data\":{\"count\":[211],\"factors\":[\"Co-op\"],\"index\":[0]},\"name\":\"Series:\",\"selected\":{\"id\":\"3248\",\"type\":\"Selection\"},\"selection_policy\":{\"id\":\"3247\",\"type\":\"UnionRenderers\"}},\"id\":\"3030\",\"type\":\"ColumnDataSource\"},{\"attributes\":{},\"id\":\"3243\",\"type\":\"CategoricalTickFormatter\"},{\"attributes\":{},\"id\":\"3001\",\"type\":\"BasicTicker\"},{\"attributes\":{\"callback\":null,\"data\":{\"count\":[198],\"factors\":[\"Partial Controller Support\"],\"index\":[0]},\"name\":\"Series:\",\"selected\":{\"id\":\"3256\",\"type\":\"Selection\"},\"selection_policy\":{\"id\":\"3255\",\"type\":\"UnionRenderers\"}},\"id\":\"3054\",\"type\":\"ColumnDataSource\"},{\"attributes\":{},\"id\":\"2996\",\"type\":\"LinearScale\"},{\"attributes\":{\"text\":{\"field\":\"count\"},\"text_baseline\":\"middle\",\"text_color\":{\"value\":\"#d62728\"},\"text_font_size\":{\"value\":\"1em\"},\"x\":{\"field\":\"count\"},\"x_offset\":{\"value\":10},\"y\":{\"field\":\"factors\"}},\"id\":\"3050\",\"type\":\"Text\"},{\"attributes\":{\"data_source\":{\"id\":\"3078\",\"type\":\"ColumnDataSource\"},\"glyph\":{\"id\":\"3080\",\"type\":\"Text\"},\"hover_glyph\":null,\"muted_glyph\":null,\"nonselection_glyph\":{\"id\":\"3081\",\"type\":\"Text\"},\"selection_glyph\":null,\"view\":{\"id\":\"3083\",\"type\":\"CDSView\"}},\"id\":\"3082\",\"type\":\"GlyphRenderer\"},{\"attributes\":{\"callback\":null,\"data\":{\"count\":[691],\"factors\":[\"Steam Achievements\"],\"index\":[0]},\"name\":\"Series:\",\"selected\":{\"id\":\"3260\",\"type\":\"Selection\"},\"selection_policy\":{\"id\":\"3259\",\"type\":\"UnionRenderers\"}},\"id\":\"3066\",\"type\":\"ColumnDataSource\"},{\"attributes\":{\"dimension\":1,\"grid_line_color\":{\"value\":null},\"plot\":{\"id\":\"2991\",\"subtype\":\"Figure\",\"type\":\"Plot\"},\"ticker\":{\"id\":\"3006\",\"type\":\"CategoricalTicker\"}},\"id\":\"3008\",\"type\":\"Grid\"},{\"attributes\":{\"data_source\":{\"id\":\"3020\",\"type\":\"ColumnDataSource\"},\"glyph\":{\"id\":\"3025\",\"type\":\"HBar\"},\"hover_glyph\":null,\"muted_glyph\":null,\"nonselection_glyph\":{\"id\":\"3026\",\"type\":\"HBar\"},\"selection_glyph\":null,\"view\":{\"id\":\"3028\",\"type\":\"CDSView\"}},\"id\":\"3027\",\"type\":\"GlyphRenderer\"},{\"attributes\":{\"text\":{\"field\":\"count\"},\"text_baseline\":\"middle\",\"text_color\":{\"value\":\"#ff7f0e\"},\"text_font_size\":{\"value\":\"1em\"},\"x\":{\"field\":\"count\"},\"x_offset\":{\"value\":10},\"y\":{\"field\":\"factors\"}},\"id\":\"3038\",\"type\":\"Text\"},{\"attributes\":{\"source\":{\"id\":\"3030\",\"type\":\"ColumnDataSource\"}},\"id\":\"3035\",\"type\":\"CDSView\"},{\"attributes\":{\"data_source\":{\"id\":\"3072\",\"type\":\"ColumnDataSource\"},\"glyph\":{\"id\":\"3074\",\"type\":\"Text\"},\"hover_glyph\":null,\"muted_glyph\":null,\"nonselection_glyph\":{\"id\":\"3075\",\"type\":\"Text\"},\"selection_glyph\":null,\"view\":{\"id\":\"3077\",\"type\":\"CDSView\"}},\"id\":\"3076\",\"type\":\"GlyphRenderer\"},{\"attributes\":{\"axis_label\":\"Number of Games with Spec\",\"axis_label_text_color\":{\"value\":\"#666666\"},\"axis_label_text_font_size\":{\"value\":\"11pt\"},\"axis_label_text_font_style\":\"bold\",\"axis_line_color\":{\"value\":\"#C0C0C0\"},\"formatter\":{\"id\":\"3022\",\"type\":\"NumeralTickFormatter\"},\"major_label_text_color\":{\"value\":\"#898989\"},\"major_label_text_font_size\":{\"value\":\"10pt\"},\"major_tick_in\":0,\"major_tick_line_color\":{\"value\":\"#C0C0C0\"},\"major_tick_out\":4,\"minor_tick_line_color\":{\"value\":\"#C0C0C0\"},\"minor_tick_out\":1,\"plot\":{\"id\":\"2991\",\"subtype\":\"Figure\",\"type\":\"Plot\"},\"ticker\":{\"id\":\"3001\",\"type\":\"BasicTicker\"}},\"id\":\"3000\",\"type\":\"LinearAxis\"},{\"attributes\":{},\"id\":\"2998\",\"type\":\"CategoricalScale\"},{\"attributes\":{\"text\":{\"field\":\"count\"},\"text_baseline\":\"middle\",\"text_color\":{\"value\":\"#e377c2\"},\"text_font_size\":{\"value\":\"1em\"},\"x\":{\"field\":\"count\"},\"x_offset\":{\"value\":10},\"y\":{\"field\":\"factors\"}},\"id\":\"3068\",\"type\":\"Text\"},{\"attributes\":{},\"id\":\"3248\",\"type\":\"Selection\"},{\"attributes\":{\"callback\":null,\"factor_padding\":0.25,\"factors\":[\"Steam Leaderboards\",\"Partial Controller Support\",\"Co-op\",\"Online Multi-Player\",\"Full controller support\",\"Multi-player\",\"Steam Cloud\",\"Steam Trading Cards\",\"Steam Achievements\",\"Single-player\"]},\"id\":\"2994\",\"type\":\"FactorRange\"},{\"attributes\":{\"source\":{\"id\":\"3042\",\"type\":\"ColumnDataSource\"}},\"id\":\"3047\",\"type\":\"CDSView\"},{\"attributes\":{\"text\":{\"field\":\"count\"},\"text_baseline\":\"middle\",\"text_color\":{\"value\":\"#bcbd22\"},\"text_font_size\":{\"value\":\"1em\"},\"x\":{\"field\":\"count\"},\"x_offset\":{\"value\":10},\"y\":{\"field\":\"factors\"}},\"id\":\"3080\",\"type\":\"Text\"},{\"attributes\":{},\"id\":\"3256\",\"type\":\"Selection\"},{\"attributes\":{\"active_drag\":null,\"active_inspect\":\"auto\",\"active_multi\":null,\"active_scroll\":\"auto\",\"active_tap\":\"auto\",\"logo\":null,\"tools\":[{\"id\":\"3009\",\"type\":\"SaveTool\"}]},\"id\":\"3010\",\"type\":\"Toolbar\"},{\"attributes\":{},\"id\":\"3255\",\"type\":\"UnionRenderers\"},{\"attributes\":{\"text\":{\"field\":\"count\"},\"text_alpha\":{\"value\":0.1},\"text_baseline\":\"middle\",\"text_color\":{\"value\":\"black\"},\"text_font_size\":{\"value\":\"1em\"},\"x\":{\"field\":\"count\"},\"x_offset\":{\"value\":10},\"y\":{\"field\":\"factors\"}},\"id\":\"3063\",\"type\":\"Text\"},{\"attributes\":{},\"id\":\"3006\",\"type\":\"CategoricalTicker\"},{\"attributes\":{\"plot\":{\"id\":\"2991\",\"subtype\":\"Figure\",\"type\":\"Plot\"},\"text\":\"\",\"text_color\":{\"value\":\"#666666\"},\"text_font_size\":{\"value\":\"12pt\"}},\"id\":\"3016\",\"type\":\"Title\"},{\"attributes\":{\"axis_label\":\"Specs\",\"axis_label_text_color\":{\"value\":\"#666666\"},\"axis_label_text_font_size\":{\"value\":\"11pt\"},\"axis_label_text_font_style\":\"bold\",\"axis_line_color\":{\"value\":\"#C0C0C0\"},\"formatter\":{\"id\":\"3243\",\"type\":\"CategoricalTickFormatter\"},\"group_text_font_size\":{\"value\":\"11pt\"},\"major_label_text_color\":{\"value\":\"#898989\"},\"major_label_text_font_size\":{\"value\":\"10pt\"},\"major_tick_in\":0,\"major_tick_line_color\":{\"value\":\"#C0C0C0\"},\"major_tick_out\":4,\"minor_tick_line_color\":{\"value\":\"#C0C0C0\"},\"minor_tick_out\":1,\"plot\":{\"id\":\"2991\",\"subtype\":\"Figure\",\"type\":\"Plot\"},\"separator_line_alpha\":{\"value\":0},\"subgroup_text_font_size\":{\"value\":\"11pt\"},\"ticker\":{\"id\":\"3006\",\"type\":\"CategoricalTicker\"}},\"id\":\"3005\",\"type\":\"CategoricalAxis\"},{\"attributes\":{\"data_source\":{\"id\":\"3036\",\"type\":\"ColumnDataSource\"},\"glyph\":{\"id\":\"3038\",\"type\":\"Text\"},\"hover_glyph\":null,\"muted_glyph\":null,\"nonselection_glyph\":{\"id\":\"3039\",\"type\":\"Text\"},\"selection_glyph\":null,\"view\":{\"id\":\"3041\",\"type\":\"CDSView\"}},\"id\":\"3040\",\"type\":\"GlyphRenderer\"},{\"attributes\":{\"grid_line_color\":{\"value\":null},\"plot\":{\"id\":\"2991\",\"subtype\":\"Figure\",\"type\":\"Plot\"},\"ticker\":{\"id\":\"3001\",\"type\":\"BasicTicker\"}},\"id\":\"3004\",\"type\":\"Grid\"},{\"attributes\":{\"source\":{\"id\":\"3020\",\"type\":\"ColumnDataSource\"}},\"id\":\"3028\",\"type\":\"CDSView\"},{\"attributes\":{\"fill_alpha\":{\"value\":0.1},\"fill_color\":{\"value\":\"#1f77b4\"},\"height\":{\"value\":0.9},\"line_alpha\":{\"value\":0.1},\"line_color\":{\"value\":\"#1f77b4\"},\"right\":{\"field\":\"count\"},\"y\":{\"field\":\"factors\"}},\"id\":\"3026\",\"type\":\"HBar\"},{\"attributes\":{\"callback\":null,\"data\":{\"count\":[323],\"factors\":[\"Full controller support\"],\"index\":[0]},\"name\":\"Series:\",\"selected\":{\"id\":\"3250\",\"type\":\"Selection\"},\"selection_policy\":{\"id\":\"3249\",\"type\":\"UnionRenderers\"}},\"id\":\"3036\",\"type\":\"ColumnDataSource\"},{\"attributes\":{\"source\":{\"id\":\"3054\",\"type\":\"ColumnDataSource\"}},\"id\":\"3059\",\"type\":\"CDSView\"},{\"attributes\":{},\"id\":\"3009\",\"type\":\"SaveTool\"},{\"attributes\":{\"text\":{\"field\":\"count\"},\"text_alpha\":{\"value\":0.1},\"text_baseline\":\"middle\",\"text_color\":{\"value\":\"black\"},\"text_font_size\":{\"value\":\"1em\"},\"x\":{\"field\":\"count\"},\"x_offset\":{\"value\":10},\"y\":{\"field\":\"factors\"}},\"id\":\"3039\",\"type\":\"Text\"},{\"attributes\":{},\"id\":\"3257\",\"type\":\"UnionRenderers\"},{\"attributes\":{\"text\":{\"field\":\"count\"},\"text_alpha\":{\"value\":0.1},\"text_baseline\":\"middle\",\"text_color\":{\"value\":\"black\"},\"text_font_size\":{\"value\":\"1em\"},\"x\":{\"field\":\"count\"},\"x_offset\":{\"value\":10},\"y\":{\"field\":\"factors\"}},\"id\":\"3081\",\"type\":\"Text\"},{\"attributes\":{\"callback\":null,\"data\":{\"count\":[219],\"factors\":[\"Online Multi-Player\"],\"index\":[0]},\"name\":\"Series:\",\"selected\":{\"id\":\"3254\",\"type\":\"Selection\"},\"selection_policy\":{\"id\":\"3253\",\"type\":\"UnionRenderers\"}},\"id\":\"3048\",\"type\":\"ColumnDataSource\"},{\"attributes\":{\"text\":{\"field\":\"count\"},\"text_alpha\":{\"value\":0.1},\"text_baseline\":\"middle\",\"text_color\":{\"value\":\"black\"},\"text_font_size\":{\"value\":\"1em\"},\"x\":{\"field\":\"count\"},\"x_offset\":{\"value\":10},\"y\":{\"field\":\"factors\"}},\"id\":\"3075\",\"type\":\"Text\"},{\"attributes\":{\"text\":{\"field\":\"count\"},\"text_alpha\":{\"value\":0.1},\"text_baseline\":\"middle\",\"text_color\":{\"value\":\"black\"},\"text_font_size\":{\"value\":\"1em\"},\"x\":{\"field\":\"count\"},\"x_offset\":{\"value\":10},\"y\":{\"field\":\"factors\"}},\"id\":\"3069\",\"type\":\"Text\"},{\"attributes\":{},\"id\":\"3258\",\"type\":\"Selection\"},{\"attributes\":{\"end\":1,\"factors\":[\"Co-op\",\"Full controller support\",\"Multi-player\",\"Online Multi-Player\",\"Partial Controller Support\",\"Single-player\",\"Steam Achievements\",\"Steam Cloud\",\"Steam Leaderboards\",\"Steam Trading Cards\"],\"palette\":[\"#1f77b4\",\"#ff7f0e\",\"#2ca02c\",\"#d62728\",\"#9467bd\",\"#8c564b\",\"#e377c2\",\"#7f7f7f\",\"#bcbd22\",\"#17becf\"]},\"id\":\"3021\",\"type\":\"CategoricalColorMapper\"},{\"attributes\":{\"format\":\"0,0.[000]\"},\"id\":\"3022\",\"type\":\"NumeralTickFormatter\"},{\"attributes\":{},\"id\":\"3253\",\"type\":\"UnionRenderers\"},{\"attributes\":{\"data_source\":{\"id\":\"3048\",\"type\":\"ColumnDataSource\"},\"glyph\":{\"id\":\"3050\",\"type\":\"Text\"},\"hover_glyph\":null,\"muted_glyph\":null,\"nonselection_glyph\":{\"id\":\"3051\",\"type\":\"Text\"},\"selection_glyph\":null,\"view\":{\"id\":\"3053\",\"type\":\"CDSView\"}},\"id\":\"3052\",\"type\":\"GlyphRenderer\"},{\"attributes\":{\"text\":{\"field\":\"count\"},\"text_alpha\":{\"value\":0.1},\"text_baseline\":\"middle\",\"text_color\":{\"value\":\"black\"},\"text_font_size\":{\"value\":\"1em\"},\"x\":{\"field\":\"count\"},\"x_offset\":{\"value\":10},\"y\":{\"field\":\"factors\"}},\"id\":\"3051\",\"type\":\"Text\"},{\"attributes\":{\"source\":{\"id\":\"3060\",\"type\":\"ColumnDataSource\"}},\"id\":\"3065\",\"type\":\"CDSView\"},{\"attributes\":{},\"id\":\"3260\",\"type\":\"Selection\"},{\"attributes\":{\"level\":\"overlay\",\"name\":\"subtitle\",\"plot\":{\"id\":\"2991\",\"subtype\":\"Figure\",\"type\":\"Plot\"},\"text\":\"Steam Website\",\"text_align\":\"right\",\"text_color\":{\"value\":\"#898989\"},\"text_font_size\":{\"value\":\"10px\"},\"x\":864.0,\"x_units\":\"screen\",\"y\":0,\"y_units\":\"screen\"},\"id\":\"3015\",\"type\":\"Label\"},{\"attributes\":{},\"id\":\"3259\",\"type\":\"UnionRenderers\"},{\"attributes\":{\"callback\":null,\"data\":{\"count\":[169,198,211,219,323,401,486,592,691,845],\"factors\":[\"Steam Leaderboards\",\"Partial Controller Support\",\"Co-op\",\"Online Multi-Player\",\"Full controller support\",\"Multi-player\",\"Steam Cloud\",\"Steam Trading Cards\",\"Steam Achievements\",\"Single-player\"],\"index\":[0,1,2,3,4,5,6,7,8,9]},\"name\":\"Series:\",\"selected\":{\"id\":\"3246\",\"type\":\"Selection\"},\"selection_policy\":{\"id\":\"3245\",\"type\":\"UnionRenderers\"}},\"id\":\"3020\",\"type\":\"ColumnDataSource\"},{\"attributes\":{\"source\":{\"id\":\"3066\",\"type\":\"ColumnDataSource\"}},\"id\":\"3071\",\"type\":\"CDSView\"},{\"attributes\":{\"source\":{\"id\":\"3036\",\"type\":\"ColumnDataSource\"}},\"id\":\"3041\",\"type\":\"CDSView\"}],\"root_ids\":[\"2991\"]},\"title\":\"Bokeh Application\",\"version\":\"1.0.1\"}};\n",
       "  var render_items = [{\"docid\":\"13739d90-5268-4f79-bf95-f1747fd80e26\",\"roots\":{\"2991\":\"1cc164f1-30dc-49b3-92c4-ccedc61b6ae6\"}}];\n",
       "  root.Bokeh.embed.embed_items_notebook(docs_json, render_items);\n",
       "\n",
       "  }\n",
       "  if (root.Bokeh !== undefined) {\n",
       "    embed_document(root);\n",
       "  } else {\n",
       "    var attempts = 0;\n",
       "    var timer = setInterval(function(root) {\n",
       "      if (root.Bokeh !== undefined) {\n",
       "        embed_document(root);\n",
       "        clearInterval(timer);\n",
       "      }\n",
       "      attempts++;\n",
       "      if (attempts > 100) {\n",
       "        console.log(\"Bokeh: ERROR: Unable to run BokehJS code because BokehJS library is missing\");\n",
       "        clearInterval(timer);\n",
       "      }\n",
       "    }, 10, root)\n",
       "  }\n",
       "})(window);"
      ],
      "application/vnd.bokehjs_exec.v0+json": ""
     },
     "metadata": {
      "application/vnd.bokehjs_exec.v0+json": {
       "id": "2991"
      }
     },
     "output_type": "display_data"
    },
    {
     "data": {
      "text/html": [
       "\n",
       "\n",
       "\n",
       "\n",
       "\n",
       "\n",
       "  <div class=\"bk-root\" id=\"0863ad70-35b5-46f4-a0c3-a4710461a47e\"></div>\n"
      ]
     },
     "metadata": {},
     "output_type": "display_data"
    },
    {
     "data": {
      "application/javascript": [
       "(function(root) {\n",
       "  function embed_document(root) {\n",
       "    \n",
       "  var docs_json = {\"561914d3-a838-4943-856e-97fdc9da153e\":{\"roots\":{\"references\":[{\"attributes\":{\"above\":[{\"id\":\"3454\",\"type\":\"Title\"}],\"background_fill_color\":{\"value\":\"white\"},\"below\":[{\"id\":\"3438\",\"type\":\"CategoricalAxis\"},{\"id\":\"3453\",\"type\":\"Label\"}],\"border_fill_color\":{\"value\":\"white\"},\"left\":[{\"id\":\"3442\",\"type\":\"LinearAxis\"}],\"min_border_bottom\":60,\"min_border_left\":60,\"min_border_right\":60,\"min_border_top\":40,\"outline_line_color\":{\"value\":\"white\"},\"plot_height\":540,\"plot_width\":960,\"renderers\":[{\"id\":\"3438\",\"type\":\"CategoricalAxis\"},{\"id\":\"3441\",\"type\":\"Grid\"},{\"id\":\"3442\",\"type\":\"LinearAxis\"},{\"id\":\"3446\",\"type\":\"Grid\"},{\"id\":\"3453\",\"type\":\"Label\"},{\"id\":\"3454\",\"type\":\"Title\"},{\"id\":\"3465\",\"type\":\"GlyphRenderer\"},{\"id\":\"3472\",\"type\":\"GlyphRenderer\"},{\"id\":\"3478\",\"type\":\"GlyphRenderer\"},{\"id\":\"3484\",\"type\":\"GlyphRenderer\"},{\"id\":\"3490\",\"type\":\"GlyphRenderer\"}],\"title\":{\"id\":\"3450\",\"type\":\"Title\"},\"toolbar\":{\"id\":\"3448\",\"type\":\"Toolbar\"},\"x_range\":{\"id\":\"3430\",\"type\":\"FactorRange\"},\"x_scale\":{\"id\":\"3434\",\"type\":\"CategoricalScale\"},\"y_range\":{\"id\":\"3432\",\"type\":\"DataRange1d\"},\"y_scale\":{\"id\":\"3436\",\"type\":\"LinearScale\"}},\"id\":\"3429\",\"subtype\":\"Figure\",\"type\":\"Plot\"},{\"attributes\":{\"data_source\":{\"id\":\"3468\",\"type\":\"ColumnDataSource\"},\"glyph\":{\"id\":\"3470\",\"type\":\"Text\"},\"hover_glyph\":null,\"muted_glyph\":null,\"nonselection_glyph\":{\"id\":\"3471\",\"type\":\"Text\"},\"selection_glyph\":null,\"view\":{\"id\":\"3473\",\"type\":\"CDSView\"}},\"id\":\"3472\",\"type\":\"GlyphRenderer\"},{\"attributes\":{},\"id\":\"3674\",\"type\":\"UnionRenderers\"},{\"attributes\":{},\"id\":\"3677\",\"type\":\"Selection\"},{\"attributes\":{},\"id\":\"3436\",\"type\":\"LinearScale\"},{\"attributes\":{\"source\":{\"id\":\"3468\",\"type\":\"ColumnDataSource\"}},\"id\":\"3473\",\"type\":\"CDSView\"},{\"attributes\":{\"fill_color\":{\"field\":\"factors\",\"transform\":{\"id\":\"3459\",\"type\":\"CategoricalColorMapper\"}},\"line_color\":{\"value\":\"white\"},\"top\":{\"field\":\"count\"},\"width\":{\"value\":0.9},\"x\":{\"field\":\"factors\"}},\"id\":\"3463\",\"type\":\"VBar\"},{\"attributes\":{\"active_drag\":null,\"active_inspect\":\"auto\",\"active_multi\":null,\"active_scroll\":\"auto\",\"active_tap\":\"auto\",\"logo\":null,\"tools\":[{\"id\":\"3447\",\"type\":\"SaveTool\"}]},\"id\":\"3448\",\"type\":\"Toolbar\"},{\"attributes\":{\"end\":1,\"factors\":[\"Linux\",\"Mac\",\"SteamOS\",\"Windows\"],\"palette\":[\"#1f77b4\",\"#ff7f0e\",\"#2ca02c\",\"#d62728\"]},\"id\":\"3459\",\"type\":\"CategoricalColorMapper\"},{\"attributes\":{},\"id\":\"3683\",\"type\":\"Selection\"},{\"attributes\":{\"grid_line_color\":{\"value\":null},\"plot\":{\"id\":\"3429\",\"subtype\":\"Figure\",\"type\":\"Plot\"},\"ticker\":{\"id\":\"3439\",\"type\":\"CategoricalTicker\"}},\"id\":\"3441\",\"type\":\"Grid\"},{\"attributes\":{\"source\":{\"id\":\"3486\",\"type\":\"ColumnDataSource\"}},\"id\":\"3491\",\"type\":\"CDSView\"},{\"attributes\":{\"text\":{\"field\":\"count\"},\"text_align\":\"center\",\"text_alpha\":{\"value\":0.1},\"text_color\":{\"value\":\"black\"},\"text_font_size\":{\"value\":\"1em\"},\"x\":{\"field\":\"factors\"},\"y\":{\"field\":\"count\"},\"y_offset\":{\"value\":-4}},\"id\":\"3489\",\"type\":\"Text\"},{\"attributes\":{\"callback\":null,\"end\":1100,\"start\":0},\"id\":\"3432\",\"type\":\"DataRange1d\"},{\"attributes\":{\"text\":{\"field\":\"count\"},\"text_align\":\"center\",\"text_alpha\":{\"value\":0.1},\"text_color\":{\"value\":\"black\"},\"text_font_size\":{\"value\":\"1em\"},\"x\":{\"field\":\"factors\"},\"y\":{\"field\":\"count\"},\"y_offset\":{\"value\":-4}},\"id\":\"3477\",\"type\":\"Text\"},{\"attributes\":{\"data_source\":{\"id\":\"3486\",\"type\":\"ColumnDataSource\"},\"glyph\":{\"id\":\"3488\",\"type\":\"Text\"},\"hover_glyph\":null,\"muted_glyph\":null,\"nonselection_glyph\":{\"id\":\"3489\",\"type\":\"Text\"},\"selection_glyph\":null,\"view\":{\"id\":\"3491\",\"type\":\"CDSView\"}},\"id\":\"3490\",\"type\":\"GlyphRenderer\"},{\"attributes\":{},\"id\":\"3678\",\"type\":\"UnionRenderers\"},{\"attributes\":{\"callback\":null,\"data\":{\"count\":[465],\"factors\":[\"Mac\"],\"index\":[0]},\"name\":\"Series:\",\"selected\":{\"id\":\"3679\",\"type\":\"Selection\"},\"selection_policy\":{\"id\":\"3678\",\"type\":\"UnionRenderers\"}},\"id\":\"3474\",\"type\":\"ColumnDataSource\"},{\"attributes\":{\"text\":{\"field\":\"count\"},\"text_align\":\"center\",\"text_color\":{\"value\":\"#2ca02c\"},\"text_font_size\":{\"value\":\"1em\"},\"x\":{\"field\":\"factors\"},\"y\":{\"field\":\"count\"},\"y_offset\":{\"value\":-4}},\"id\":\"3482\",\"type\":\"Text\"},{\"attributes\":{},\"id\":\"3680\",\"type\":\"UnionRenderers\"},{\"attributes\":{\"data_source\":{\"id\":\"3480\",\"type\":\"ColumnDataSource\"},\"glyph\":{\"id\":\"3482\",\"type\":\"Text\"},\"hover_glyph\":null,\"muted_glyph\":null,\"nonselection_glyph\":{\"id\":\"3483\",\"type\":\"Text\"},\"selection_glyph\":null,\"view\":{\"id\":\"3485\",\"type\":\"CDSView\"}},\"id\":\"3484\",\"type\":\"GlyphRenderer\"},{\"attributes\":{},\"id\":\"3443\",\"type\":\"BasicTicker\"},{\"attributes\":{\"text\":{\"field\":\"count\"},\"text_align\":\"center\",\"text_alpha\":{\"value\":0.1},\"text_color\":{\"value\":\"black\"},\"text_font_size\":{\"value\":\"1em\"},\"x\":{\"field\":\"factors\"},\"y\":{\"field\":\"count\"},\"y_offset\":{\"value\":-4}},\"id\":\"3483\",\"type\":\"Text\"},{\"attributes\":{\"level\":\"overlay\",\"name\":\"subtitle\",\"plot\":{\"id\":\"3429\",\"subtype\":\"Figure\",\"type\":\"Plot\"},\"text\":\"Steam Website\",\"text_align\":\"right\",\"text_color\":{\"value\":\"#898989\"},\"text_font_size\":{\"value\":\"10px\"},\"x\":864.0,\"x_units\":\"screen\",\"y\":0,\"y_units\":\"screen\"},\"id\":\"3453\",\"type\":\"Label\"},{\"attributes\":{},\"id\":\"3681\",\"type\":\"Selection\"},{\"attributes\":{\"callback\":null,\"data\":{\"count\":[336],\"factors\":[\"Linux\"],\"index\":[0]},\"name\":\"Series:\",\"selected\":{\"id\":\"3677\",\"type\":\"Selection\"},\"selection_policy\":{\"id\":\"3676\",\"type\":\"UnionRenderers\"}},\"id\":\"3468\",\"type\":\"ColumnDataSource\"},{\"attributes\":{\"source\":{\"id\":\"3474\",\"type\":\"ColumnDataSource\"}},\"id\":\"3479\",\"type\":\"CDSView\"},{\"attributes\":{\"text\":{\"field\":\"count\"},\"text_align\":\"center\",\"text_alpha\":{\"value\":0.1},\"text_color\":{\"value\":\"black\"},\"text_font_size\":{\"value\":\"1em\"},\"x\":{\"field\":\"factors\"},\"y\":{\"field\":\"count\"},\"y_offset\":{\"value\":-4}},\"id\":\"3471\",\"type\":\"Text\"},{\"attributes\":{},\"id\":\"3671\",\"type\":\"CategoricalTickFormatter\"},{\"attributes\":{\"source\":{\"id\":\"3458\",\"type\":\"ColumnDataSource\"}},\"id\":\"3466\",\"type\":\"CDSView\"},{\"attributes\":{\"plot\":null,\"text\":\"Number of Games Represented on Each Platform in Top 1000\",\"text_color\":{\"value\":\"#333333\"},\"text_font_size\":{\"value\":\"18pt\"}},\"id\":\"3450\",\"type\":\"Title\"},{\"attributes\":{\"data_source\":{\"id\":\"3458\",\"type\":\"ColumnDataSource\"},\"glyph\":{\"id\":\"3463\",\"type\":\"VBar\"},\"hover_glyph\":null,\"muted_glyph\":null,\"nonselection_glyph\":{\"id\":\"3464\",\"type\":\"VBar\"},\"selection_glyph\":null,\"view\":{\"id\":\"3466\",\"type\":\"CDSView\"}},\"id\":\"3465\",\"type\":\"GlyphRenderer\"},{\"attributes\":{\"callback\":null,\"data\":{\"count\":[1000],\"factors\":[\"Windows\"],\"index\":[0]},\"name\":\"Series:\",\"selected\":{\"id\":\"3683\",\"type\":\"Selection\"},\"selection_policy\":{\"id\":\"3682\",\"type\":\"UnionRenderers\"}},\"id\":\"3486\",\"type\":\"ColumnDataSource\"},{\"attributes\":{\"callback\":null,\"factor_padding\":0.25,\"factors\":[\"Windows\",\"Mac\",\"Linux\",\"SteamOS\"]},\"id\":\"3430\",\"type\":\"FactorRange\"},{\"attributes\":{\"callback\":null,\"data\":{\"count\":[1000,465,336,41],\"factors\":[\"Windows\",\"Mac\",\"Linux\",\"SteamOS\"],\"index\":[0,1,2,3]},\"name\":\"Series:\",\"selected\":{\"id\":\"3675\",\"type\":\"Selection\"},\"selection_policy\":{\"id\":\"3674\",\"type\":\"UnionRenderers\"}},\"id\":\"3458\",\"type\":\"ColumnDataSource\"},{\"attributes\":{\"text\":{\"field\":\"count\"},\"text_align\":\"center\",\"text_color\":{\"value\":\"#1f77b4\"},\"text_font_size\":{\"value\":\"1em\"},\"x\":{\"field\":\"factors\"},\"y\":{\"field\":\"count\"},\"y_offset\":{\"value\":-4}},\"id\":\"3470\",\"type\":\"Text\"},{\"attributes\":{},\"id\":\"3434\",\"type\":\"CategoricalScale\"},{\"attributes\":{},\"id\":\"3439\",\"type\":\"CategoricalTicker\"},{\"attributes\":{\"plot\":{\"id\":\"3429\",\"subtype\":\"Figure\",\"type\":\"Plot\"},\"text\":\"\",\"text_color\":{\"value\":\"#666666\"},\"text_font_size\":{\"value\":\"12pt\"}},\"id\":\"3454\",\"type\":\"Title\"},{\"attributes\":{},\"id\":\"3675\",\"type\":\"Selection\"},{\"attributes\":{\"data_source\":{\"id\":\"3474\",\"type\":\"ColumnDataSource\"},\"glyph\":{\"id\":\"3476\",\"type\":\"Text\"},\"hover_glyph\":null,\"muted_glyph\":null,\"nonselection_glyph\":{\"id\":\"3477\",\"type\":\"Text\"},\"selection_glyph\":null,\"view\":{\"id\":\"3479\",\"type\":\"CDSView\"}},\"id\":\"3478\",\"type\":\"GlyphRenderer\"},{\"attributes\":{},\"id\":\"3447\",\"type\":\"SaveTool\"},{\"attributes\":{\"callback\":null,\"data\":{\"count\":[41],\"factors\":[\"SteamOS\"],\"index\":[0]},\"name\":\"Series:\",\"selected\":{\"id\":\"3681\",\"type\":\"Selection\"},\"selection_policy\":{\"id\":\"3680\",\"type\":\"UnionRenderers\"}},\"id\":\"3480\",\"type\":\"ColumnDataSource\"},{\"attributes\":{},\"id\":\"3682\",\"type\":\"UnionRenderers\"},{\"attributes\":{\"axis_label\":\"Number of Games\",\"axis_label_text_color\":{\"value\":\"#666666\"},\"axis_label_text_font_size\":{\"value\":\"11pt\"},\"axis_label_text_font_style\":\"bold\",\"axis_line_color\":{\"value\":\"#C0C0C0\"},\"formatter\":{\"id\":\"3460\",\"type\":\"NumeralTickFormatter\"},\"major_label_text_color\":{\"value\":\"#898989\"},\"major_label_text_font_size\":{\"value\":\"10pt\"},\"major_tick_in\":0,\"major_tick_line_color\":{\"value\":\"#C0C0C0\"},\"major_tick_out\":4,\"minor_tick_line_color\":{\"value\":\"#C0C0C0\"},\"minor_tick_out\":1,\"plot\":{\"id\":\"3429\",\"subtype\":\"Figure\",\"type\":\"Plot\"},\"ticker\":{\"id\":\"3443\",\"type\":\"BasicTicker\"}},\"id\":\"3442\",\"type\":\"LinearAxis\"},{\"attributes\":{\"text\":{\"field\":\"count\"},\"text_align\":\"center\",\"text_color\":{\"value\":\"#ff7f0e\"},\"text_font_size\":{\"value\":\"1em\"},\"x\":{\"field\":\"factors\"},\"y\":{\"field\":\"count\"},\"y_offset\":{\"value\":-4}},\"id\":\"3476\",\"type\":\"Text\"},{\"attributes\":{\"axis_label\":\"Platform\",\"axis_label_text_color\":{\"value\":\"#666666\"},\"axis_label_text_font_size\":{\"value\":\"11pt\"},\"axis_label_text_font_style\":\"bold\",\"axis_line_color\":{\"value\":\"#C0C0C0\"},\"formatter\":{\"id\":\"3671\",\"type\":\"CategoricalTickFormatter\"},\"group_text_font_size\":{\"value\":\"11pt\"},\"major_label_text_color\":{\"value\":\"#898989\"},\"major_label_text_font_size\":{\"value\":\"10pt\"},\"major_tick_in\":0,\"major_tick_line_color\":{\"value\":\"#C0C0C0\"},\"major_tick_out\":4,\"minor_tick_line_color\":{\"value\":\"#C0C0C0\"},\"minor_tick_out\":1,\"plot\":{\"id\":\"3429\",\"subtype\":\"Figure\",\"type\":\"Plot\"},\"separator_line_alpha\":{\"value\":0},\"subgroup_text_font_size\":{\"value\":\"11pt\"},\"ticker\":{\"id\":\"3439\",\"type\":\"CategoricalTicker\"}},\"id\":\"3438\",\"type\":\"CategoricalAxis\"},{\"attributes\":{\"source\":{\"id\":\"3480\",\"type\":\"ColumnDataSource\"}},\"id\":\"3485\",\"type\":\"CDSView\"},{\"attributes\":{},\"id\":\"3676\",\"type\":\"UnionRenderers\"},{\"attributes\":{},\"id\":\"3679\",\"type\":\"Selection\"},{\"attributes\":{\"text\":{\"field\":\"count\"},\"text_align\":\"center\",\"text_color\":{\"value\":\"#d62728\"},\"text_font_size\":{\"value\":\"1em\"},\"x\":{\"field\":\"factors\"},\"y\":{\"field\":\"count\"},\"y_offset\":{\"value\":-4}},\"id\":\"3488\",\"type\":\"Text\"},{\"attributes\":{\"dimension\":1,\"grid_line_color\":{\"value\":null},\"plot\":{\"id\":\"3429\",\"subtype\":\"Figure\",\"type\":\"Plot\"},\"ticker\":{\"id\":\"3443\",\"type\":\"BasicTicker\"}},\"id\":\"3446\",\"type\":\"Grid\"},{\"attributes\":{\"format\":\"0,0.[0000]\"},\"id\":\"3460\",\"type\":\"NumeralTickFormatter\"},{\"attributes\":{\"fill_alpha\":{\"value\":0.1},\"fill_color\":{\"value\":\"#1f77b4\"},\"line_alpha\":{\"value\":0.1},\"line_color\":{\"value\":\"#1f77b4\"},\"top\":{\"field\":\"count\"},\"width\":{\"value\":0.9},\"x\":{\"field\":\"factors\"}},\"id\":\"3464\",\"type\":\"VBar\"}],\"root_ids\":[\"3429\"]},\"title\":\"Bokeh Application\",\"version\":\"1.0.1\"}};\n",
       "  var render_items = [{\"docid\":\"561914d3-a838-4943-856e-97fdc9da153e\",\"roots\":{\"3429\":\"0863ad70-35b5-46f4-a0c3-a4710461a47e\"}}];\n",
       "  root.Bokeh.embed.embed_items_notebook(docs_json, render_items);\n",
       "\n",
       "  }\n",
       "  if (root.Bokeh !== undefined) {\n",
       "    embed_document(root);\n",
       "  } else {\n",
       "    var attempts = 0;\n",
       "    var timer = setInterval(function(root) {\n",
       "      if (root.Bokeh !== undefined) {\n",
       "        embed_document(root);\n",
       "        clearInterval(timer);\n",
       "      }\n",
       "      attempts++;\n",
       "      if (attempts > 100) {\n",
       "        console.log(\"Bokeh: ERROR: Unable to run BokehJS code because BokehJS library is missing\");\n",
       "        clearInterval(timer);\n",
       "      }\n",
       "    }, 10, root)\n",
       "  }\n",
       "})(window);"
      ],
      "application/vnd.bokehjs_exec.v0+json": ""
     },
     "metadata": {
      "application/vnd.bokehjs_exec.v0+json": {
       "id": "3429"
      }
     },
     "output_type": "display_data"
    }
   ],
   "source": [
    "def main():\n",
    "    plotPublisher1000()\n",
    "    plotGenre1000()\n",
    "    plotSpecs1000()\n",
    "    plotPlatform1000()\n",
    "    \n",
    "if __name__ == \"__main__\":\n",
    "    main()"
   ]
  },
  {
   "cell_type": "code",
   "execution_count": null,
   "metadata": {},
   "outputs": [],
   "source": []
  }
 ],
 "metadata": {
  "kernelspec": {
   "display_name": "Python 3",
   "language": "python",
   "name": "python3"
  },
  "language_info": {
   "codemirror_mode": {
    "name": "ipython",
    "version": 3
   },
   "file_extension": ".py",
   "mimetype": "text/x-python",
   "name": "python",
   "nbconvert_exporter": "python",
   "pygments_lexer": "ipython3",
   "version": "3.7.0"
  }
 },
 "nbformat": 4,
 "nbformat_minor": 2
}
