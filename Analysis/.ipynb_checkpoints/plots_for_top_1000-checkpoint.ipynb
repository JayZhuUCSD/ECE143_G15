{
 "cells": [
  {
   "cell_type": "markdown",
   "metadata": {},
   "source": [
    "Author: Joshua Williams\n",
    "\n",
    "The purpose of this code is to generate plots for the occurence of a select number of each features (< 10). These 10 or less features were chosen because they are the top ranked within our ordered 1000 row csv file on well recieved games. These plots are meant to give a clear visual on the data we have collected and analysed "
   ]
  },
  {
   "cell_type": "code",
   "execution_count": 7,
   "metadata": {},
   "outputs": [],
   "source": [
    "def plotPublisher1000(fname='developers_count.csv'):\n",
    "    '''\n",
    "    Makes a plot of the number of games that belong to each developer in\n",
    "    the top 1000 ranking of our Dataset\n",
    "    \n",
    "    :fname (str): The name of the file that contains the dataframe [must be a .csv file]\n",
    "    '''\n",
    "    import pandas as pd\n",
    "    import chartify as ch\n",
    "    \n",
    "    assert isinstance(fname, str) and '.csv' in fname, \"Input is not str name of a .csv file!\"\n",
    "    #assert isinstance(fname2, str) and '.csv' in fname2, \"Input is not str name of a .csv file!\"\n",
    "        \n",
    "    data = pd.read_csv(fname)\n",
    "    #data2 = pd.read_csd(fname2)\n",
    "    \n",
    "    data = pd.DataFrame({'publisher': list(data.columns.values[1:11]), \n",
    "                         'count': list(data.values[0][1:11])})\n",
    "   \n",
    "    # Create a Chartify object for this plot\n",
    "    chart = ch.Chart(blank_labels=True, y_axis_type='categorical')\n",
    "    \n",
    "    # Set Variables for plot\n",
    "    chart.set_title('Top 10 Game Publishers with Well Received Games on Steam')\n",
    "    chart.axes.set_xaxis_label('Number of Games Developer has in Top 1000')\n",
    "    chart.axes.set_yaxis_label('Developers')\n",
    "    chart.set_source_label('Steam Website')\n",
    "    chart.plot.bar(data_frame=data,\n",
    "                   categorical_columns='publisher', \n",
    "                   numeric_column='count',\n",
    "                   color_column='publisher',\n",
    "                   categorical_order_ascending=True)\n",
    "    \n",
    "    chart.style.color_palette.reset_palette_order()\n",
    "    \n",
    "    chart.plot.text(data_frame=data,\n",
    "                    categorical_columns='publisher',\n",
    "                    numeric_column='count',\n",
    "                    text_column='count',\n",
    "                    color_column='publisher',\n",
    "                    categorical_order_ascending=True)\n",
    "    \n",
    "    # Adjust the axis range to prevent clipping of the text labels.\n",
    "    chart.axes.set_xaxis_range(0, 20)\n",
    "    \n",
    "    # Display Plot\n",
    "    chart.show()"
   ]
  },
  {
   "cell_type": "code",
   "execution_count": 8,
   "metadata": {},
   "outputs": [],
   "source": [
    "def plotGenre1000(fname='genres_count.csv'):\n",
    "    '''\n",
    "    Makes a plot of the number of games that belong to top 10 genres in\n",
    "    our Dataset of top 1000 games\n",
    "    \n",
    "    :fname (str): The name of the file that contains the dataframe [must be a .csv file]\n",
    "    '''\n",
    "    import pandas as pd\n",
    "    import chartify as ch\n",
    "\n",
    "    assert isinstance(fname, str) and '.csv' in fname, \"Input is not str name of a .csv file!\"\n",
    "        \n",
    "    data = pd.read_csv(fname)\n",
    "    genre_list = list(data.columns.values[1:11])\n",
    "    \n",
    "    genre_list[len(genre_list) - 1] = 'Multiplayer'\n",
    "    data = pd.DataFrame({'genres': genre_list, 'count': list(data.values[0][1:11])})\n",
    "    \n",
    "    # Create a Chartify object for this plot\n",
    "    chart = ch.Chart(blank_labels=True, x_axis_type='categorical')\n",
    "    \n",
    "    # Set Variables for plot\n",
    "    chart.set_title('Top 10 Well Recieved Game Genres on Steam')\n",
    "    chart.axes.set_xaxis_label('Genre')\n",
    "    chart.axes.set_yaxis_label('Number of Games')\n",
    "    chart.set_source_label('Steam Website')\n",
    "    chart.plot.bar(data_frame=data, \n",
    "                   categorical_columns='genres', \n",
    "                   numeric_column='count',\n",
    "                   color_column='genres',\n",
    "                   categorical_order_ascending=False)\n",
    "    \n",
    "    chart.style.color_palette.reset_palette_order()\n",
    "    \n",
    "    chart.plot.text(data_frame=data,\n",
    "        categorical_columns='genres',\n",
    "        numeric_column='count',\n",
    "        text_column='count',\n",
    "        color_column='genres',\n",
    "        categorical_order_ascending=False)\n",
    "    \n",
    "    # Adjust the axis range to prevent clipping of the text labels.\n",
    "    chart.axes.set_yaxis_range(0, 750)\n",
    "    \n",
    "    # Display Plot\n",
    "    chart.show()"
   ]
  },
  {
   "cell_type": "code",
   "execution_count": 9,
   "metadata": {},
   "outputs": [],
   "source": [
    "def plotSpecs1000(fname='specs_count.csv'):\n",
    "    '''\n",
    "    Makes a plot of the number of games that belong to top 10 specs in\n",
    "    the top 1000 ranking of our Dataset\n",
    "    \n",
    "    :fname (str): The name of the file that contains the dataframe [must be a .csv file]\n",
    "    '''\n",
    "    import pandas as pd\n",
    "    import chartify as ch\n",
    "\n",
    "    assert isinstance(fname, str) and '.csv' in fname, \"Input is not str name of a .csv file!\"\n",
    "    \n",
    "    data = pd.read_csv(fname)\n",
    "    data = pd.DataFrame({'specs': list(data.columns.values[1:11]), 'count': list(data.values[0][1:11])})\n",
    "    \n",
    "    # Create a Chartify object for this plot\n",
    "    chart = ch.Chart(blank_labels=True, y_axis_type='categorical')\n",
    "    \n",
    "    # Set Variables for plot\n",
    "    chart.set_title('Top 10 Specs Well Received Games Have')\n",
    "    chart.axes.set_xaxis_label('Number of Games with Spec')\n",
    "    chart.axes.set_yaxis_label('Specs')\n",
    "    chart.set_source_label('Steam Website')\n",
    "    chart.plot.bar(data_frame=data, \n",
    "                   categorical_columns='specs', \n",
    "                   numeric_column='count',\n",
    "                   color_column='specs',\n",
    "                   categorical_order_ascending=True)\n",
    "    \n",
    "    chart.style.color_palette.reset_palette_order()\n",
    "    \n",
    "    chart.plot.text(data_frame=data,\n",
    "        categorical_columns='specs',\n",
    "        numeric_column='count',\n",
    "        text_column='count',\n",
    "        color_column='specs',\n",
    "        categorical_order_ascending=True)\n",
    "    \n",
    "    # Adjust the axis range to prevent clipping of the text labels.\n",
    "    chart.axes.set_xaxis_range(0, 1000)\n",
    "    \n",
    "    chart.show()"
   ]
  },
  {
   "cell_type": "code",
   "execution_count": 10,
   "metadata": {},
   "outputs": [],
   "source": [
    "def plotPlatform1000(fname='platform_count.csv'):\n",
    "    '''\n",
    "    Makes a plot of the number of games that belong to each platform in\n",
    "    the top 1000 ranking of our Dataset\n",
    "    \n",
    "    :fname (str): The name of the file that contains the dataframe [must be a .csv file]\n",
    "    '''\n",
    "    import pandas as pd\n",
    "    import chartify as ch\n",
    "    \n",
    "    assert isinstance(fname, str) and '.csv' in fname, \"Input is not str name of a .csv file!\"\n",
    "    \n",
    "    data = pd.read_csv(fname)\n",
    "    data = pd.DataFrame({'platform': list(data.columns.values[1:]), 'count': list(data.values[0][1:])})\n",
    "    \n",
    "    # Create a Chartify object for this plot\n",
    "    chart = ch.Chart(blank_labels=True, x_axis_type='categorical')\n",
    "    \n",
    "    # Set Variables for plot\n",
    "    chart.set_title('Number of Games Represented on Each Platform in Top 1000')\n",
    "    chart.axes.set_xaxis_label('Platform')\n",
    "    chart.axes.set_yaxis_label('Number of Games')\n",
    "    chart.set_source_label('Steam Website')\n",
    "    chart.plot.bar(data_frame=data, \n",
    "                   categorical_columns='platform', \n",
    "                   numeric_column='count',\n",
    "                   color_column='platform')\n",
    "    \n",
    "    chart.style.color_palette.reset_palette_order()\n",
    "    \n",
    "    chart.plot.text(data_frame=data,\n",
    "        categorical_columns='platform',\n",
    "        numeric_column='count',\n",
    "        text_column='count',\n",
    "        color_column='platform')\n",
    "    \n",
    "    # Adjust the axis range to prevent clipping of the text labels.\n",
    "    chart.axes.set_yaxis_range(0, 1100)\n",
    "    \n",
    "    chart.show()"
   ]
  },
  {
   "cell_type": "code",
   "execution_count": 11,
   "metadata": {},
   "outputs": [],
   "source": [
    "def plotGenreToPlatform(fname1, fname2, fname3, fname4):\n",
    "    '''\n",
    "    Plots Genres goruped by developer\n",
    "    \n",
    "    :fname1 (str): The name of the file that a dataframe [must be a .csv file]\n",
    "    :fname2 (str): The name of the file that a dataframe [must be a .csv file]\n",
    "    :fname3 (str): The name of the file that a dataframe [must be a .csv file]\n",
    "    :fname4 (str): The name of the file that a dataframe [must be a .csv file]\n",
    "    '''\n",
    "    import pandas as pd\n",
    "    import chartify as ch\n",
    "    \n",
    "    assert isinstance(fname1, str) and '.csv' in fname, \"Input is not str name of a .csv file!\"\n",
    "    assert isinstance(fname2, str) and '.csv' in fname, \"Input is not str name of a .csv file!\"\n",
    "    assert isinstance(fname3, str) and '.csv' in fname, \"Input is not str name of a .csv file!\"\n",
    "    assert isinstance(fname4, str) and '.csv' in fname, \"Input is not str name of a .csv file!\"\n",
    "    \n",
    "    "
   ]
  },
  {
   "cell_type": "code",
   "execution_count": 12,
   "metadata": {},
   "outputs": [
    {
     "data": {
      "text/html": [
       "\n",
       "\n",
       "\n",
       "\n",
       "\n",
       "\n",
       "  <div class=\"bk-root\" id=\"4dff945e-a5dc-4da0-9b52-87484a092ac8\"></div>\n"
      ]
     },
     "metadata": {},
     "output_type": "display_data"
    },
    {
     "data": {
      "application/javascript": [
       "(function(root) {\n",
       "  function embed_document(root) {\n",
       "    \n",
       "  var docs_json = {\"8819ac66-fdba-4287-bc45-0be0a5a1448f\":{\"roots\":{\"references\":[{\"attributes\":{\"above\":[{\"id\":\"1027\",\"type\":\"Title\"}],\"background_fill_color\":{\"value\":\"white\"},\"below\":[{\"id\":\"1011\",\"type\":\"LinearAxis\"},{\"id\":\"1026\",\"type\":\"Label\"}],\"border_fill_color\":{\"value\":\"white\"},\"left\":[{\"id\":\"1016\",\"type\":\"CategoricalAxis\"}],\"min_border_bottom\":60,\"min_border_left\":60,\"min_border_right\":60,\"min_border_top\":40,\"outline_line_color\":{\"value\":\"white\"},\"plot_height\":540,\"plot_width\":960,\"renderers\":[{\"id\":\"1011\",\"type\":\"LinearAxis\"},{\"id\":\"1015\",\"type\":\"Grid\"},{\"id\":\"1016\",\"type\":\"CategoricalAxis\"},{\"id\":\"1019\",\"type\":\"Grid\"},{\"id\":\"1026\",\"type\":\"Label\"},{\"id\":\"1027\",\"type\":\"Title\"},{\"id\":\"1038\",\"type\":\"GlyphRenderer\"},{\"id\":\"1045\",\"type\":\"GlyphRenderer\"},{\"id\":\"1051\",\"type\":\"GlyphRenderer\"},{\"id\":\"1057\",\"type\":\"GlyphRenderer\"},{\"id\":\"1063\",\"type\":\"GlyphRenderer\"},{\"id\":\"1069\",\"type\":\"GlyphRenderer\"},{\"id\":\"1075\",\"type\":\"GlyphRenderer\"},{\"id\":\"1081\",\"type\":\"GlyphRenderer\"},{\"id\":\"1087\",\"type\":\"GlyphRenderer\"},{\"id\":\"1093\",\"type\":\"GlyphRenderer\"},{\"id\":\"1099\",\"type\":\"GlyphRenderer\"}],\"title\":{\"id\":\"1023\",\"type\":\"Title\"},\"toolbar\":{\"id\":\"1021\",\"type\":\"Toolbar\"},\"x_range\":{\"id\":\"1003\",\"type\":\"DataRange1d\"},\"x_scale\":{\"id\":\"1007\",\"type\":\"LinearScale\"},\"y_range\":{\"id\":\"1005\",\"type\":\"FactorRange\"},\"y_scale\":{\"id\":\"1009\",\"type\":\"CategoricalScale\"}},\"id\":\"1002\",\"subtype\":\"Figure\",\"type\":\"Plot\"},{\"attributes\":{},\"id\":\"1119\",\"type\":\"Selection\"},{\"attributes\":{\"plot\":null,\"text\":\"Top 10 Game Publishers with Well Received Games on Steam\",\"text_color\":{\"value\":\"#333333\"},\"text_font_size\":{\"value\":\"18pt\"}},\"id\":\"1023\",\"type\":\"Title\"},{\"attributes\":{},\"id\":\"1123\",\"type\":\"Selection\"},{\"attributes\":{\"data_source\":{\"id\":\"1071\",\"type\":\"ColumnDataSource\"},\"glyph\":{\"id\":\"1073\",\"type\":\"Text\"},\"hover_glyph\":null,\"muted_glyph\":null,\"nonselection_glyph\":{\"id\":\"1074\",\"type\":\"Text\"},\"selection_glyph\":null,\"view\":{\"id\":\"1076\",\"type\":\"CDSView\"}},\"id\":\"1075\",\"type\":\"GlyphRenderer\"},{\"attributes\":{\"source\":{\"id\":\"1059\",\"type\":\"ColumnDataSource\"}},\"id\":\"1064\",\"type\":\"CDSView\"},{\"attributes\":{},\"id\":\"1007\",\"type\":\"LinearScale\"},{\"attributes\":{\"text\":{\"field\":\"count\"},\"text_alpha\":{\"value\":0.1},\"text_baseline\":\"middle\",\"text_color\":{\"value\":\"black\"},\"text_font_size\":{\"value\":\"1em\"},\"x\":{\"field\":\"count\"},\"x_offset\":{\"value\":10},\"y\":{\"field\":\"factors\"}},\"id\":\"1068\",\"type\":\"Text\"},{\"attributes\":{\"text\":{\"field\":\"count\"},\"text_baseline\":\"middle\",\"text_color\":{\"value\":\"#9467bd\"},\"text_font_size\":{\"value\":\"1em\"},\"x\":{\"field\":\"count\"},\"x_offset\":{\"value\":10},\"y\":{\"field\":\"factors\"}},\"id\":\"1067\",\"type\":\"Text\"},{\"attributes\":{},\"id\":\"1012\",\"type\":\"BasicTicker\"},{\"attributes\":{},\"id\":\"1127\",\"type\":\"Selection\"},{\"attributes\":{},\"id\":\"1020\",\"type\":\"SaveTool\"},{\"attributes\":{\"source\":{\"id\":\"1071\",\"type\":\"ColumnDataSource\"}},\"id\":\"1076\",\"type\":\"CDSView\"},{\"attributes\":{},\"id\":\"1114\",\"type\":\"UnionRenderers\"},{\"attributes\":{},\"id\":\"1009\",\"type\":\"CategoricalScale\"},{\"attributes\":{\"data_source\":{\"id\":\"1083\",\"type\":\"ColumnDataSource\"},\"glyph\":{\"id\":\"1085\",\"type\":\"Text\"},\"hover_glyph\":null,\"muted_glyph\":null,\"nonselection_glyph\":{\"id\":\"1086\",\"type\":\"Text\"},\"selection_glyph\":null,\"view\":{\"id\":\"1088\",\"type\":\"CDSView\"}},\"id\":\"1087\",\"type\":\"GlyphRenderer\"},{\"attributes\":{\"data_source\":{\"id\":\"1065\",\"type\":\"ColumnDataSource\"},\"glyph\":{\"id\":\"1067\",\"type\":\"Text\"},\"hover_glyph\":null,\"muted_glyph\":null,\"nonselection_glyph\":{\"id\":\"1068\",\"type\":\"Text\"},\"selection_glyph\":null,\"view\":{\"id\":\"1070\",\"type\":\"CDSView\"}},\"id\":\"1069\",\"type\":\"GlyphRenderer\"},{\"attributes\":{},\"id\":\"1120\",\"type\":\"UnionRenderers\"},{\"attributes\":{\"axis_label\":\"Number of Games Developer has in Top 1000\",\"axis_label_text_color\":{\"value\":\"#666666\"},\"axis_label_text_font_size\":{\"value\":\"11pt\"},\"axis_label_text_font_style\":\"bold\",\"axis_line_color\":{\"value\":\"#C0C0C0\"},\"formatter\":{\"id\":\"1033\",\"type\":\"NumeralTickFormatter\"},\"major_label_text_color\":{\"value\":\"#898989\"},\"major_label_text_font_size\":{\"value\":\"10pt\"},\"major_tick_in\":0,\"major_tick_line_color\":{\"value\":\"#C0C0C0\"},\"major_tick_out\":4,\"minor_tick_line_color\":{\"value\":\"#C0C0C0\"},\"minor_tick_out\":1,\"plot\":{\"id\":\"1002\",\"subtype\":\"Figure\",\"type\":\"Plot\"},\"ticker\":{\"id\":\"1012\",\"type\":\"BasicTicker\"}},\"id\":\"1011\",\"type\":\"LinearAxis\"},{\"attributes\":{},\"id\":\"1122\",\"type\":\"UnionRenderers\"},{\"attributes\":{},\"id\":\"1125\",\"type\":\"Selection\"},{\"attributes\":{\"callback\":null,\"data\":{\"count\":[6],\"factors\":[\"Microsoft Studios\"],\"index\":[0]},\"name\":\"Series:\",\"selected\":{\"id\":\"1117\",\"type\":\"Selection\"},\"selection_policy\":{\"id\":\"1116\",\"type\":\"UnionRenderers\"}},\"id\":\"1065\",\"type\":\"ColumnDataSource\"},{\"attributes\":{\"callback\":null,\"data\":{\"count\":[10],\"factors\":[\"SEGA\"],\"index\":[0]},\"name\":\"Series:\",\"selected\":{\"id\":\"1123\",\"type\":\"Selection\"},\"selection_policy\":{\"id\":\"1122\",\"type\":\"UnionRenderers\"}},\"id\":\"1083\",\"type\":\"ColumnDataSource\"},{\"attributes\":{\"level\":\"overlay\",\"name\":\"subtitle\",\"plot\":{\"id\":\"1002\",\"subtype\":\"Figure\",\"type\":\"Plot\"},\"text\":\"Steam Website\",\"text_align\":\"right\",\"text_color\":{\"value\":\"#898989\"},\"text_font_size\":{\"value\":\"10px\"},\"x\":864.0,\"x_units\":\"screen\",\"y\":0,\"y_units\":\"screen\"},\"id\":\"1026\",\"type\":\"Label\"},{\"attributes\":{},\"id\":\"1118\",\"type\":\"UnionRenderers\"},{\"attributes\":{\"format\":\"0,0.[00]\"},\"id\":\"1033\",\"type\":\"NumeralTickFormatter\"},{\"attributes\":{\"callback\":null,\"data\":{\"count\":[8],\"factors\":[\"SCS Software\"],\"index\":[0]},\"name\":\"Series:\",\"selected\":{\"id\":\"1121\",\"type\":\"Selection\"},\"selection_policy\":{\"id\":\"1120\",\"type\":\"UnionRenderers\"}},\"id\":\"1077\",\"type\":\"ColumnDataSource\"},{\"attributes\":{\"plot\":{\"id\":\"1002\",\"subtype\":\"Figure\",\"type\":\"Plot\"},\"text\":\"\",\"text_color\":{\"value\":\"#666666\"},\"text_font_size\":{\"value\":\"12pt\"}},\"id\":\"1027\",\"type\":\"Title\"},{\"attributes\":{\"text\":{\"field\":\"count\"},\"text_baseline\":\"middle\",\"text_color\":{\"value\":\"#8c564b\"},\"text_font_size\":{\"value\":\"1em\"},\"x\":{\"field\":\"count\"},\"x_offset\":{\"value\":10},\"y\":{\"field\":\"factors\"}},\"id\":\"1073\",\"type\":\"Text\"},{\"attributes\":{},\"id\":\"1121\",\"type\":\"Selection\"},{\"attributes\":{\"text\":{\"field\":\"count\"},\"text_baseline\":\"middle\",\"text_color\":{\"value\":\"#bcbd22\"},\"text_font_size\":{\"value\":\"1em\"},\"x\":{\"field\":\"count\"},\"x_offset\":{\"value\":10},\"y\":{\"field\":\"factors\"}},\"id\":\"1091\",\"type\":\"Text\"},{\"attributes\":{\"axis_label\":\"Developers\",\"axis_label_text_color\":{\"value\":\"#666666\"},\"axis_label_text_font_size\":{\"value\":\"11pt\"},\"axis_label_text_font_style\":\"bold\",\"axis_line_color\":{\"value\":\"#C0C0C0\"},\"formatter\":{\"id\":\"1104\",\"type\":\"CategoricalTickFormatter\"},\"group_text_font_size\":{\"value\":\"11pt\"},\"major_label_text_color\":{\"value\":\"#898989\"},\"major_label_text_font_size\":{\"value\":\"10pt\"},\"major_tick_in\":0,\"major_tick_line_color\":{\"value\":\"#C0C0C0\"},\"major_tick_out\":4,\"minor_tick_line_color\":{\"value\":\"#C0C0C0\"},\"minor_tick_out\":1,\"plot\":{\"id\":\"1002\",\"subtype\":\"Figure\",\"type\":\"Plot\"},\"separator_line_alpha\":{\"value\":0},\"subgroup_text_font_size\":{\"value\":\"11pt\"},\"ticker\":{\"id\":\"1017\",\"type\":\"CategoricalTicker\"}},\"id\":\"1016\",\"type\":\"CategoricalAxis\"},{\"attributes\":{},\"id\":\"1112\",\"type\":\"UnionRenderers\"},{\"attributes\":{},\"id\":\"1124\",\"type\":\"UnionRenderers\"},{\"attributes\":{\"callback\":null,\"data\":{\"count\":[6,7,8,8,8,10,12,12,13,18],\"factors\":[\"Microsoft Studios\",\"AGM PLAYISM\",\"Electronic Arts\",\"SCS Software\",\"Sekai Project\",\"SEGA\",\"Devolver Digital\",\"Ubisoft\",\"Daedalic Entertainment\",\"Paradox Interactive\"],\"index\":[0,1,2,3,4,5,6,7,8,9]},\"name\":\"Series:\",\"selected\":{\"id\":\"1107\",\"type\":\"Selection\"},\"selection_policy\":{\"id\":\"1106\",\"type\":\"UnionRenderers\"}},\"id\":\"1031\",\"type\":\"ColumnDataSource\"},{\"attributes\":{\"source\":{\"id\":\"1083\",\"type\":\"ColumnDataSource\"}},\"id\":\"1088\",\"type\":\"CDSView\"},{\"attributes\":{\"source\":{\"id\":\"1065\",\"type\":\"ColumnDataSource\"}},\"id\":\"1070\",\"type\":\"CDSView\"},{\"attributes\":{},\"id\":\"1113\",\"type\":\"Selection\"},{\"attributes\":{\"active_drag\":null,\"active_inspect\":\"auto\",\"active_multi\":null,\"active_scroll\":\"auto\",\"active_tap\":\"auto\",\"logo\":null,\"tools\":[{\"id\":\"1020\",\"type\":\"SaveTool\"}]},\"id\":\"1021\",\"type\":\"Toolbar\"},{\"attributes\":{\"text\":{\"field\":\"count\"},\"text_alpha\":{\"value\":0.1},\"text_baseline\":\"middle\",\"text_color\":{\"value\":\"black\"},\"text_font_size\":{\"value\":\"1em\"},\"x\":{\"field\":\"count\"},\"x_offset\":{\"value\":10},\"y\":{\"field\":\"factors\"}},\"id\":\"1092\",\"type\":\"Text\"},{\"attributes\":{},\"id\":\"1126\",\"type\":\"UnionRenderers\"},{\"attributes\":{\"callback\":null,\"factor_padding\":0.25,\"factors\":[\"Microsoft Studios\",\"AGM PLAYISM\",\"Electronic Arts\",\"SCS Software\",\"Sekai Project\",\"SEGA\",\"Devolver Digital\",\"Ubisoft\",\"Daedalic Entertainment\",\"Paradox Interactive\"]},\"id\":\"1005\",\"type\":\"FactorRange\"},{\"attributes\":{\"text\":{\"field\":\"count\"},\"text_alpha\":{\"value\":0.1},\"text_baseline\":\"middle\",\"text_color\":{\"value\":\"black\"},\"text_font_size\":{\"value\":\"1em\"},\"x\":{\"field\":\"count\"},\"x_offset\":{\"value\":10},\"y\":{\"field\":\"factors\"}},\"id\":\"1074\",\"type\":\"Text\"},{\"attributes\":{},\"id\":\"1117\",\"type\":\"Selection\"},{\"attributes\":{\"dimension\":1,\"grid_line_color\":{\"value\":null},\"plot\":{\"id\":\"1002\",\"subtype\":\"Figure\",\"type\":\"Plot\"},\"ticker\":{\"id\":\"1017\",\"type\":\"CategoricalTicker\"}},\"id\":\"1019\",\"type\":\"Grid\"},{\"attributes\":{\"callback\":null,\"data\":{\"count\":[8],\"factors\":[\"Sekai Project\"],\"index\":[0]},\"name\":\"Series:\",\"selected\":{\"id\":\"1125\",\"type\":\"Selection\"},\"selection_policy\":{\"id\":\"1124\",\"type\":\"UnionRenderers\"}},\"id\":\"1089\",\"type\":\"ColumnDataSource\"},{\"attributes\":{\"callback\":null,\"data\":{\"count\":[18],\"factors\":[\"Paradox Interactive\"],\"index\":[0]},\"name\":\"Series:\",\"selected\":{\"id\":\"1119\",\"type\":\"Selection\"},\"selection_policy\":{\"id\":\"1118\",\"type\":\"UnionRenderers\"}},\"id\":\"1071\",\"type\":\"ColumnDataSource\"},{\"attributes\":{},\"id\":\"1017\",\"type\":\"CategoricalTicker\"},{\"attributes\":{},\"id\":\"1115\",\"type\":\"Selection\"},{\"attributes\":{},\"id\":\"1116\",\"type\":\"UnionRenderers\"},{\"attributes\":{\"data_source\":{\"id\":\"1089\",\"type\":\"ColumnDataSource\"},\"glyph\":{\"id\":\"1091\",\"type\":\"Text\"},\"hover_glyph\":null,\"muted_glyph\":null,\"nonselection_glyph\":{\"id\":\"1092\",\"type\":\"Text\"},\"selection_glyph\":null,\"view\":{\"id\":\"1094\",\"type\":\"CDSView\"}},\"id\":\"1093\",\"type\":\"GlyphRenderer\"},{\"attributes\":{\"data_source\":{\"id\":\"1041\",\"type\":\"ColumnDataSource\"},\"glyph\":{\"id\":\"1043\",\"type\":\"Text\"},\"hover_glyph\":null,\"muted_glyph\":null,\"nonselection_glyph\":{\"id\":\"1044\",\"type\":\"Text\"},\"selection_glyph\":null,\"view\":{\"id\":\"1046\",\"type\":\"CDSView\"}},\"id\":\"1045\",\"type\":\"GlyphRenderer\"},{\"attributes\":{\"data_source\":{\"id\":\"1059\",\"type\":\"ColumnDataSource\"},\"glyph\":{\"id\":\"1061\",\"type\":\"Text\"},\"hover_glyph\":null,\"muted_glyph\":null,\"nonselection_glyph\":{\"id\":\"1062\",\"type\":\"Text\"},\"selection_glyph\":null,\"view\":{\"id\":\"1064\",\"type\":\"CDSView\"}},\"id\":\"1063\",\"type\":\"GlyphRenderer\"},{\"attributes\":{\"fill_color\":{\"field\":\"factors\",\"transform\":{\"id\":\"1032\",\"type\":\"CategoricalColorMapper\"}},\"height\":{\"value\":0.9},\"line_color\":{\"value\":\"white\"},\"right\":{\"field\":\"count\"},\"y\":{\"field\":\"factors\"}},\"id\":\"1036\",\"type\":\"HBar\"},{\"attributes\":{\"data_source\":{\"id\":\"1077\",\"type\":\"ColumnDataSource\"},\"glyph\":{\"id\":\"1079\",\"type\":\"Text\"},\"hover_glyph\":null,\"muted_glyph\":null,\"nonselection_glyph\":{\"id\":\"1080\",\"type\":\"Text\"},\"selection_glyph\":null,\"view\":{\"id\":\"1082\",\"type\":\"CDSView\"}},\"id\":\"1081\",\"type\":\"GlyphRenderer\"},{\"attributes\":{\"text\":{\"field\":\"count\"},\"text_baseline\":\"middle\",\"text_color\":{\"value\":\"#ff7f0e\"},\"text_font_size\":{\"value\":\"1em\"},\"x\":{\"field\":\"count\"},\"x_offset\":{\"value\":10},\"y\":{\"field\":\"factors\"}},\"id\":\"1049\",\"type\":\"Text\"},{\"attributes\":{\"grid_line_color\":{\"value\":null},\"plot\":{\"id\":\"1002\",\"subtype\":\"Figure\",\"type\":\"Plot\"},\"ticker\":{\"id\":\"1012\",\"type\":\"BasicTicker\"}},\"id\":\"1015\",\"type\":\"Grid\"},{\"attributes\":{\"text\":{\"field\":\"count\"},\"text_baseline\":\"middle\",\"text_color\":{\"value\":\"#17becf\"},\"text_font_size\":{\"value\":\"1em\"},\"x\":{\"field\":\"count\"},\"x_offset\":{\"value\":10},\"y\":{\"field\":\"factors\"}},\"id\":\"1097\",\"type\":\"Text\"},{\"attributes\":{\"source\":{\"id\":\"1041\",\"type\":\"ColumnDataSource\"}},\"id\":\"1046\",\"type\":\"CDSView\"},{\"attributes\":{\"fill_alpha\":{\"value\":0.1},\"fill_color\":{\"value\":\"#1f77b4\"},\"height\":{\"value\":0.9},\"line_alpha\":{\"value\":0.1},\"line_color\":{\"value\":\"#1f77b4\"},\"right\":{\"field\":\"count\"},\"y\":{\"field\":\"factors\"}},\"id\":\"1037\",\"type\":\"HBar\"},{\"attributes\":{\"callback\":null,\"end\":20,\"start\":0},\"id\":\"1003\",\"type\":\"DataRange1d\"},{\"attributes\":{\"data_source\":{\"id\":\"1031\",\"type\":\"ColumnDataSource\"},\"glyph\":{\"id\":\"1036\",\"type\":\"HBar\"},\"hover_glyph\":null,\"muted_glyph\":null,\"nonselection_glyph\":{\"id\":\"1037\",\"type\":\"HBar\"},\"selection_glyph\":null,\"view\":{\"id\":\"1039\",\"type\":\"CDSView\"}},\"id\":\"1038\",\"type\":\"GlyphRenderer\"},{\"attributes\":{\"source\":{\"id\":\"1031\",\"type\":\"ColumnDataSource\"}},\"id\":\"1039\",\"type\":\"CDSView\"},{\"attributes\":{\"source\":{\"id\":\"1089\",\"type\":\"ColumnDataSource\"}},\"id\":\"1094\",\"type\":\"CDSView\"},{\"attributes\":{\"data_source\":{\"id\":\"1053\",\"type\":\"ColumnDataSource\"},\"glyph\":{\"id\":\"1055\",\"type\":\"Text\"},\"hover_glyph\":null,\"muted_glyph\":null,\"nonselection_glyph\":{\"id\":\"1056\",\"type\":\"Text\"},\"selection_glyph\":null,\"view\":{\"id\":\"1058\",\"type\":\"CDSView\"}},\"id\":\"1057\",\"type\":\"GlyphRenderer\"},{\"attributes\":{\"data_source\":{\"id\":\"1047\",\"type\":\"ColumnDataSource\"},\"glyph\":{\"id\":\"1049\",\"type\":\"Text\"},\"hover_glyph\":null,\"muted_glyph\":null,\"nonselection_glyph\":{\"id\":\"1050\",\"type\":\"Text\"},\"selection_glyph\":null,\"view\":{\"id\":\"1052\",\"type\":\"CDSView\"}},\"id\":\"1051\",\"type\":\"GlyphRenderer\"},{\"attributes\":{},\"id\":\"1104\",\"type\":\"CategoricalTickFormatter\"},{\"attributes\":{\"text\":{\"field\":\"count\"},\"text_baseline\":\"middle\",\"text_color\":{\"value\":\"#d62728\"},\"text_font_size\":{\"value\":\"1em\"},\"x\":{\"field\":\"count\"},\"x_offset\":{\"value\":10},\"y\":{\"field\":\"factors\"}},\"id\":\"1061\",\"type\":\"Text\"},{\"attributes\":{\"text\":{\"field\":\"count\"},\"text_baseline\":\"middle\",\"text_color\":{\"value\":\"#1f77b4\"},\"text_font_size\":{\"value\":\"1em\"},\"x\":{\"field\":\"count\"},\"x_offset\":{\"value\":10},\"y\":{\"field\":\"factors\"}},\"id\":\"1043\",\"type\":\"Text\"},{\"attributes\":{\"source\":{\"id\":\"1053\",\"type\":\"ColumnDataSource\"}},\"id\":\"1058\",\"type\":\"CDSView\"},{\"attributes\":{\"callback\":null,\"data\":{\"count\":[13],\"factors\":[\"Daedalic Entertainment\"],\"index\":[0]},\"name\":\"Series:\",\"selected\":{\"id\":\"1111\",\"type\":\"Selection\"},\"selection_policy\":{\"id\":\"1110\",\"type\":\"UnionRenderers\"}},\"id\":\"1047\",\"type\":\"ColumnDataSource\"},{\"attributes\":{\"text\":{\"field\":\"count\"},\"text_alpha\":{\"value\":0.1},\"text_baseline\":\"middle\",\"text_color\":{\"value\":\"black\"},\"text_font_size\":{\"value\":\"1em\"},\"x\":{\"field\":\"count\"},\"x_offset\":{\"value\":10},\"y\":{\"field\":\"factors\"}},\"id\":\"1050\",\"type\":\"Text\"},{\"attributes\":{\"data_source\":{\"id\":\"1095\",\"type\":\"ColumnDataSource\"},\"glyph\":{\"id\":\"1097\",\"type\":\"Text\"},\"hover_glyph\":null,\"muted_glyph\":null,\"nonselection_glyph\":{\"id\":\"1098\",\"type\":\"Text\"},\"selection_glyph\":null,\"view\":{\"id\":\"1100\",\"type\":\"CDSView\"}},\"id\":\"1099\",\"type\":\"GlyphRenderer\"},{\"attributes\":{},\"id\":\"1106\",\"type\":\"UnionRenderers\"},{\"attributes\":{\"callback\":null,\"data\":{\"count\":[12],\"factors\":[\"Ubisoft\"],\"index\":[0]},\"name\":\"Series:\",\"selected\":{\"id\":\"1127\",\"type\":\"Selection\"},\"selection_policy\":{\"id\":\"1126\",\"type\":\"UnionRenderers\"}},\"id\":\"1095\",\"type\":\"ColumnDataSource\"},{\"attributes\":{},\"id\":\"1110\",\"type\":\"UnionRenderers\"},{\"attributes\":{\"text\":{\"field\":\"count\"},\"text_alpha\":{\"value\":0.1},\"text_baseline\":\"middle\",\"text_color\":{\"value\":\"black\"},\"text_font_size\":{\"value\":\"1em\"},\"x\":{\"field\":\"count\"},\"x_offset\":{\"value\":10},\"y\":{\"field\":\"factors\"}},\"id\":\"1098\",\"type\":\"Text\"},{\"attributes\":{\"text\":{\"field\":\"count\"},\"text_baseline\":\"middle\",\"text_color\":{\"value\":\"#2ca02c\"},\"text_font_size\":{\"value\":\"1em\"},\"x\":{\"field\":\"count\"},\"x_offset\":{\"value\":10},\"y\":{\"field\":\"factors\"}},\"id\":\"1055\",\"type\":\"Text\"},{\"attributes\":{\"text\":{\"field\":\"count\"},\"text_alpha\":{\"value\":0.1},\"text_baseline\":\"middle\",\"text_color\":{\"value\":\"black\"},\"text_font_size\":{\"value\":\"1em\"},\"x\":{\"field\":\"count\"},\"x_offset\":{\"value\":10},\"y\":{\"field\":\"factors\"}},\"id\":\"1062\",\"type\":\"Text\"},{\"attributes\":{},\"id\":\"1107\",\"type\":\"Selection\"},{\"attributes\":{\"text\":{\"field\":\"count\"},\"text_baseline\":\"middle\",\"text_color\":{\"value\":\"#e377c2\"},\"text_font_size\":{\"value\":\"1em\"},\"x\":{\"field\":\"count\"},\"x_offset\":{\"value\":10},\"y\":{\"field\":\"factors\"}},\"id\":\"1079\",\"type\":\"Text\"},{\"attributes\":{\"source\":{\"id\":\"1077\",\"type\":\"ColumnDataSource\"}},\"id\":\"1082\",\"type\":\"CDSView\"},{\"attributes\":{\"text\":{\"field\":\"count\"},\"text_alpha\":{\"value\":0.1},\"text_baseline\":\"middle\",\"text_color\":{\"value\":\"black\"},\"text_font_size\":{\"value\":\"1em\"},\"x\":{\"field\":\"count\"},\"x_offset\":{\"value\":10},\"y\":{\"field\":\"factors\"}},\"id\":\"1080\",\"type\":\"Text\"},{\"attributes\":{\"source\":{\"id\":\"1047\",\"type\":\"ColumnDataSource\"}},\"id\":\"1052\",\"type\":\"CDSView\"},{\"attributes\":{\"end\":1,\"factors\":[\"AGM PLAYISM\",\"Daedalic Entertainment\",\"Devolver Digital\",\"Electronic Arts\",\"Microsoft Studios\",\"Paradox Interactive\",\"SCS Software\",\"SEGA\",\"Sekai Project\",\"Ubisoft\"],\"palette\":[\"#1f77b4\",\"#ff7f0e\",\"#2ca02c\",\"#d62728\",\"#9467bd\",\"#8c564b\",\"#e377c2\",\"#7f7f7f\",\"#bcbd22\",\"#17becf\"]},\"id\":\"1032\",\"type\":\"CategoricalColorMapper\"},{\"attributes\":{\"callback\":null,\"data\":{\"count\":[7],\"factors\":[\"AGM PLAYISM\"],\"index\":[0]},\"name\":\"Series:\",\"selected\":{\"id\":\"1109\",\"type\":\"Selection\"},\"selection_policy\":{\"id\":\"1108\",\"type\":\"UnionRenderers\"}},\"id\":\"1041\",\"type\":\"ColumnDataSource\"},{\"attributes\":{\"text\":{\"field\":\"count\"},\"text_baseline\":\"middle\",\"text_color\":{\"value\":\"#7f7f7f\"},\"text_font_size\":{\"value\":\"1em\"},\"x\":{\"field\":\"count\"},\"x_offset\":{\"value\":10},\"y\":{\"field\":\"factors\"}},\"id\":\"1085\",\"type\":\"Text\"},{\"attributes\":{},\"id\":\"1108\",\"type\":\"UnionRenderers\"},{\"attributes\":{\"text\":{\"field\":\"count\"},\"text_alpha\":{\"value\":0.1},\"text_baseline\":\"middle\",\"text_color\":{\"value\":\"black\"},\"text_font_size\":{\"value\":\"1em\"},\"x\":{\"field\":\"count\"},\"x_offset\":{\"value\":10},\"y\":{\"field\":\"factors\"}},\"id\":\"1056\",\"type\":\"Text\"},{\"attributes\":{\"source\":{\"id\":\"1095\",\"type\":\"ColumnDataSource\"}},\"id\":\"1100\",\"type\":\"CDSView\"},{\"attributes\":{},\"id\":\"1109\",\"type\":\"Selection\"},{\"attributes\":{\"callback\":null,\"data\":{\"count\":[12],\"factors\":[\"Devolver Digital\"],\"index\":[0]},\"name\":\"Series:\",\"selected\":{\"id\":\"1113\",\"type\":\"Selection\"},\"selection_policy\":{\"id\":\"1112\",\"type\":\"UnionRenderers\"}},\"id\":\"1053\",\"type\":\"ColumnDataSource\"},{\"attributes\":{\"text\":{\"field\":\"count\"},\"text_alpha\":{\"value\":0.1},\"text_baseline\":\"middle\",\"text_color\":{\"value\":\"black\"},\"text_font_size\":{\"value\":\"1em\"},\"x\":{\"field\":\"count\"},\"x_offset\":{\"value\":10},\"y\":{\"field\":\"factors\"}},\"id\":\"1086\",\"type\":\"Text\"},{\"attributes\":{\"callback\":null,\"data\":{\"count\":[8],\"factors\":[\"Electronic Arts\"],\"index\":[0]},\"name\":\"Series:\",\"selected\":{\"id\":\"1115\",\"type\":\"Selection\"},\"selection_policy\":{\"id\":\"1114\",\"type\":\"UnionRenderers\"}},\"id\":\"1059\",\"type\":\"ColumnDataSource\"},{\"attributes\":{},\"id\":\"1111\",\"type\":\"Selection\"},{\"attributes\":{\"text\":{\"field\":\"count\"},\"text_alpha\":{\"value\":0.1},\"text_baseline\":\"middle\",\"text_color\":{\"value\":\"black\"},\"text_font_size\":{\"value\":\"1em\"},\"x\":{\"field\":\"count\"},\"x_offset\":{\"value\":10},\"y\":{\"field\":\"factors\"}},\"id\":\"1044\",\"type\":\"Text\"}],\"root_ids\":[\"1002\"]},\"title\":\"Bokeh Application\",\"version\":\"1.0.1\"}};\n",
       "  var render_items = [{\"docid\":\"8819ac66-fdba-4287-bc45-0be0a5a1448f\",\"roots\":{\"1002\":\"4dff945e-a5dc-4da0-9b52-87484a092ac8\"}}];\n",
       "  root.Bokeh.embed.embed_items_notebook(docs_json, render_items);\n",
       "\n",
       "  }\n",
       "  if (root.Bokeh !== undefined) {\n",
       "    embed_document(root);\n",
       "  } else {\n",
       "    var attempts = 0;\n",
       "    var timer = setInterval(function(root) {\n",
       "      if (root.Bokeh !== undefined) {\n",
       "        embed_document(root);\n",
       "        clearInterval(timer);\n",
       "      }\n",
       "      attempts++;\n",
       "      if (attempts > 100) {\n",
       "        console.log(\"Bokeh: ERROR: Unable to run BokehJS code because BokehJS library is missing\");\n",
       "        clearInterval(timer);\n",
       "      }\n",
       "    }, 10, root)\n",
       "  }\n",
       "})(window);"
      ],
      "application/vnd.bokehjs_exec.v0+json": ""
     },
     "metadata": {
      "application/vnd.bokehjs_exec.v0+json": {
       "id": "1002"
      }
     },
     "output_type": "display_data"
    },
    {
     "data": {
      "text/html": [
       "\n",
       "\n",
       "\n",
       "\n",
       "\n",
       "\n",
       "  <div class=\"bk-root\" id=\"e8183225-8692-4f40-a675-a8b94ceb70e9\"></div>\n"
      ]
     },
     "metadata": {},
     "output_type": "display_data"
    },
    {
     "data": {
      "application/javascript": [
       "(function(root) {\n",
       "  function embed_document(root) {\n",
       "    \n",
       "  var docs_json = {\"feff605a-68ee-4ddd-9029-2ed3e8902ed6\":{\"roots\":{\"references\":[{\"attributes\":{\"above\":[{\"id\":\"1315\",\"type\":\"Title\"}],\"background_fill_color\":{\"value\":\"white\"},\"below\":[{\"id\":\"1299\",\"type\":\"CategoricalAxis\"},{\"id\":\"1314\",\"type\":\"Label\"}],\"border_fill_color\":{\"value\":\"white\"},\"left\":[{\"id\":\"1303\",\"type\":\"LinearAxis\"}],\"min_border_bottom\":60,\"min_border_left\":60,\"min_border_right\":60,\"min_border_top\":40,\"outline_line_color\":{\"value\":\"white\"},\"plot_height\":540,\"plot_width\":960,\"renderers\":[{\"id\":\"1299\",\"type\":\"CategoricalAxis\"},{\"id\":\"1302\",\"type\":\"Grid\"},{\"id\":\"1303\",\"type\":\"LinearAxis\"},{\"id\":\"1307\",\"type\":\"Grid\"},{\"id\":\"1314\",\"type\":\"Label\"},{\"id\":\"1315\",\"type\":\"Title\"},{\"id\":\"1326\",\"type\":\"GlyphRenderer\"},{\"id\":\"1333\",\"type\":\"GlyphRenderer\"},{\"id\":\"1339\",\"type\":\"GlyphRenderer\"},{\"id\":\"1345\",\"type\":\"GlyphRenderer\"},{\"id\":\"1351\",\"type\":\"GlyphRenderer\"},{\"id\":\"1357\",\"type\":\"GlyphRenderer\"},{\"id\":\"1363\",\"type\":\"GlyphRenderer\"},{\"id\":\"1369\",\"type\":\"GlyphRenderer\"},{\"id\":\"1375\",\"type\":\"GlyphRenderer\"},{\"id\":\"1381\",\"type\":\"GlyphRenderer\"},{\"id\":\"1387\",\"type\":\"GlyphRenderer\"}],\"title\":{\"id\":\"1311\",\"type\":\"Title\"},\"toolbar\":{\"id\":\"1309\",\"type\":\"Toolbar\"},\"x_range\":{\"id\":\"1291\",\"type\":\"FactorRange\"},\"x_scale\":{\"id\":\"1295\",\"type\":\"CategoricalScale\"},\"y_range\":{\"id\":\"1293\",\"type\":\"DataRange1d\"},\"y_scale\":{\"id\":\"1297\",\"type\":\"LinearScale\"}},\"id\":\"1290\",\"subtype\":\"Figure\",\"type\":\"Plot\"},{\"attributes\":{\"data_source\":{\"id\":\"1329\",\"type\":\"ColumnDataSource\"},\"glyph\":{\"id\":\"1331\",\"type\":\"Text\"},\"hover_glyph\":null,\"muted_glyph\":null,\"nonselection_glyph\":{\"id\":\"1332\",\"type\":\"Text\"},\"selection_glyph\":null,\"view\":{\"id\":\"1334\",\"type\":\"CDSView\"}},\"id\":\"1333\",\"type\":\"GlyphRenderer\"},{\"attributes\":{\"data_source\":{\"id\":\"1353\",\"type\":\"ColumnDataSource\"},\"glyph\":{\"id\":\"1355\",\"type\":\"Text\"},\"hover_glyph\":null,\"muted_glyph\":null,\"nonselection_glyph\":{\"id\":\"1356\",\"type\":\"Text\"},\"selection_glyph\":null,\"view\":{\"id\":\"1358\",\"type\":\"CDSView\"}},\"id\":\"1357\",\"type\":\"GlyphRenderer\"},{\"attributes\":{\"source\":{\"id\":\"1329\",\"type\":\"ColumnDataSource\"}},\"id\":\"1334\",\"type\":\"CDSView\"},{\"attributes\":{\"fill_alpha\":{\"value\":0.1},\"fill_color\":{\"value\":\"#1f77b4\"},\"line_alpha\":{\"value\":0.1},\"line_color\":{\"value\":\"#1f77b4\"},\"top\":{\"field\":\"count\"},\"width\":{\"value\":0.9},\"x\":{\"field\":\"factors\"}},\"id\":\"1325\",\"type\":\"VBar\"},{\"attributes\":{\"text\":{\"field\":\"count\"},\"text_align\":\"center\",\"text_color\":{\"value\":\"#d62728\"},\"text_font_size\":{\"value\":\"1em\"},\"x\":{\"field\":\"factors\"},\"y\":{\"field\":\"count\"},\"y_offset\":{\"value\":-4}},\"id\":\"1349\",\"type\":\"Text\"},{\"attributes\":{\"text\":{\"field\":\"count\"},\"text_align\":\"center\",\"text_alpha\":{\"value\":0.1},\"text_color\":{\"value\":\"black\"},\"text_font_size\":{\"value\":\"1em\"},\"x\":{\"field\":\"factors\"},\"y\":{\"field\":\"count\"},\"y_offset\":{\"value\":-4}},\"id\":\"1338\",\"type\":\"Text\"},{\"attributes\":{\"source\":{\"id\":\"1319\",\"type\":\"ColumnDataSource\"}},\"id\":\"1327\",\"type\":\"CDSView\"},{\"attributes\":{\"text\":{\"field\":\"count\"},\"text_align\":\"center\",\"text_color\":{\"value\":\"#ff7f0e\"},\"text_font_size\":{\"value\":\"1em\"},\"x\":{\"field\":\"factors\"},\"y\":{\"field\":\"count\"},\"y_offset\":{\"value\":-4}},\"id\":\"1337\",\"type\":\"Text\"},{\"attributes\":{\"data_source\":{\"id\":\"1319\",\"type\":\"ColumnDataSource\"},\"glyph\":{\"id\":\"1324\",\"type\":\"VBar\"},\"hover_glyph\":null,\"muted_glyph\":null,\"nonselection_glyph\":{\"id\":\"1325\",\"type\":\"VBar\"},\"selection_glyph\":null,\"view\":{\"id\":\"1327\",\"type\":\"CDSView\"}},\"id\":\"1326\",\"type\":\"GlyphRenderer\"},{\"attributes\":{\"text\":{\"field\":\"count\"},\"text_align\":\"center\",\"text_color\":{\"value\":\"#7f7f7f\"},\"text_font_size\":{\"value\":\"1em\"},\"x\":{\"field\":\"factors\"},\"y\":{\"field\":\"count\"},\"y_offset\":{\"value\":-4}},\"id\":\"1373\",\"type\":\"Text\"},{\"attributes\":{},\"id\":\"1432\",\"type\":\"Selection\"},{\"attributes\":{},\"id\":\"1431\",\"type\":\"UnionRenderers\"},{\"attributes\":{\"fill_color\":{\"field\":\"factors\",\"transform\":{\"id\":\"1320\",\"type\":\"CategoricalColorMapper\"}},\"line_color\":{\"value\":\"white\"},\"top\":{\"field\":\"count\"},\"width\":{\"value\":0.9},\"x\":{\"field\":\"factors\"}},\"id\":\"1324\",\"type\":\"VBar\"},{\"attributes\":{\"source\":{\"id\":\"1341\",\"type\":\"ColumnDataSource\"}},\"id\":\"1346\",\"type\":\"CDSView\"},{\"attributes\":{},\"id\":\"1434\",\"type\":\"Selection\"},{\"attributes\":{},\"id\":\"1435\",\"type\":\"UnionRenderers\"},{\"attributes\":{},\"id\":\"1442\",\"type\":\"Selection\"},{\"attributes\":{\"data_source\":{\"id\":\"1335\",\"type\":\"ColumnDataSource\"},\"glyph\":{\"id\":\"1337\",\"type\":\"Text\"},\"hover_glyph\":null,\"muted_glyph\":null,\"nonselection_glyph\":{\"id\":\"1338\",\"type\":\"Text\"},\"selection_glyph\":null,\"view\":{\"id\":\"1340\",\"type\":\"CDSView\"}},\"id\":\"1339\",\"type\":\"GlyphRenderer\"},{\"attributes\":{\"callback\":null,\"data\":{\"count\":[335],\"factors\":[\"Adventure\"],\"index\":[0]},\"name\":\"Series:\",\"selected\":{\"id\":\"1426\",\"type\":\"Selection\"},\"selection_policy\":{\"id\":\"1425\",\"type\":\"UnionRenderers\"}},\"id\":\"1335\",\"type\":\"ColumnDataSource\"},{\"attributes\":{},\"id\":\"1436\",\"type\":\"Selection\"},{\"attributes\":{\"source\":{\"id\":\"1353\",\"type\":\"ColumnDataSource\"}},\"id\":\"1358\",\"type\":\"CDSView\"},{\"attributes\":{},\"id\":\"1433\",\"type\":\"UnionRenderers\"},{\"attributes\":{},\"id\":\"1438\",\"type\":\"Selection\"},{\"attributes\":{\"callback\":null,\"data\":{\"count\":[428],\"factors\":[\"Action\"],\"index\":[0]},\"name\":\"Series:\",\"selected\":{\"id\":\"1424\",\"type\":\"Selection\"},\"selection_policy\":{\"id\":\"1423\",\"type\":\"UnionRenderers\"}},\"id\":\"1329\",\"type\":\"ColumnDataSource\"},{\"attributes\":{\"callback\":null,\"data\":{\"count\":[45],\"factors\":[\"Multiplayer\"],\"index\":[0]},\"name\":\"Series:\",\"selected\":{\"id\":\"1436\",\"type\":\"Selection\"},\"selection_policy\":{\"id\":\"1435\",\"type\":\"UnionRenderers\"}},\"id\":\"1365\",\"type\":\"ColumnDataSource\"},{\"attributes\":{\"source\":{\"id\":\"1365\",\"type\":\"ColumnDataSource\"}},\"id\":\"1370\",\"type\":\"CDSView\"},{\"attributes\":{\"data_source\":{\"id\":\"1347\",\"type\":\"ColumnDataSource\"},\"glyph\":{\"id\":\"1349\",\"type\":\"Text\"},\"hover_glyph\":null,\"muted_glyph\":null,\"nonselection_glyph\":{\"id\":\"1350\",\"type\":\"Text\"},\"selection_glyph\":null,\"view\":{\"id\":\"1352\",\"type\":\"CDSView\"}},\"id\":\"1351\",\"type\":\"GlyphRenderer\"},{\"attributes\":{\"text\":{\"field\":\"count\"},\"text_align\":\"center\",\"text_color\":{\"value\":\"#2ca02c\"},\"text_font_size\":{\"value\":\"1em\"},\"x\":{\"field\":\"factors\"},\"y\":{\"field\":\"count\"},\"y_offset\":{\"value\":-4}},\"id\":\"1343\",\"type\":\"Text\"},{\"attributes\":{\"callback\":null,\"data\":{\"count\":[69],\"factors\":[\"Early Access\"],\"index\":[0]},\"name\":\"Series:\",\"selected\":{\"id\":\"1430\",\"type\":\"Selection\"},\"selection_policy\":{\"id\":\"1429\",\"type\":\"UnionRenderers\"}},\"id\":\"1347\",\"type\":\"ColumnDataSource\"},{\"attributes\":{\"text\":{\"field\":\"count\"},\"text_align\":\"center\",\"text_alpha\":{\"value\":0.1},\"text_color\":{\"value\":\"black\"},\"text_font_size\":{\"value\":\"1em\"},\"x\":{\"field\":\"factors\"},\"y\":{\"field\":\"count\"},\"y_offset\":{\"value\":-4}},\"id\":\"1374\",\"type\":\"Text\"},{\"attributes\":{\"text\":{\"field\":\"count\"},\"text_align\":\"center\",\"text_alpha\":{\"value\":0.1},\"text_color\":{\"value\":\"black\"},\"text_font_size\":{\"value\":\"1em\"},\"x\":{\"field\":\"factors\"},\"y\":{\"field\":\"count\"},\"y_offset\":{\"value\":-4}},\"id\":\"1350\",\"type\":\"Text\"},{\"attributes\":{},\"id\":\"1424\",\"type\":\"Selection\"},{\"attributes\":{},\"id\":\"1439\",\"type\":\"UnionRenderers\"},{\"attributes\":{\"text\":{\"field\":\"count\"},\"text_align\":\"center\",\"text_color\":{\"value\":\"#e377c2\"},\"text_font_size\":{\"value\":\"1em\"},\"x\":{\"field\":\"factors\"},\"y\":{\"field\":\"count\"},\"y_offset\":{\"value\":-4}},\"id\":\"1367\",\"type\":\"Text\"},{\"attributes\":{},\"id\":\"1440\",\"type\":\"Selection\"},{\"attributes\":{},\"id\":\"1429\",\"type\":\"UnionRenderers\"},{\"attributes\":{\"callback\":null,\"data\":{\"count\":[131],\"factors\":[\"Free to Play\"],\"index\":[0]},\"name\":\"Series:\",\"selected\":{\"id\":\"1432\",\"type\":\"Selection\"},\"selection_policy\":{\"id\":\"1431\",\"type\":\"UnionRenderers\"}},\"id\":\"1353\",\"type\":\"ColumnDataSource\"},{\"attributes\":{\"source\":{\"id\":\"1335\",\"type\":\"ColumnDataSource\"}},\"id\":\"1340\",\"type\":\"CDSView\"},{\"attributes\":{\"text\":{\"field\":\"count\"},\"text_align\":\"center\",\"text_color\":{\"value\":\"#9467bd\"},\"text_font_size\":{\"value\":\"1em\"},\"x\":{\"field\":\"factors\"},\"y\":{\"field\":\"count\"},\"y_offset\":{\"value\":-4}},\"id\":\"1355\",\"type\":\"Text\"},{\"attributes\":{\"text\":{\"field\":\"count\"},\"text_align\":\"center\",\"text_color\":{\"value\":\"#1f77b4\"},\"text_font_size\":{\"value\":\"1em\"},\"x\":{\"field\":\"factors\"},\"y\":{\"field\":\"count\"},\"y_offset\":{\"value\":-4}},\"id\":\"1331\",\"type\":\"Text\"},{\"attributes\":{},\"id\":\"1441\",\"type\":\"UnionRenderers\"},{\"attributes\":{\"text\":{\"field\":\"count\"},\"text_align\":\"center\",\"text_alpha\":{\"value\":0.1},\"text_color\":{\"value\":\"black\"},\"text_font_size\":{\"value\":\"1em\"},\"x\":{\"field\":\"factors\"},\"y\":{\"field\":\"count\"},\"y_offset\":{\"value\":-4}},\"id\":\"1368\",\"type\":\"Text\"},{\"attributes\":{},\"id\":\"1428\",\"type\":\"Selection\"},{\"attributes\":{\"callback\":null,\"data\":{\"count\":[213],\"factors\":[\"RPG\"],\"index\":[0]},\"name\":\"Series:\",\"selected\":{\"id\":\"1438\",\"type\":\"Selection\"},\"selection_policy\":{\"id\":\"1437\",\"type\":\"UnionRenderers\"}},\"id\":\"1371\",\"type\":\"ColumnDataSource\"},{\"attributes\":{\"data_source\":{\"id\":\"1371\",\"type\":\"ColumnDataSource\"},\"glyph\":{\"id\":\"1373\",\"type\":\"Text\"},\"hover_glyph\":null,\"muted_glyph\":null,\"nonselection_glyph\":{\"id\":\"1374\",\"type\":\"Text\"},\"selection_glyph\":null,\"view\":{\"id\":\"1376\",\"type\":\"CDSView\"}},\"id\":\"1375\",\"type\":\"GlyphRenderer\"},{\"attributes\":{\"text\":{\"field\":\"count\"},\"text_align\":\"center\",\"text_color\":{\"value\":\"#8c564b\"},\"text_font_size\":{\"value\":\"1em\"},\"x\":{\"field\":\"factors\"},\"y\":{\"field\":\"count\"},\"y_offset\":{\"value\":-4}},\"id\":\"1361\",\"type\":\"Text\"},{\"attributes\":{\"data_source\":{\"id\":\"1359\",\"type\":\"ColumnDataSource\"},\"glyph\":{\"id\":\"1361\",\"type\":\"Text\"},\"hover_glyph\":null,\"muted_glyph\":null,\"nonselection_glyph\":{\"id\":\"1362\",\"type\":\"Text\"},\"selection_glyph\":null,\"view\":{\"id\":\"1364\",\"type\":\"CDSView\"}},\"id\":\"1363\",\"type\":\"GlyphRenderer\"},{\"attributes\":{\"data_source\":{\"id\":\"1365\",\"type\":\"ColumnDataSource\"},\"glyph\":{\"id\":\"1367\",\"type\":\"Text\"},\"hover_glyph\":null,\"muted_glyph\":null,\"nonselection_glyph\":{\"id\":\"1368\",\"type\":\"Text\"},\"selection_glyph\":null,\"view\":{\"id\":\"1370\",\"type\":\"CDSView\"}},\"id\":\"1369\",\"type\":\"GlyphRenderer\"},{\"attributes\":{\"source\":{\"id\":\"1359\",\"type\":\"ColumnDataSource\"}},\"id\":\"1364\",\"type\":\"CDSView\"},{\"attributes\":{},\"id\":\"1427\",\"type\":\"UnionRenderers\"},{\"attributes\":{\"source\":{\"id\":\"1347\",\"type\":\"ColumnDataSource\"}},\"id\":\"1352\",\"type\":\"CDSView\"},{\"attributes\":{\"text\":{\"field\":\"count\"},\"text_align\":\"center\",\"text_alpha\":{\"value\":0.1},\"text_color\":{\"value\":\"black\"},\"text_font_size\":{\"value\":\"1em\"},\"x\":{\"field\":\"factors\"},\"y\":{\"field\":\"count\"},\"y_offset\":{\"value\":-4}},\"id\":\"1332\",\"type\":\"Text\"},{\"attributes\":{},\"id\":\"1423\",\"type\":\"UnionRenderers\"},{\"attributes\":{},\"id\":\"1426\",\"type\":\"Selection\"},{\"attributes\":{\"callback\":null,\"data\":{\"count\":[619],\"factors\":[\"Indie\"],\"index\":[0]},\"name\":\"Series:\",\"selected\":{\"id\":\"1434\",\"type\":\"Selection\"},\"selection_policy\":{\"id\":\"1433\",\"type\":\"UnionRenderers\"}},\"id\":\"1359\",\"type\":\"ColumnDataSource\"},{\"attributes\":{\"callback\":null,\"data\":{\"count\":[194],\"factors\":[\"Casual\"],\"index\":[0]},\"name\":\"Series:\",\"selected\":{\"id\":\"1428\",\"type\":\"Selection\"},\"selection_policy\":{\"id\":\"1427\",\"type\":\"UnionRenderers\"}},\"id\":\"1341\",\"type\":\"ColumnDataSource\"},{\"attributes\":{},\"id\":\"1437\",\"type\":\"UnionRenderers\"},{\"attributes\":{},\"id\":\"1425\",\"type\":\"UnionRenderers\"},{\"attributes\":{\"text\":{\"field\":\"count\"},\"text_align\":\"center\",\"text_alpha\":{\"value\":0.1},\"text_color\":{\"value\":\"black\"},\"text_font_size\":{\"value\":\"1em\"},\"x\":{\"field\":\"factors\"},\"y\":{\"field\":\"count\"},\"y_offset\":{\"value\":-4}},\"id\":\"1356\",\"type\":\"Text\"},{\"attributes\":{\"text\":{\"field\":\"count\"},\"text_align\":\"center\",\"text_alpha\":{\"value\":0.1},\"text_color\":{\"value\":\"black\"},\"text_font_size\":{\"value\":\"1em\"},\"x\":{\"field\":\"factors\"},\"y\":{\"field\":\"count\"},\"y_offset\":{\"value\":-4}},\"id\":\"1362\",\"type\":\"Text\"},{\"attributes\":{\"source\":{\"id\":\"1371\",\"type\":\"ColumnDataSource\"}},\"id\":\"1376\",\"type\":\"CDSView\"},{\"attributes\":{\"text\":{\"field\":\"count\"},\"text_align\":\"center\",\"text_alpha\":{\"value\":0.1},\"text_color\":{\"value\":\"black\"},\"text_font_size\":{\"value\":\"1em\"},\"x\":{\"field\":\"factors\"},\"y\":{\"field\":\"count\"},\"y_offset\":{\"value\":-4}},\"id\":\"1344\",\"type\":\"Text\"},{\"attributes\":{\"text\":{\"field\":\"count\"},\"text_align\":\"center\",\"text_color\":{\"value\":\"#bcbd22\"},\"text_font_size\":{\"value\":\"1em\"},\"x\":{\"field\":\"factors\"},\"y\":{\"field\":\"count\"},\"y_offset\":{\"value\":-4}},\"id\":\"1379\",\"type\":\"Text\"},{\"attributes\":{},\"id\":\"1422\",\"type\":\"Selection\"},{\"attributes\":{\"data_source\":{\"id\":\"1341\",\"type\":\"ColumnDataSource\"},\"glyph\":{\"id\":\"1343\",\"type\":\"Text\"},\"hover_glyph\":null,\"muted_glyph\":null,\"nonselection_glyph\":{\"id\":\"1344\",\"type\":\"Text\"},\"selection_glyph\":null,\"view\":{\"id\":\"1346\",\"type\":\"CDSView\"}},\"id\":\"1345\",\"type\":\"GlyphRenderer\"},{\"attributes\":{},\"id\":\"1308\",\"type\":\"SaveTool\"},{\"attributes\":{\"text\":{\"field\":\"count\"},\"text_align\":\"center\",\"text_alpha\":{\"value\":0.1},\"text_color\":{\"value\":\"black\"},\"text_font_size\":{\"value\":\"1em\"},\"x\":{\"field\":\"factors\"},\"y\":{\"field\":\"count\"},\"y_offset\":{\"value\":-4}},\"id\":\"1380\",\"type\":\"Text\"},{\"attributes\":{},\"id\":\"1430\",\"type\":\"Selection\"},{\"attributes\":{\"active_drag\":null,\"active_inspect\":\"auto\",\"active_multi\":null,\"active_scroll\":\"auto\",\"active_tap\":\"auto\",\"logo\":null,\"tools\":[{\"id\":\"1308\",\"type\":\"SaveTool\"}]},\"id\":\"1309\",\"type\":\"Toolbar\"},{\"attributes\":{},\"id\":\"1300\",\"type\":\"CategoricalTicker\"},{\"attributes\":{\"source\":{\"id\":\"1383\",\"type\":\"ColumnDataSource\"}},\"id\":\"1388\",\"type\":\"CDSView\"},{\"attributes\":{\"dimension\":1,\"grid_line_color\":{\"value\":null},\"plot\":{\"id\":\"1290\",\"subtype\":\"Figure\",\"type\":\"Plot\"},\"ticker\":{\"id\":\"1304\",\"type\":\"BasicTicker\"}},\"id\":\"1307\",\"type\":\"Grid\"},{\"attributes\":{\"axis_label\":\"Number of Games\",\"axis_label_text_color\":{\"value\":\"#666666\"},\"axis_label_text_font_size\":{\"value\":\"11pt\"},\"axis_label_text_font_style\":\"bold\",\"axis_line_color\":{\"value\":\"#C0C0C0\"},\"formatter\":{\"id\":\"1321\",\"type\":\"NumeralTickFormatter\"},\"major_label_text_color\":{\"value\":\"#898989\"},\"major_label_text_font_size\":{\"value\":\"10pt\"},\"major_tick_in\":0,\"major_tick_line_color\":{\"value\":\"#C0C0C0\"},\"major_tick_out\":4,\"minor_tick_line_color\":{\"value\":\"#C0C0C0\"},\"minor_tick_out\":1,\"plot\":{\"id\":\"1290\",\"subtype\":\"Figure\",\"type\":\"Plot\"},\"ticker\":{\"id\":\"1304\",\"type\":\"BasicTicker\"}},\"id\":\"1303\",\"type\":\"LinearAxis\"},{\"attributes\":{},\"id\":\"1304\",\"type\":\"BasicTicker\"},{\"attributes\":{\"data_source\":{\"id\":\"1377\",\"type\":\"ColumnDataSource\"},\"glyph\":{\"id\":\"1379\",\"type\":\"Text\"},\"hover_glyph\":null,\"muted_glyph\":null,\"nonselection_glyph\":{\"id\":\"1380\",\"type\":\"Text\"},\"selection_glyph\":null,\"view\":{\"id\":\"1382\",\"type\":\"CDSView\"}},\"id\":\"1381\",\"type\":\"GlyphRenderer\"},{\"attributes\":{\"grid_line_color\":{\"value\":null},\"plot\":{\"id\":\"1290\",\"subtype\":\"Figure\",\"type\":\"Plot\"},\"ticker\":{\"id\":\"1300\",\"type\":\"CategoricalTicker\"}},\"id\":\"1302\",\"type\":\"Grid\"},{\"attributes\":{\"callback\":null,\"data\":{\"count\":[189],\"factors\":[\"Simulation\"],\"index\":[0]},\"name\":\"Series:\",\"selected\":{\"id\":\"1440\",\"type\":\"Selection\"},\"selection_policy\":{\"id\":\"1439\",\"type\":\"UnionRenderers\"}},\"id\":\"1377\",\"type\":\"ColumnDataSource\"},{\"attributes\":{\"text\":{\"field\":\"count\"},\"text_align\":\"center\",\"text_color\":{\"value\":\"#17becf\"},\"text_font_size\":{\"value\":\"1em\"},\"x\":{\"field\":\"factors\"},\"y\":{\"field\":\"count\"},\"y_offset\":{\"value\":-4}},\"id\":\"1385\",\"type\":\"Text\"},{\"attributes\":{\"end\":1,\"factors\":[\"Action\",\"Adventure\",\"Casual\",\"Early Access\",\"Free to Play\",\"Indie\",\"Multiplayer\",\"RPG\",\"Simulation\",\"Strategy\"],\"palette\":[\"#1f77b4\",\"#ff7f0e\",\"#2ca02c\",\"#d62728\",\"#9467bd\",\"#8c564b\",\"#e377c2\",\"#7f7f7f\",\"#bcbd22\",\"#17becf\"]},\"id\":\"1320\",\"type\":\"CategoricalColorMapper\"},{\"attributes\":{},\"id\":\"1295\",\"type\":\"CategoricalScale\"},{\"attributes\":{},\"id\":\"1297\",\"type\":\"LinearScale\"},{\"attributes\":{\"axis_label\":\"Genre\",\"axis_label_text_color\":{\"value\":\"#666666\"},\"axis_label_text_font_size\":{\"value\":\"11pt\"},\"axis_label_text_font_style\":\"bold\",\"axis_line_color\":{\"value\":\"#C0C0C0\"},\"formatter\":{\"id\":\"1418\",\"type\":\"CategoricalTickFormatter\"},\"group_text_font_size\":{\"value\":\"11pt\"},\"major_label_text_color\":{\"value\":\"#898989\"},\"major_label_text_font_size\":{\"value\":\"10pt\"},\"major_tick_in\":0,\"major_tick_line_color\":{\"value\":\"#C0C0C0\"},\"major_tick_out\":4,\"minor_tick_line_color\":{\"value\":\"#C0C0C0\"},\"minor_tick_out\":1,\"plot\":{\"id\":\"1290\",\"subtype\":\"Figure\",\"type\":\"Plot\"},\"separator_line_alpha\":{\"value\":0},\"subgroup_text_font_size\":{\"value\":\"11pt\"},\"ticker\":{\"id\":\"1300\",\"type\":\"CategoricalTicker\"}},\"id\":\"1299\",\"type\":\"CategoricalAxis\"},{\"attributes\":{\"source\":{\"id\":\"1377\",\"type\":\"ColumnDataSource\"}},\"id\":\"1382\",\"type\":\"CDSView\"},{\"attributes\":{\"callback\":null,\"factor_padding\":0.25,\"factors\":[\"Indie\",\"Action\",\"Adventure\",\"Strategy\",\"RPG\",\"Casual\",\"Simulation\",\"Free to Play\",\"Early Access\",\"Multiplayer\"]},\"id\":\"1291\",\"type\":\"FactorRange\"},{\"attributes\":{\"callback\":null,\"data\":{\"count\":[228],\"factors\":[\"Strategy\"],\"index\":[0]},\"name\":\"Series:\",\"selected\":{\"id\":\"1442\",\"type\":\"Selection\"},\"selection_policy\":{\"id\":\"1441\",\"type\":\"UnionRenderers\"}},\"id\":\"1383\",\"type\":\"ColumnDataSource\"},{\"attributes\":{},\"id\":\"1421\",\"type\":\"UnionRenderers\"},{\"attributes\":{\"data_source\":{\"id\":\"1383\",\"type\":\"ColumnDataSource\"},\"glyph\":{\"id\":\"1385\",\"type\":\"Text\"},\"hover_glyph\":null,\"muted_glyph\":null,\"nonselection_glyph\":{\"id\":\"1386\",\"type\":\"Text\"},\"selection_glyph\":null,\"view\":{\"id\":\"1388\",\"type\":\"CDSView\"}},\"id\":\"1387\",\"type\":\"GlyphRenderer\"},{\"attributes\":{\"callback\":null,\"end\":750,\"start\":0},\"id\":\"1293\",\"type\":\"DataRange1d\"},{\"attributes\":{\"text\":{\"field\":\"count\"},\"text_align\":\"center\",\"text_alpha\":{\"value\":0.1},\"text_color\":{\"value\":\"black\"},\"text_font_size\":{\"value\":\"1em\"},\"x\":{\"field\":\"factors\"},\"y\":{\"field\":\"count\"},\"y_offset\":{\"value\":-4}},\"id\":\"1386\",\"type\":\"Text\"},{\"attributes\":{\"plot\":null,\"text\":\"Top 10 Well Recieved Game Genres on Steam\",\"text_color\":{\"value\":\"#333333\"},\"text_font_size\":{\"value\":\"18pt\"}},\"id\":\"1311\",\"type\":\"Title\"},{\"attributes\":{\"level\":\"overlay\",\"name\":\"subtitle\",\"plot\":{\"id\":\"1290\",\"subtype\":\"Figure\",\"type\":\"Plot\"},\"text\":\"Steam Website\",\"text_align\":\"right\",\"text_color\":{\"value\":\"#898989\"},\"text_font_size\":{\"value\":\"10px\"},\"x\":864.0,\"x_units\":\"screen\",\"y\":0,\"y_units\":\"screen\"},\"id\":\"1314\",\"type\":\"Label\"},{\"attributes\":{},\"id\":\"1418\",\"type\":\"CategoricalTickFormatter\"},{\"attributes\":{\"callback\":null,\"data\":{\"count\":[619,428,335,228,213,194,189,131,69,45],\"factors\":[\"Indie\",\"Action\",\"Adventure\",\"Strategy\",\"RPG\",\"Casual\",\"Simulation\",\"Free to Play\",\"Early Access\",\"Multiplayer\"],\"index\":[0,1,2,3,4,5,6,7,8,9]},\"name\":\"Series:\",\"selected\":{\"id\":\"1422\",\"type\":\"Selection\"},\"selection_policy\":{\"id\":\"1421\",\"type\":\"UnionRenderers\"}},\"id\":\"1319\",\"type\":\"ColumnDataSource\"},{\"attributes\":{\"plot\":{\"id\":\"1290\",\"subtype\":\"Figure\",\"type\":\"Plot\"},\"text\":\"\",\"text_color\":{\"value\":\"#666666\"},\"text_font_size\":{\"value\":\"12pt\"}},\"id\":\"1315\",\"type\":\"Title\"},{\"attributes\":{\"format\":\"0,0.[000]\"},\"id\":\"1321\",\"type\":\"NumeralTickFormatter\"}],\"root_ids\":[\"1290\"]},\"title\":\"Bokeh Application\",\"version\":\"1.0.1\"}};\n",
       "  var render_items = [{\"docid\":\"feff605a-68ee-4ddd-9029-2ed3e8902ed6\",\"roots\":{\"1290\":\"e8183225-8692-4f40-a675-a8b94ceb70e9\"}}];\n",
       "  root.Bokeh.embed.embed_items_notebook(docs_json, render_items);\n",
       "\n",
       "  }\n",
       "  if (root.Bokeh !== undefined) {\n",
       "    embed_document(root);\n",
       "  } else {\n",
       "    var attempts = 0;\n",
       "    var timer = setInterval(function(root) {\n",
       "      if (root.Bokeh !== undefined) {\n",
       "        embed_document(root);\n",
       "        clearInterval(timer);\n",
       "      }\n",
       "      attempts++;\n",
       "      if (attempts > 100) {\n",
       "        console.log(\"Bokeh: ERROR: Unable to run BokehJS code because BokehJS library is missing\");\n",
       "        clearInterval(timer);\n",
       "      }\n",
       "    }, 10, root)\n",
       "  }\n",
       "})(window);"
      ],
      "application/vnd.bokehjs_exec.v0+json": ""
     },
     "metadata": {
      "application/vnd.bokehjs_exec.v0+json": {
       "id": "1290"
      }
     },
     "output_type": "display_data"
    },
    {
     "data": {
      "text/html": [
       "\n",
       "\n",
       "\n",
       "\n",
       "\n",
       "\n",
       "  <div class=\"bk-root\" id=\"763294df-9ae4-4164-a82f-5691f974205d\"></div>\n"
      ]
     },
     "metadata": {},
     "output_type": "display_data"
    },
    {
     "data": {
      "application/javascript": [
       "(function(root) {\n",
       "  function embed_document(root) {\n",
       "    \n",
       "  var docs_json = {\"743e107a-bcd8-450e-87fd-5471e0ed5c27\":{\"roots\":{\"references\":[{\"attributes\":{\"above\":[{\"id\":\"1630\",\"type\":\"Title\"}],\"background_fill_color\":{\"value\":\"white\"},\"below\":[{\"id\":\"1614\",\"type\":\"LinearAxis\"},{\"id\":\"1629\",\"type\":\"Label\"}],\"border_fill_color\":{\"value\":\"white\"},\"left\":[{\"id\":\"1619\",\"type\":\"CategoricalAxis\"}],\"min_border_bottom\":60,\"min_border_left\":60,\"min_border_right\":60,\"min_border_top\":40,\"outline_line_color\":{\"value\":\"white\"},\"plot_height\":540,\"plot_width\":960,\"renderers\":[{\"id\":\"1614\",\"type\":\"LinearAxis\"},{\"id\":\"1618\",\"type\":\"Grid\"},{\"id\":\"1619\",\"type\":\"CategoricalAxis\"},{\"id\":\"1622\",\"type\":\"Grid\"},{\"id\":\"1629\",\"type\":\"Label\"},{\"id\":\"1630\",\"type\":\"Title\"},{\"id\":\"1641\",\"type\":\"GlyphRenderer\"},{\"id\":\"1648\",\"type\":\"GlyphRenderer\"},{\"id\":\"1654\",\"type\":\"GlyphRenderer\"},{\"id\":\"1660\",\"type\":\"GlyphRenderer\"},{\"id\":\"1666\",\"type\":\"GlyphRenderer\"},{\"id\":\"1672\",\"type\":\"GlyphRenderer\"},{\"id\":\"1678\",\"type\":\"GlyphRenderer\"},{\"id\":\"1684\",\"type\":\"GlyphRenderer\"},{\"id\":\"1690\",\"type\":\"GlyphRenderer\"},{\"id\":\"1696\",\"type\":\"GlyphRenderer\"},{\"id\":\"1702\",\"type\":\"GlyphRenderer\"}],\"title\":{\"id\":\"1626\",\"type\":\"Title\"},\"toolbar\":{\"id\":\"1624\",\"type\":\"Toolbar\"},\"x_range\":{\"id\":\"1606\",\"type\":\"DataRange1d\"},\"x_scale\":{\"id\":\"1610\",\"type\":\"LinearScale\"},\"y_range\":{\"id\":\"1608\",\"type\":\"FactorRange\"},\"y_scale\":{\"id\":\"1612\",\"type\":\"CategoricalScale\"}},\"id\":\"1605\",\"subtype\":\"Figure\",\"type\":\"Plot\"},{\"attributes\":{\"source\":{\"id\":\"1644\",\"type\":\"ColumnDataSource\"}},\"id\":\"1649\",\"type\":\"CDSView\"},{\"attributes\":{\"text\":{\"field\":\"count\"},\"text_baseline\":\"middle\",\"text_color\":{\"value\":\"#1f77b4\"},\"text_font_size\":{\"value\":\"1em\"},\"x\":{\"field\":\"count\"},\"x_offset\":{\"value\":10},\"y\":{\"field\":\"factors\"}},\"id\":\"1646\",\"type\":\"Text\"},{\"attributes\":{},\"id\":\"1783\",\"type\":\"UnionRenderers\"},{\"attributes\":{\"text\":{\"field\":\"count\"},\"text_alpha\":{\"value\":0.1},\"text_baseline\":\"middle\",\"text_color\":{\"value\":\"black\"},\"text_font_size\":{\"value\":\"1em\"},\"x\":{\"field\":\"count\"},\"x_offset\":{\"value\":10},\"y\":{\"field\":\"factors\"}},\"id\":\"1647\",\"type\":\"Text\"},{\"attributes\":{},\"id\":\"1780\",\"type\":\"Selection\"},{\"attributes\":{},\"id\":\"1761\",\"type\":\"CategoricalTickFormatter\"},{\"attributes\":{},\"id\":\"1610\",\"type\":\"LinearScale\"},{\"attributes\":{\"text\":{\"field\":\"count\"},\"text_baseline\":\"middle\",\"text_color\":{\"value\":\"#ff7f0e\"},\"text_font_size\":{\"value\":\"1em\"},\"x\":{\"field\":\"count\"},\"x_offset\":{\"value\":10},\"y\":{\"field\":\"factors\"}},\"id\":\"1652\",\"type\":\"Text\"},{\"attributes\":{\"data_source\":{\"id\":\"1644\",\"type\":\"ColumnDataSource\"},\"glyph\":{\"id\":\"1646\",\"type\":\"Text\"},\"hover_glyph\":null,\"muted_glyph\":null,\"nonselection_glyph\":{\"id\":\"1647\",\"type\":\"Text\"},\"selection_glyph\":null,\"view\":{\"id\":\"1649\",\"type\":\"CDSView\"}},\"id\":\"1648\",\"type\":\"GlyphRenderer\"},{\"attributes\":{},\"id\":\"1782\",\"type\":\"Selection\"},{\"attributes\":{\"text\":{\"field\":\"count\"},\"text_baseline\":\"middle\",\"text_color\":{\"value\":\"#7f7f7f\"},\"text_font_size\":{\"value\":\"1em\"},\"x\":{\"field\":\"count\"},\"x_offset\":{\"value\":10},\"y\":{\"field\":\"factors\"}},\"id\":\"1688\",\"type\":\"Text\"},{\"attributes\":{\"callback\":null,\"data\":{\"count\":[257],\"factors\":[\"Full controller support\"],\"index\":[0]},\"name\":\"Series:\",\"selected\":{\"id\":\"1768\",\"type\":\"Selection\"},\"selection_policy\":{\"id\":\"1767\",\"type\":\"UnionRenderers\"}},\"id\":\"1650\",\"type\":\"ColumnDataSource\"},{\"attributes\":{\"text\":{\"field\":\"count\"},\"text_alpha\":{\"value\":0.1},\"text_baseline\":\"middle\",\"text_color\":{\"value\":\"black\"},\"text_font_size\":{\"value\":\"1em\"},\"x\":{\"field\":\"count\"},\"x_offset\":{\"value\":10},\"y\":{\"field\":\"factors\"}},\"id\":\"1653\",\"type\":\"Text\"},{\"attributes\":{},\"id\":\"1781\",\"type\":\"UnionRenderers\"},{\"attributes\":{\"data_source\":{\"id\":\"1680\",\"type\":\"ColumnDataSource\"},\"glyph\":{\"id\":\"1682\",\"type\":\"Text\"},\"hover_glyph\":null,\"muted_glyph\":null,\"nonselection_glyph\":{\"id\":\"1683\",\"type\":\"Text\"},\"selection_glyph\":null,\"view\":{\"id\":\"1685\",\"type\":\"CDSView\"}},\"id\":\"1684\",\"type\":\"GlyphRenderer\"},{\"attributes\":{\"text\":{\"field\":\"count\"},\"text_alpha\":{\"value\":0.1},\"text_baseline\":\"middle\",\"text_color\":{\"value\":\"black\"},\"text_font_size\":{\"value\":\"1em\"},\"x\":{\"field\":\"count\"},\"x_offset\":{\"value\":10},\"y\":{\"field\":\"factors\"}},\"id\":\"1689\",\"type\":\"Text\"},{\"attributes\":{\"data_source\":{\"id\":\"1662\",\"type\":\"ColumnDataSource\"},\"glyph\":{\"id\":\"1664\",\"type\":\"Text\"},\"hover_glyph\":null,\"muted_glyph\":null,\"nonselection_glyph\":{\"id\":\"1665\",\"type\":\"Text\"},\"selection_glyph\":null,\"view\":{\"id\":\"1667\",\"type\":\"CDSView\"}},\"id\":\"1666\",\"type\":\"GlyphRenderer\"},{\"attributes\":{\"text\":{\"field\":\"count\"},\"text_baseline\":\"middle\",\"text_color\":{\"value\":\"#2ca02c\"},\"text_font_size\":{\"value\":\"1em\"},\"x\":{\"field\":\"count\"},\"x_offset\":{\"value\":10},\"y\":{\"field\":\"factors\"}},\"id\":\"1658\",\"type\":\"Text\"},{\"attributes\":{\"data_source\":{\"id\":\"1650\",\"type\":\"ColumnDataSource\"},\"glyph\":{\"id\":\"1652\",\"type\":\"Text\"},\"hover_glyph\":null,\"muted_glyph\":null,\"nonselection_glyph\":{\"id\":\"1653\",\"type\":\"Text\"},\"selection_glyph\":null,\"view\":{\"id\":\"1655\",\"type\":\"CDSView\"}},\"id\":\"1654\",\"type\":\"GlyphRenderer\"},{\"attributes\":{\"text\":{\"field\":\"count\"},\"text_baseline\":\"middle\",\"text_color\":{\"value\":\"#17becf\"},\"text_font_size\":{\"value\":\"1em\"},\"x\":{\"field\":\"count\"},\"x_offset\":{\"value\":10},\"y\":{\"field\":\"factors\"}},\"id\":\"1700\",\"type\":\"Text\"},{\"attributes\":{\"text\":{\"field\":\"count\"},\"text_alpha\":{\"value\":0.1},\"text_baseline\":\"middle\",\"text_color\":{\"value\":\"black\"},\"text_font_size\":{\"value\":\"1em\"},\"x\":{\"field\":\"count\"},\"x_offset\":{\"value\":10},\"y\":{\"field\":\"factors\"}},\"id\":\"1701\",\"type\":\"Text\"},{\"attributes\":{},\"id\":\"1774\",\"type\":\"Selection\"},{\"attributes\":{\"source\":{\"id\":\"1692\",\"type\":\"ColumnDataSource\"}},\"id\":\"1697\",\"type\":\"CDSView\"},{\"attributes\":{},\"id\":\"1779\",\"type\":\"UnionRenderers\"},{\"attributes\":{\"text\":{\"field\":\"count\"},\"text_alpha\":{\"value\":0.1},\"text_baseline\":\"middle\",\"text_color\":{\"value\":\"black\"},\"text_font_size\":{\"value\":\"1em\"},\"x\":{\"field\":\"count\"},\"x_offset\":{\"value\":10},\"y\":{\"field\":\"factors\"}},\"id\":\"1677\",\"type\":\"Text\"},{\"attributes\":{},\"id\":\"1623\",\"type\":\"SaveTool\"},{\"attributes\":{\"active_drag\":null,\"active_inspect\":\"auto\",\"active_multi\":null,\"active_scroll\":\"auto\",\"active_tap\":\"auto\",\"logo\":null,\"tools\":[{\"id\":\"1623\",\"type\":\"SaveTool\"}]},\"id\":\"1624\",\"type\":\"Toolbar\"},{\"attributes\":{\"data_source\":{\"id\":\"1686\",\"type\":\"ColumnDataSource\"},\"glyph\":{\"id\":\"1688\",\"type\":\"Text\"},\"hover_glyph\":null,\"muted_glyph\":null,\"nonselection_glyph\":{\"id\":\"1689\",\"type\":\"Text\"},\"selection_glyph\":null,\"view\":{\"id\":\"1691\",\"type\":\"CDSView\"}},\"id\":\"1690\",\"type\":\"GlyphRenderer\"},{\"attributes\":{\"source\":{\"id\":\"1650\",\"type\":\"ColumnDataSource\"}},\"id\":\"1655\",\"type\":\"CDSView\"},{\"attributes\":{\"text\":{\"field\":\"count\"},\"text_baseline\":\"middle\",\"text_color\":{\"value\":\"#9467bd\"},\"text_font_size\":{\"value\":\"1em\"},\"x\":{\"field\":\"count\"},\"x_offset\":{\"value\":10},\"y\":{\"field\":\"factors\"}},\"id\":\"1670\",\"type\":\"Text\"},{\"attributes\":{\"source\":{\"id\":\"1634\",\"type\":\"ColumnDataSource\"}},\"id\":\"1642\",\"type\":\"CDSView\"},{\"attributes\":{},\"id\":\"1778\",\"type\":\"Selection\"},{\"attributes\":{\"callback\":null,\"data\":{\"count\":[437],\"factors\":[\"Steam Cloud\"],\"index\":[0]},\"name\":\"Series:\",\"selected\":{\"id\":\"1780\",\"type\":\"Selection\"},\"selection_policy\":{\"id\":\"1779\",\"type\":\"UnionRenderers\"}},\"id\":\"1686\",\"type\":\"ColumnDataSource\"},{\"attributes\":{\"source\":{\"id\":\"1674\",\"type\":\"ColumnDataSource\"}},\"id\":\"1679\",\"type\":\"CDSView\"},{\"attributes\":{\"callback\":null,\"factor_padding\":0.25,\"factors\":[\"Online Multi-Player\",\"Co-op\",\"Steam Leaderboards\",\"Partial Controller Support\",\"Full controller support\",\"Multi-player\",\"Steam Cloud\",\"Steam Trading Cards\",\"Steam Achievements\",\"Single-player\"]},\"id\":\"1608\",\"type\":\"FactorRange\"},{\"attributes\":{},\"id\":\"1612\",\"type\":\"CategoricalScale\"},{\"attributes\":{\"data_source\":{\"id\":\"1634\",\"type\":\"ColumnDataSource\"},\"glyph\":{\"id\":\"1639\",\"type\":\"HBar\"},\"hover_glyph\":null,\"muted_glyph\":null,\"nonselection_glyph\":{\"id\":\"1640\",\"type\":\"HBar\"},\"selection_glyph\":null,\"view\":{\"id\":\"1642\",\"type\":\"CDSView\"}},\"id\":\"1641\",\"type\":\"GlyphRenderer\"},{\"attributes\":{\"axis_label\":\"Number of Games with Spec\",\"axis_label_text_color\":{\"value\":\"#666666\"},\"axis_label_text_font_size\":{\"value\":\"11pt\"},\"axis_label_text_font_style\":\"bold\",\"axis_line_color\":{\"value\":\"#C0C0C0\"},\"formatter\":{\"id\":\"1636\",\"type\":\"NumeralTickFormatter\"},\"major_label_text_color\":{\"value\":\"#898989\"},\"major_label_text_font_size\":{\"value\":\"10pt\"},\"major_tick_in\":0,\"major_tick_line_color\":{\"value\":\"#C0C0C0\"},\"major_tick_out\":4,\"minor_tick_line_color\":{\"value\":\"#C0C0C0\"},\"minor_tick_out\":1,\"plot\":{\"id\":\"1605\",\"subtype\":\"Figure\",\"type\":\"Plot\"},\"ticker\":{\"id\":\"1615\",\"type\":\"BasicTicker\"}},\"id\":\"1614\",\"type\":\"LinearAxis\"},{\"attributes\":{},\"id\":\"1777\",\"type\":\"UnionRenderers\"},{\"attributes\":{\"callback\":null,\"data\":{\"count\":[547],\"factors\":[\"Steam Trading Cards\"],\"index\":[0]},\"name\":\"Series:\",\"selected\":{\"id\":\"1784\",\"type\":\"Selection\"},\"selection_policy\":{\"id\":\"1783\",\"type\":\"UnionRenderers\"}},\"id\":\"1698\",\"type\":\"ColumnDataSource\"},{\"attributes\":{\"format\":\"0,0.[000]\"},\"id\":\"1636\",\"type\":\"NumeralTickFormatter\"},{\"attributes\":{\"source\":{\"id\":\"1662\",\"type\":\"ColumnDataSource\"}},\"id\":\"1667\",\"type\":\"CDSView\"},{\"attributes\":{},\"id\":\"1769\",\"type\":\"UnionRenderers\"},{\"attributes\":{\"data_source\":{\"id\":\"1698\",\"type\":\"ColumnDataSource\"},\"glyph\":{\"id\":\"1700\",\"type\":\"Text\"},\"hover_glyph\":null,\"muted_glyph\":null,\"nonselection_glyph\":{\"id\":\"1701\",\"type\":\"Text\"},\"selection_glyph\":null,\"view\":{\"id\":\"1703\",\"type\":\"CDSView\"}},\"id\":\"1702\",\"type\":\"GlyphRenderer\"},{\"attributes\":{},\"id\":\"1615\",\"type\":\"BasicTicker\"},{\"attributes\":{},\"id\":\"1776\",\"type\":\"Selection\"},{\"attributes\":{\"grid_line_color\":{\"value\":null},\"plot\":{\"id\":\"1605\",\"subtype\":\"Figure\",\"type\":\"Plot\"},\"ticker\":{\"id\":\"1615\",\"type\":\"BasicTicker\"}},\"id\":\"1618\",\"type\":\"Grid\"},{\"attributes\":{\"text\":{\"field\":\"count\"},\"text_baseline\":\"middle\",\"text_color\":{\"value\":\"#bcbd22\"},\"text_font_size\":{\"value\":\"1em\"},\"x\":{\"field\":\"count\"},\"x_offset\":{\"value\":10},\"y\":{\"field\":\"factors\"}},\"id\":\"1694\",\"type\":\"Text\"},{\"attributes\":{},\"id\":\"1775\",\"type\":\"UnionRenderers\"},{\"attributes\":{\"axis_label\":\"Specs\",\"axis_label_text_color\":{\"value\":\"#666666\"},\"axis_label_text_font_size\":{\"value\":\"11pt\"},\"axis_label_text_font_style\":\"bold\",\"axis_line_color\":{\"value\":\"#C0C0C0\"},\"formatter\":{\"id\":\"1761\",\"type\":\"CategoricalTickFormatter\"},\"group_text_font_size\":{\"value\":\"11pt\"},\"major_label_text_color\":{\"value\":\"#898989\"},\"major_label_text_font_size\":{\"value\":\"10pt\"},\"major_tick_in\":0,\"major_tick_line_color\":{\"value\":\"#C0C0C0\"},\"major_tick_out\":4,\"minor_tick_line_color\":{\"value\":\"#C0C0C0\"},\"minor_tick_out\":1,\"plot\":{\"id\":\"1605\",\"subtype\":\"Figure\",\"type\":\"Plot\"},\"separator_line_alpha\":{\"value\":0},\"subgroup_text_font_size\":{\"value\":\"11pt\"},\"ticker\":{\"id\":\"1620\",\"type\":\"CategoricalTicker\"}},\"id\":\"1619\",\"type\":\"CategoricalAxis\"},{\"attributes\":{\"data_source\":{\"id\":\"1656\",\"type\":\"ColumnDataSource\"},\"glyph\":{\"id\":\"1658\",\"type\":\"Text\"},\"hover_glyph\":null,\"muted_glyph\":null,\"nonselection_glyph\":{\"id\":\"1659\",\"type\":\"Text\"},\"selection_glyph\":null,\"view\":{\"id\":\"1661\",\"type\":\"CDSView\"}},\"id\":\"1660\",\"type\":\"GlyphRenderer\"},{\"attributes\":{},\"id\":\"1620\",\"type\":\"CategoricalTicker\"},{\"attributes\":{\"dimension\":1,\"grid_line_color\":{\"value\":null},\"plot\":{\"id\":\"1605\",\"subtype\":\"Figure\",\"type\":\"Plot\"},\"ticker\":{\"id\":\"1620\",\"type\":\"CategoricalTicker\"}},\"id\":\"1622\",\"type\":\"Grid\"},{\"attributes\":{\"callback\":null,\"data\":{\"count\":[286],\"factors\":[\"Multi-player\"],\"index\":[0]},\"name\":\"Series:\",\"selected\":{\"id\":\"1770\",\"type\":\"Selection\"},\"selection_policy\":{\"id\":\"1769\",\"type\":\"UnionRenderers\"}},\"id\":\"1656\",\"type\":\"ColumnDataSource\"},{\"attributes\":{\"text\":{\"field\":\"count\"},\"text_alpha\":{\"value\":0.1},\"text_baseline\":\"middle\",\"text_color\":{\"value\":\"black\"},\"text_font_size\":{\"value\":\"1em\"},\"x\":{\"field\":\"count\"},\"x_offset\":{\"value\":10},\"y\":{\"field\":\"factors\"}},\"id\":\"1659\",\"type\":\"Text\"},{\"attributes\":{\"source\":{\"id\":\"1686\",\"type\":\"ColumnDataSource\"}},\"id\":\"1691\",\"type\":\"CDSView\"},{\"attributes\":{\"plot\":null,\"text\":\"Top 10 Specs Well Received Games Have\",\"text_color\":{\"value\":\"#333333\"},\"text_font_size\":{\"value\":\"18pt\"}},\"id\":\"1626\",\"type\":\"Title\"},{\"attributes\":{\"text\":{\"field\":\"count\"},\"text_alpha\":{\"value\":0.1},\"text_baseline\":\"middle\",\"text_color\":{\"value\":\"black\"},\"text_font_size\":{\"value\":\"1em\"},\"x\":{\"field\":\"count\"},\"x_offset\":{\"value\":10},\"y\":{\"field\":\"factors\"}},\"id\":\"1683\",\"type\":\"Text\"},{\"attributes\":{},\"id\":\"1767\",\"type\":\"UnionRenderers\"},{\"attributes\":{\"data_source\":{\"id\":\"1668\",\"type\":\"ColumnDataSource\"},\"glyph\":{\"id\":\"1670\",\"type\":\"Text\"},\"hover_glyph\":null,\"muted_glyph\":null,\"nonselection_glyph\":{\"id\":\"1671\",\"type\":\"Text\"},\"selection_glyph\":null,\"view\":{\"id\":\"1673\",\"type\":\"CDSView\"}},\"id\":\"1672\",\"type\":\"GlyphRenderer\"},{\"attributes\":{},\"id\":\"1784\",\"type\":\"Selection\"},{\"attributes\":{\"callback\":null,\"data\":{\"count\":[680],\"factors\":[\"Steam Achievements\"],\"index\":[0]},\"name\":\"Series:\",\"selected\":{\"id\":\"1778\",\"type\":\"Selection\"},\"selection_policy\":{\"id\":\"1777\",\"type\":\"UnionRenderers\"}},\"id\":\"1680\",\"type\":\"ColumnDataSource\"},{\"attributes\":{\"callback\":null,\"data\":{\"count\":[209],\"factors\":[\"Partial Controller Support\"],\"index\":[0]},\"name\":\"Series:\",\"selected\":{\"id\":\"1774\",\"type\":\"Selection\"},\"selection_policy\":{\"id\":\"1773\",\"type\":\"UnionRenderers\"}},\"id\":\"1668\",\"type\":\"ColumnDataSource\"},{\"attributes\":{},\"id\":\"1768\",\"type\":\"Selection\"},{\"attributes\":{\"text\":{\"field\":\"count\"},\"text_baseline\":\"middle\",\"text_color\":{\"value\":\"#d62728\"},\"text_font_size\":{\"value\":\"1em\"},\"x\":{\"field\":\"count\"},\"x_offset\":{\"value\":10},\"y\":{\"field\":\"factors\"}},\"id\":\"1664\",\"type\":\"Text\"},{\"attributes\":{\"text\":{\"field\":\"count\"},\"text_alpha\":{\"value\":0.1},\"text_baseline\":\"middle\",\"text_color\":{\"value\":\"black\"},\"text_font_size\":{\"value\":\"1em\"},\"x\":{\"field\":\"count\"},\"x_offset\":{\"value\":10},\"y\":{\"field\":\"factors\"}},\"id\":\"1671\",\"type\":\"Text\"},{\"attributes\":{\"callback\":null,\"end\":1000,\"start\":0},\"id\":\"1606\",\"type\":\"DataRange1d\"},{\"attributes\":{\"source\":{\"id\":\"1698\",\"type\":\"ColumnDataSource\"}},\"id\":\"1703\",\"type\":\"CDSView\"},{\"attributes\":{\"callback\":null,\"data\":{\"count\":[190],\"factors\":[\"Steam Leaderboards\"],\"index\":[0]},\"name\":\"Series:\",\"selected\":{\"id\":\"1782\",\"type\":\"Selection\"},\"selection_policy\":{\"id\":\"1781\",\"type\":\"UnionRenderers\"}},\"id\":\"1692\",\"type\":\"ColumnDataSource\"},{\"attributes\":{\"end\":1,\"factors\":[\"Co-op\",\"Full controller support\",\"Multi-player\",\"Online Multi-Player\",\"Partial Controller Support\",\"Single-player\",\"Steam Achievements\",\"Steam Cloud\",\"Steam Leaderboards\",\"Steam Trading Cards\"],\"palette\":[\"#1f77b4\",\"#ff7f0e\",\"#2ca02c\",\"#d62728\",\"#9467bd\",\"#8c564b\",\"#e377c2\",\"#7f7f7f\",\"#bcbd22\",\"#17becf\"]},\"id\":\"1635\",\"type\":\"CategoricalColorMapper\"},{\"attributes\":{\"data_source\":{\"id\":\"1692\",\"type\":\"ColumnDataSource\"},\"glyph\":{\"id\":\"1694\",\"type\":\"Text\"},\"hover_glyph\":null,\"muted_glyph\":null,\"nonselection_glyph\":{\"id\":\"1695\",\"type\":\"Text\"},\"selection_glyph\":null,\"view\":{\"id\":\"1697\",\"type\":\"CDSView\"}},\"id\":\"1696\",\"type\":\"GlyphRenderer\"},{\"attributes\":{\"source\":{\"id\":\"1656\",\"type\":\"ColumnDataSource\"}},\"id\":\"1661\",\"type\":\"CDSView\"},{\"attributes\":{\"text\":{\"field\":\"count\"},\"text_baseline\":\"middle\",\"text_color\":{\"value\":\"#8c564b\"},\"text_font_size\":{\"value\":\"1em\"},\"x\":{\"field\":\"count\"},\"x_offset\":{\"value\":10},\"y\":{\"field\":\"factors\"}},\"id\":\"1676\",\"type\":\"Text\"},{\"attributes\":{},\"id\":\"1773\",\"type\":\"UnionRenderers\"},{\"attributes\":{\"plot\":{\"id\":\"1605\",\"subtype\":\"Figure\",\"type\":\"Plot\"},\"text\":\"\",\"text_color\":{\"value\":\"#666666\"},\"text_font_size\":{\"value\":\"12pt\"}},\"id\":\"1630\",\"type\":\"Title\"},{\"attributes\":{\"callback\":null,\"data\":{\"count\":[138],\"factors\":[\"Co-op\"],\"index\":[0]},\"name\":\"Series:\",\"selected\":{\"id\":\"1766\",\"type\":\"Selection\"},\"selection_policy\":{\"id\":\"1765\",\"type\":\"UnionRenderers\"}},\"id\":\"1644\",\"type\":\"ColumnDataSource\"},{\"attributes\":{},\"id\":\"1771\",\"type\":\"UnionRenderers\"},{\"attributes\":{\"data_source\":{\"id\":\"1674\",\"type\":\"ColumnDataSource\"},\"glyph\":{\"id\":\"1676\",\"type\":\"Text\"},\"hover_glyph\":null,\"muted_glyph\":null,\"nonselection_glyph\":{\"id\":\"1677\",\"type\":\"Text\"},\"selection_glyph\":null,\"view\":{\"id\":\"1679\",\"type\":\"CDSView\"}},\"id\":\"1678\",\"type\":\"GlyphRenderer\"},{\"attributes\":{},\"id\":\"1764\",\"type\":\"Selection\"},{\"attributes\":{\"text\":{\"field\":\"count\"},\"text_alpha\":{\"value\":0.1},\"text_baseline\":\"middle\",\"text_color\":{\"value\":\"black\"},\"text_font_size\":{\"value\":\"1em\"},\"x\":{\"field\":\"count\"},\"x_offset\":{\"value\":10},\"y\":{\"field\":\"factors\"}},\"id\":\"1695\",\"type\":\"Text\"},{\"attributes\":{},\"id\":\"1765\",\"type\":\"UnionRenderers\"},{\"attributes\":{},\"id\":\"1772\",\"type\":\"Selection\"},{\"attributes\":{\"level\":\"overlay\",\"name\":\"subtitle\",\"plot\":{\"id\":\"1605\",\"subtype\":\"Figure\",\"type\":\"Plot\"},\"text\":\"Steam Website\",\"text_align\":\"right\",\"text_color\":{\"value\":\"#898989\"},\"text_font_size\":{\"value\":\"10px\"},\"x\":864.0,\"x_units\":\"screen\",\"y\":0,\"y_units\":\"screen\"},\"id\":\"1629\",\"type\":\"Label\"},{\"attributes\":{\"text\":{\"field\":\"count\"},\"text_alpha\":{\"value\":0.1},\"text_baseline\":\"middle\",\"text_color\":{\"value\":\"black\"},\"text_font_size\":{\"value\":\"1em\"},\"x\":{\"field\":\"count\"},\"x_offset\":{\"value\":10},\"y\":{\"field\":\"factors\"}},\"id\":\"1665\",\"type\":\"Text\"},{\"attributes\":{\"fill_color\":{\"field\":\"factors\",\"transform\":{\"id\":\"1635\",\"type\":\"CategoricalColorMapper\"}},\"height\":{\"value\":0.9},\"line_color\":{\"value\":\"white\"},\"right\":{\"field\":\"count\"},\"y\":{\"field\":\"factors\"}},\"id\":\"1639\",\"type\":\"HBar\"},{\"attributes\":{\"text\":{\"field\":\"count\"},\"text_baseline\":\"middle\",\"text_color\":{\"value\":\"#e377c2\"},\"text_font_size\":{\"value\":\"1em\"},\"x\":{\"field\":\"count\"},\"x_offset\":{\"value\":10},\"y\":{\"field\":\"factors\"}},\"id\":\"1682\",\"type\":\"Text\"},{\"attributes\":{},\"id\":\"1766\",\"type\":\"Selection\"},{\"attributes\":{\"source\":{\"id\":\"1668\",\"type\":\"ColumnDataSource\"}},\"id\":\"1673\",\"type\":\"CDSView\"},{\"attributes\":{\"callback\":null,\"data\":{\"count\":[126],\"factors\":[\"Online Multi-Player\"],\"index\":[0]},\"name\":\"Series:\",\"selected\":{\"id\":\"1772\",\"type\":\"Selection\"},\"selection_policy\":{\"id\":\"1771\",\"type\":\"UnionRenderers\"}},\"id\":\"1662\",\"type\":\"ColumnDataSource\"},{\"attributes\":{},\"id\":\"1763\",\"type\":\"UnionRenderers\"},{\"attributes\":{},\"id\":\"1770\",\"type\":\"Selection\"},{\"attributes\":{\"source\":{\"id\":\"1680\",\"type\":\"ColumnDataSource\"}},\"id\":\"1685\",\"type\":\"CDSView\"},{\"attributes\":{\"callback\":null,\"data\":{\"count\":[126,138,190,209,257,286,437,547,680,911],\"factors\":[\"Online Multi-Player\",\"Co-op\",\"Steam Leaderboards\",\"Partial Controller Support\",\"Full controller support\",\"Multi-player\",\"Steam Cloud\",\"Steam Trading Cards\",\"Steam Achievements\",\"Single-player\"],\"index\":[0,1,2,3,4,5,6,7,8,9]},\"name\":\"Series:\",\"selected\":{\"id\":\"1764\",\"type\":\"Selection\"},\"selection_policy\":{\"id\":\"1763\",\"type\":\"UnionRenderers\"}},\"id\":\"1634\",\"type\":\"ColumnDataSource\"},{\"attributes\":{\"fill_alpha\":{\"value\":0.1},\"fill_color\":{\"value\":\"#1f77b4\"},\"height\":{\"value\":0.9},\"line_alpha\":{\"value\":0.1},\"line_color\":{\"value\":\"#1f77b4\"},\"right\":{\"field\":\"count\"},\"y\":{\"field\":\"factors\"}},\"id\":\"1640\",\"type\":\"HBar\"},{\"attributes\":{\"callback\":null,\"data\":{\"count\":[911],\"factors\":[\"Single-player\"],\"index\":[0]},\"name\":\"Series:\",\"selected\":{\"id\":\"1776\",\"type\":\"Selection\"},\"selection_policy\":{\"id\":\"1775\",\"type\":\"UnionRenderers\"}},\"id\":\"1674\",\"type\":\"ColumnDataSource\"}],\"root_ids\":[\"1605\"]},\"title\":\"Bokeh Application\",\"version\":\"1.0.1\"}};\n",
       "  var render_items = [{\"docid\":\"743e107a-bcd8-450e-87fd-5471e0ed5c27\",\"roots\":{\"1605\":\"763294df-9ae4-4164-a82f-5691f974205d\"}}];\n",
       "  root.Bokeh.embed.embed_items_notebook(docs_json, render_items);\n",
       "\n",
       "  }\n",
       "  if (root.Bokeh !== undefined) {\n",
       "    embed_document(root);\n",
       "  } else {\n",
       "    var attempts = 0;\n",
       "    var timer = setInterval(function(root) {\n",
       "      if (root.Bokeh !== undefined) {\n",
       "        embed_document(root);\n",
       "        clearInterval(timer);\n",
       "      }\n",
       "      attempts++;\n",
       "      if (attempts > 100) {\n",
       "        console.log(\"Bokeh: ERROR: Unable to run BokehJS code because BokehJS library is missing\");\n",
       "        clearInterval(timer);\n",
       "      }\n",
       "    }, 10, root)\n",
       "  }\n",
       "})(window);"
      ],
      "application/vnd.bokehjs_exec.v0+json": ""
     },
     "metadata": {
      "application/vnd.bokehjs_exec.v0+json": {
       "id": "1605"
      }
     },
     "output_type": "display_data"
    },
    {
     "data": {
      "text/html": [
       "\n",
       "\n",
       "\n",
       "\n",
       "\n",
       "\n",
       "  <div class=\"bk-root\" id=\"a3d7d137-aec6-44c1-ad51-fe1fbe9ece10\"></div>\n"
      ]
     },
     "metadata": {},
     "output_type": "display_data"
    },
    {
     "data": {
      "application/javascript": [
       "(function(root) {\n",
       "  function embed_document(root) {\n",
       "    \n",
       "  var docs_json = {\"e05ffe92-8397-45c9-95d6-a43df0f086a4\":{\"roots\":{\"references\":[{\"attributes\":{\"above\":[{\"id\":\"1972\",\"type\":\"Title\"}],\"background_fill_color\":{\"value\":\"white\"},\"below\":[{\"id\":\"1956\",\"type\":\"CategoricalAxis\"},{\"id\":\"1971\",\"type\":\"Label\"}],\"border_fill_color\":{\"value\":\"white\"},\"left\":[{\"id\":\"1960\",\"type\":\"LinearAxis\"}],\"min_border_bottom\":60,\"min_border_left\":60,\"min_border_right\":60,\"min_border_top\":40,\"outline_line_color\":{\"value\":\"white\"},\"plot_height\":540,\"plot_width\":960,\"renderers\":[{\"id\":\"1956\",\"type\":\"CategoricalAxis\"},{\"id\":\"1959\",\"type\":\"Grid\"},{\"id\":\"1960\",\"type\":\"LinearAxis\"},{\"id\":\"1964\",\"type\":\"Grid\"},{\"id\":\"1971\",\"type\":\"Label\"},{\"id\":\"1972\",\"type\":\"Title\"},{\"id\":\"1983\",\"type\":\"GlyphRenderer\"},{\"id\":\"1990\",\"type\":\"GlyphRenderer\"},{\"id\":\"1996\",\"type\":\"GlyphRenderer\"},{\"id\":\"2002\",\"type\":\"GlyphRenderer\"},{\"id\":\"2008\",\"type\":\"GlyphRenderer\"}],\"title\":{\"id\":\"1968\",\"type\":\"Title\"},\"toolbar\":{\"id\":\"1966\",\"type\":\"Toolbar\"},\"x_range\":{\"id\":\"1948\",\"type\":\"FactorRange\"},\"x_scale\":{\"id\":\"1952\",\"type\":\"CategoricalScale\"},\"y_range\":{\"id\":\"1950\",\"type\":\"DataRange1d\"},\"y_scale\":{\"id\":\"1954\",\"type\":\"LinearScale\"}},\"id\":\"1947\",\"subtype\":\"Figure\",\"type\":\"Plot\"},{\"attributes\":{\"callback\":null,\"data\":{\"count\":[465],\"factors\":[\"Mac\"],\"index\":[0]},\"name\":\"Series:\",\"selected\":{\"id\":\"2101\",\"type\":\"Selection\"},\"selection_policy\":{\"id\":\"2100\",\"type\":\"UnionRenderers\"}},\"id\":\"1992\",\"type\":\"ColumnDataSource\"},{\"attributes\":{\"text\":{\"field\":\"count\"},\"text_align\":\"center\",\"text_alpha\":{\"value\":0.1},\"text_color\":{\"value\":\"black\"},\"text_font_size\":{\"value\":\"1em\"},\"x\":{\"field\":\"factors\"},\"y\":{\"field\":\"count\"},\"y_offset\":{\"value\":-4}},\"id\":\"2001\",\"type\":\"Text\"},{\"attributes\":{},\"id\":\"1952\",\"type\":\"CategoricalScale\"},{\"attributes\":{\"fill_color\":{\"field\":\"factors\",\"transform\":{\"id\":\"1977\",\"type\":\"CategoricalColorMapper\"}},\"line_color\":{\"value\":\"white\"},\"top\":{\"field\":\"count\"},\"width\":{\"value\":0.9},\"x\":{\"field\":\"factors\"}},\"id\":\"1981\",\"type\":\"VBar\"},{\"attributes\":{\"callback\":null,\"end\":1100,\"start\":0},\"id\":\"1950\",\"type\":\"DataRange1d\"},{\"attributes\":{\"format\":\"0,0.[0000]\"},\"id\":\"1978\",\"type\":\"NumeralTickFormatter\"},{\"attributes\":{\"source\":{\"id\":\"1986\",\"type\":\"ColumnDataSource\"}},\"id\":\"1991\",\"type\":\"CDSView\"},{\"attributes\":{},\"id\":\"2104\",\"type\":\"UnionRenderers\"},{\"attributes\":{\"data_source\":{\"id\":\"2004\",\"type\":\"ColumnDataSource\"},\"glyph\":{\"id\":\"2006\",\"type\":\"Text\"},\"hover_glyph\":null,\"muted_glyph\":null,\"nonselection_glyph\":{\"id\":\"2007\",\"type\":\"Text\"},\"selection_glyph\":null,\"view\":{\"id\":\"2009\",\"type\":\"CDSView\"}},\"id\":\"2008\",\"type\":\"GlyphRenderer\"},{\"attributes\":{\"plot\":{\"id\":\"1947\",\"subtype\":\"Figure\",\"type\":\"Plot\"},\"text\":\"\",\"text_color\":{\"value\":\"#666666\"},\"text_font_size\":{\"value\":\"12pt\"}},\"id\":\"1972\",\"type\":\"Title\"},{\"attributes\":{\"data_source\":{\"id\":\"1986\",\"type\":\"ColumnDataSource\"},\"glyph\":{\"id\":\"1988\",\"type\":\"Text\"},\"hover_glyph\":null,\"muted_glyph\":null,\"nonselection_glyph\":{\"id\":\"1989\",\"type\":\"Text\"},\"selection_glyph\":null,\"view\":{\"id\":\"1991\",\"type\":\"CDSView\"}},\"id\":\"1990\",\"type\":\"GlyphRenderer\"},{\"attributes\":{\"active_drag\":null,\"active_inspect\":\"auto\",\"active_multi\":null,\"active_scroll\":\"auto\",\"active_tap\":\"auto\",\"logo\":null,\"tools\":[{\"id\":\"1965\",\"type\":\"SaveTool\"}]},\"id\":\"1966\",\"type\":\"Toolbar\"},{\"attributes\":{\"callback\":null,\"data\":{\"count\":[1000,465,336,41],\"factors\":[\"Windows\",\"Mac\",\"Linux\",\"SteamOS\"],\"index\":[0,1,2,3]},\"name\":\"Series:\",\"selected\":{\"id\":\"2097\",\"type\":\"Selection\"},\"selection_policy\":{\"id\":\"2096\",\"type\":\"UnionRenderers\"}},\"id\":\"1976\",\"type\":\"ColumnDataSource\"},{\"attributes\":{},\"id\":\"1965\",\"type\":\"SaveTool\"},{\"attributes\":{\"source\":{\"id\":\"1998\",\"type\":\"ColumnDataSource\"}},\"id\":\"2003\",\"type\":\"CDSView\"},{\"attributes\":{\"source\":{\"id\":\"1992\",\"type\":\"ColumnDataSource\"}},\"id\":\"1997\",\"type\":\"CDSView\"},{\"attributes\":{},\"id\":\"2097\",\"type\":\"Selection\"},{\"attributes\":{\"data_source\":{\"id\":\"1998\",\"type\":\"ColumnDataSource\"},\"glyph\":{\"id\":\"2000\",\"type\":\"Text\"},\"hover_glyph\":null,\"muted_glyph\":null,\"nonselection_glyph\":{\"id\":\"2001\",\"type\":\"Text\"},\"selection_glyph\":null,\"view\":{\"id\":\"2003\",\"type\":\"CDSView\"}},\"id\":\"2002\",\"type\":\"GlyphRenderer\"},{\"attributes\":{},\"id\":\"2103\",\"type\":\"Selection\"},{\"attributes\":{},\"id\":\"2102\",\"type\":\"UnionRenderers\"},{\"attributes\":{\"data_source\":{\"id\":\"1992\",\"type\":\"ColumnDataSource\"},\"glyph\":{\"id\":\"1994\",\"type\":\"Text\"},\"hover_glyph\":null,\"muted_glyph\":null,\"nonselection_glyph\":{\"id\":\"1995\",\"type\":\"Text\"},\"selection_glyph\":null,\"view\":{\"id\":\"1997\",\"type\":\"CDSView\"}},\"id\":\"1996\",\"type\":\"GlyphRenderer\"},{\"attributes\":{\"text\":{\"field\":\"count\"},\"text_align\":\"center\",\"text_alpha\":{\"value\":0.1},\"text_color\":{\"value\":\"black\"},\"text_font_size\":{\"value\":\"1em\"},\"x\":{\"field\":\"factors\"},\"y\":{\"field\":\"count\"},\"y_offset\":{\"value\":-4}},\"id\":\"1989\",\"type\":\"Text\"},{\"attributes\":{\"source\":{\"id\":\"2004\",\"type\":\"ColumnDataSource\"}},\"id\":\"2009\",\"type\":\"CDSView\"},{\"attributes\":{},\"id\":\"1954\",\"type\":\"LinearScale\"},{\"attributes\":{\"text\":{\"field\":\"count\"},\"text_align\":\"center\",\"text_color\":{\"value\":\"#ff7f0e\"},\"text_font_size\":{\"value\":\"1em\"},\"x\":{\"field\":\"factors\"},\"y\":{\"field\":\"count\"},\"y_offset\":{\"value\":-4}},\"id\":\"1994\",\"type\":\"Text\"},{\"attributes\":{\"dimension\":1,\"grid_line_color\":{\"value\":null},\"plot\":{\"id\":\"1947\",\"subtype\":\"Figure\",\"type\":\"Plot\"},\"ticker\":{\"id\":\"1961\",\"type\":\"BasicTicker\"}},\"id\":\"1964\",\"type\":\"Grid\"},{\"attributes\":{},\"id\":\"2098\",\"type\":\"UnionRenderers\"},{\"attributes\":{\"axis_label\":\"Platform\",\"axis_label_text_color\":{\"value\":\"#666666\"},\"axis_label_text_font_size\":{\"value\":\"11pt\"},\"axis_label_text_font_style\":\"bold\",\"axis_line_color\":{\"value\":\"#C0C0C0\"},\"formatter\":{\"id\":\"2093\",\"type\":\"CategoricalTickFormatter\"},\"group_text_font_size\":{\"value\":\"11pt\"},\"major_label_text_color\":{\"value\":\"#898989\"},\"major_label_text_font_size\":{\"value\":\"10pt\"},\"major_tick_in\":0,\"major_tick_line_color\":{\"value\":\"#C0C0C0\"},\"major_tick_out\":4,\"minor_tick_line_color\":{\"value\":\"#C0C0C0\"},\"minor_tick_out\":1,\"plot\":{\"id\":\"1947\",\"subtype\":\"Figure\",\"type\":\"Plot\"},\"separator_line_alpha\":{\"value\":0},\"subgroup_text_font_size\":{\"value\":\"11pt\"},\"ticker\":{\"id\":\"1957\",\"type\":\"CategoricalTicker\"}},\"id\":\"1956\",\"type\":\"CategoricalAxis\"},{\"attributes\":{},\"id\":\"2099\",\"type\":\"Selection\"},{\"attributes\":{\"callback\":null,\"data\":{\"count\":[41],\"factors\":[\"SteamOS\"],\"index\":[0]},\"name\":\"Series:\",\"selected\":{\"id\":\"2103\",\"type\":\"Selection\"},\"selection_policy\":{\"id\":\"2102\",\"type\":\"UnionRenderers\"}},\"id\":\"1998\",\"type\":\"ColumnDataSource\"},{\"attributes\":{},\"id\":\"2100\",\"type\":\"UnionRenderers\"},{\"attributes\":{\"grid_line_color\":{\"value\":null},\"plot\":{\"id\":\"1947\",\"subtype\":\"Figure\",\"type\":\"Plot\"},\"ticker\":{\"id\":\"1957\",\"type\":\"CategoricalTicker\"}},\"id\":\"1959\",\"type\":\"Grid\"},{\"attributes\":{\"end\":1,\"factors\":[\"Linux\",\"Mac\",\"SteamOS\",\"Windows\"],\"palette\":[\"#1f77b4\",\"#ff7f0e\",\"#2ca02c\",\"#d62728\"]},\"id\":\"1977\",\"type\":\"CategoricalColorMapper\"},{\"attributes\":{},\"id\":\"2101\",\"type\":\"Selection\"},{\"attributes\":{\"callback\":null,\"data\":{\"count\":[1000],\"factors\":[\"Windows\"],\"index\":[0]},\"name\":\"Series:\",\"selected\":{\"id\":\"2105\",\"type\":\"Selection\"},\"selection_policy\":{\"id\":\"2104\",\"type\":\"UnionRenderers\"}},\"id\":\"2004\",\"type\":\"ColumnDataSource\"},{\"attributes\":{\"text\":{\"field\":\"count\"},\"text_align\":\"center\",\"text_color\":{\"value\":\"#1f77b4\"},\"text_font_size\":{\"value\":\"1em\"},\"x\":{\"field\":\"factors\"},\"y\":{\"field\":\"count\"},\"y_offset\":{\"value\":-4}},\"id\":\"1988\",\"type\":\"Text\"},{\"attributes\":{\"text\":{\"field\":\"count\"},\"text_align\":\"center\",\"text_color\":{\"value\":\"#2ca02c\"},\"text_font_size\":{\"value\":\"1em\"},\"x\":{\"field\":\"factors\"},\"y\":{\"field\":\"count\"},\"y_offset\":{\"value\":-4}},\"id\":\"2000\",\"type\":\"Text\"},{\"attributes\":{},\"id\":\"2093\",\"type\":\"CategoricalTickFormatter\"},{\"attributes\":{\"callback\":null,\"factor_padding\":0.25,\"factors\":[\"Windows\",\"Mac\",\"Linux\",\"SteamOS\"]},\"id\":\"1948\",\"type\":\"FactorRange\"},{\"attributes\":{},\"id\":\"2096\",\"type\":\"UnionRenderers\"},{\"attributes\":{\"plot\":null,\"text\":\"Number of Games Represented on Each Platform in Top 1000\",\"text_color\":{\"value\":\"#333333\"},\"text_font_size\":{\"value\":\"18pt\"}},\"id\":\"1968\",\"type\":\"Title\"},{\"attributes\":{\"callback\":null,\"data\":{\"count\":[336],\"factors\":[\"Linux\"],\"index\":[0]},\"name\":\"Series:\",\"selected\":{\"id\":\"2099\",\"type\":\"Selection\"},\"selection_policy\":{\"id\":\"2098\",\"type\":\"UnionRenderers\"}},\"id\":\"1986\",\"type\":\"ColumnDataSource\"},{\"attributes\":{},\"id\":\"1957\",\"type\":\"CategoricalTicker\"},{\"attributes\":{\"text\":{\"field\":\"count\"},\"text_align\":\"center\",\"text_alpha\":{\"value\":0.1},\"text_color\":{\"value\":\"black\"},\"text_font_size\":{\"value\":\"1em\"},\"x\":{\"field\":\"factors\"},\"y\":{\"field\":\"count\"},\"y_offset\":{\"value\":-4}},\"id\":\"2007\",\"type\":\"Text\"},{\"attributes\":{},\"id\":\"1961\",\"type\":\"BasicTicker\"},{\"attributes\":{\"fill_alpha\":{\"value\":0.1},\"fill_color\":{\"value\":\"#1f77b4\"},\"line_alpha\":{\"value\":0.1},\"line_color\":{\"value\":\"#1f77b4\"},\"top\":{\"field\":\"count\"},\"width\":{\"value\":0.9},\"x\":{\"field\":\"factors\"}},\"id\":\"1982\",\"type\":\"VBar\"},{\"attributes\":{},\"id\":\"2105\",\"type\":\"Selection\"},{\"attributes\":{\"data_source\":{\"id\":\"1976\",\"type\":\"ColumnDataSource\"},\"glyph\":{\"id\":\"1981\",\"type\":\"VBar\"},\"hover_glyph\":null,\"muted_glyph\":null,\"nonselection_glyph\":{\"id\":\"1982\",\"type\":\"VBar\"},\"selection_glyph\":null,\"view\":{\"id\":\"1984\",\"type\":\"CDSView\"}},\"id\":\"1983\",\"type\":\"GlyphRenderer\"},{\"attributes\":{\"level\":\"overlay\",\"name\":\"subtitle\",\"plot\":{\"id\":\"1947\",\"subtype\":\"Figure\",\"type\":\"Plot\"},\"text\":\"Steam Website\",\"text_align\":\"right\",\"text_color\":{\"value\":\"#898989\"},\"text_font_size\":{\"value\":\"10px\"},\"x\":864.0,\"x_units\":\"screen\",\"y\":0,\"y_units\":\"screen\"},\"id\":\"1971\",\"type\":\"Label\"},{\"attributes\":{\"axis_label\":\"Number of Games\",\"axis_label_text_color\":{\"value\":\"#666666\"},\"axis_label_text_font_size\":{\"value\":\"11pt\"},\"axis_label_text_font_style\":\"bold\",\"axis_line_color\":{\"value\":\"#C0C0C0\"},\"formatter\":{\"id\":\"1978\",\"type\":\"NumeralTickFormatter\"},\"major_label_text_color\":{\"value\":\"#898989\"},\"major_label_text_font_size\":{\"value\":\"10pt\"},\"major_tick_in\":0,\"major_tick_line_color\":{\"value\":\"#C0C0C0\"},\"major_tick_out\":4,\"minor_tick_line_color\":{\"value\":\"#C0C0C0\"},\"minor_tick_out\":1,\"plot\":{\"id\":\"1947\",\"subtype\":\"Figure\",\"type\":\"Plot\"},\"ticker\":{\"id\":\"1961\",\"type\":\"BasicTicker\"}},\"id\":\"1960\",\"type\":\"LinearAxis\"},{\"attributes\":{\"source\":{\"id\":\"1976\",\"type\":\"ColumnDataSource\"}},\"id\":\"1984\",\"type\":\"CDSView\"},{\"attributes\":{\"text\":{\"field\":\"count\"},\"text_align\":\"center\",\"text_color\":{\"value\":\"#d62728\"},\"text_font_size\":{\"value\":\"1em\"},\"x\":{\"field\":\"factors\"},\"y\":{\"field\":\"count\"},\"y_offset\":{\"value\":-4}},\"id\":\"2006\",\"type\":\"Text\"},{\"attributes\":{\"text\":{\"field\":\"count\"},\"text_align\":\"center\",\"text_alpha\":{\"value\":0.1},\"text_color\":{\"value\":\"black\"},\"text_font_size\":{\"value\":\"1em\"},\"x\":{\"field\":\"factors\"},\"y\":{\"field\":\"count\"},\"y_offset\":{\"value\":-4}},\"id\":\"1995\",\"type\":\"Text\"}],\"root_ids\":[\"1947\"]},\"title\":\"Bokeh Application\",\"version\":\"1.0.1\"}};\n",
       "  var render_items = [{\"docid\":\"e05ffe92-8397-45c9-95d6-a43df0f086a4\",\"roots\":{\"1947\":\"a3d7d137-aec6-44c1-ad51-fe1fbe9ece10\"}}];\n",
       "  root.Bokeh.embed.embed_items_notebook(docs_json, render_items);\n",
       "\n",
       "  }\n",
       "  if (root.Bokeh !== undefined) {\n",
       "    embed_document(root);\n",
       "  } else {\n",
       "    var attempts = 0;\n",
       "    var timer = setInterval(function(root) {\n",
       "      if (root.Bokeh !== undefined) {\n",
       "        embed_document(root);\n",
       "        clearInterval(timer);\n",
       "      }\n",
       "      attempts++;\n",
       "      if (attempts > 100) {\n",
       "        console.log(\"Bokeh: ERROR: Unable to run BokehJS code because BokehJS library is missing\");\n",
       "        clearInterval(timer);\n",
       "      }\n",
       "    }, 10, root)\n",
       "  }\n",
       "})(window);"
      ],
      "application/vnd.bokehjs_exec.v0+json": ""
     },
     "metadata": {
      "application/vnd.bokehjs_exec.v0+json": {
       "id": "1947"
      }
     },
     "output_type": "display_data"
    }
   ],
   "source": [
    "def main():\n",
    "    plotPublisher1000()\n",
    "    plotGenre1000()\n",
    "    plotSpecs1000()\n",
    "    plotPlatform1000()\n",
    "    \n",
    "if __name__ == \"__main__\":\n",
    "    main()"
   ]
  },
  {
   "cell_type": "code",
   "execution_count": null,
   "metadata": {},
   "outputs": [],
   "source": []
  }
 ],
 "metadata": {
  "kernelspec": {
   "display_name": "Python 3",
   "language": "python",
   "name": "python3"
  },
  "language_info": {
   "codemirror_mode": {
    "name": "ipython",
    "version": 3
   },
   "file_extension": ".py",
   "mimetype": "text/x-python",
   "name": "python",
   "nbconvert_exporter": "python",
   "pygments_lexer": "ipython3",
   "version": "3.7.0"
  }
 },
 "nbformat": 4,
 "nbformat_minor": 2
}
